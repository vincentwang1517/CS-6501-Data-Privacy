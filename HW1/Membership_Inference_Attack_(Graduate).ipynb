{
  "cells": [
    {
      "cell_type": "markdown",
      "metadata": {
        "id": "view-in-github",
        "colab_type": "text"
      },
      "source": [
        "<a href=\"https://colab.research.google.com/github/vincentwang1517/CS-6501-Data-Privacy/blob/main/HW1/Membership_Inference_Attack_(Graduate).ipynb\" target=\"_parent\"><img src=\"https://colab.research.google.com/assets/colab-badge.svg\" alt=\"Open In Colab\"/></a>"
      ]
    },
    {
      "cell_type": "markdown",
      "metadata": {
        "id": "bbNaHxgYDNfY"
      },
      "source": [
        "### **1. Introduction about training a neural network model to implement image classification task on CIFAR 10 dataset**"
      ]
    },
    {
      "cell_type": "markdown",
      "metadata": {
        "id": "T-ijcxxtGhWj"
      },
      "source": [
        "**1.1 Getting CIFAR10 dataset from torchvision datasets**\n",
        "\n",
        "Actually there are 60000 data samples for the whole dataset. We only use 20000 samples for this assignment by randomly sampling. "
      ]
    },
    {
      "cell_type": "code",
      "execution_count": null,
      "metadata": {
        "id": "7Q1Cn3yrxdp5"
      },
      "outputs": [],
      "source": [
        "import torch\n",
        "import torchvision\n",
        "import torchvision.transforms as transforms\n",
        "import numpy as np"
      ]
    },
    {
      "cell_type": "code",
      "execution_count": null,
      "metadata": {
        "colab": {
          "base_uri": "https://localhost:8080/",
          "height": 101,
          "referenced_widgets": [
            "994aca0e6eee4fbb904fe89cf2ba2723",
            "53375148bfb8418b80f87beaedd84d1c",
            "2c368d957efa4d1a9464f5c5549a556d",
            "c7b48b57ff8f47eda1112535fe65b021",
            "875215da87fb43c2acf427c667503fb4",
            "ebbe617a377b47d9ae81ad4d3bd3628b",
            "aeae19d1cf694a758c6d11cc5c439b46",
            "bc23811271644988bcd294e69a8f4275",
            "9da23c7e3269486b9b763b45b9d23af2",
            "4eb010212c344a85a1f0a59be319fa94",
            "9575fc91b6044d18a77a00247b97f27d"
          ]
        },
        "id": "dIE76tlaF2PK",
        "outputId": "95cd9560-1ec7-46b3-df12-a3c2af4e7d8f"
      },
      "outputs": [
        {
          "name": "stdout",
          "output_type": "stream",
          "text": [
            "Downloading https://www.cs.toronto.edu/~kriz/cifar-10-python.tar.gz to ./data/cifar-10-python.tar.gz\n"
          ]
        },
        {
          "data": {
            "application/vnd.jupyter.widget-view+json": {
              "model_id": "994aca0e6eee4fbb904fe89cf2ba2723",
              "version_major": 2,
              "version_minor": 0
            },
            "text/plain": [
              "  0%|          | 0/170498071 [00:00<?, ?it/s]"
            ]
          },
          "metadata": {},
          "output_type": "display_data"
        },
        {
          "name": "stdout",
          "output_type": "stream",
          "text": [
            "Extracting ./data/cifar-10-python.tar.gz to ./data\n",
            "Number of examples: 20000, image_size: torch.Size([3, 32, 32])\n"
          ]
        }
      ],
      "source": [
        "# get cifar10 dataset\n",
        "# dataset_images: 50000 x 32 x 32 x 3\n",
        "# dataset_labels: 50000\n",
        "transform = transforms.Compose(\n",
        "    [transforms.ToTensor(),\n",
        "     transforms.Normalize((0.5, 0.5, 0.5), (0.5, 0.5, 0.5))])\n",
        "batch_size = 32\n",
        "\n",
        "dataset = torchvision.datasets.CIFAR10(root='./data', download=True, transform=transform)\n",
        "#subsample dataset\n",
        "data_indices = np.arange(0, len(dataset))\n",
        "dataset = torch.utils.data.Subset(dataset, data_indices[:20000])\n",
        "\n",
        "print(f\"Number of examples: {len(dataset)}, image_size: {dataset[0][0].shape}\")"
      ]
    },
    {
      "cell_type": "markdown",
      "metadata": {
        "id": "a-IoW8XGC3Er"
      },
      "source": [
        "**1.2 Splitting the dataset into train dataset and test dataset[10pts]**\n",
        "\n",
        "For given a dataset, we would like to randomly split the dataset to train dataset and test dataset as the ratio(train_size/test_size)"
      ]
    },
    {
      "cell_type": "code",
      "execution_count": null,
      "metadata": {
        "id": "R9qQzgiP6O1B"
      },
      "outputs": [],
      "source": [
        "#### output of the function should be#######\n",
        "#1. trainset: training set (torch.utils.data.Dataset)\n",
        "#2. testset: testing set (torch.utils.data.Dataset)\n",
        "def train_test_split(dataset, ratio):\n",
        "\n",
        "    return trainset, testset"
      ]
    },
    {
      "cell_type": "code",
      "execution_count": null,
      "metadata": {
        "colab": {
          "base_uri": "https://localhost:8080/"
        },
        "id": "Q9zS8J906UZr",
        "outputId": "44a9e8aa-e0b7-4291-d353-c9d0c04df0ac"
      },
      "outputs": [
        {
          "name": "stdout",
          "output_type": "stream",
          "text": [
            "original trainset size: 10000\n",
            "original testset size: 10000\n"
          ]
        }
      ],
      "source": [
        "# split the given dataset into train dataset and test dataset with ratio=0.5\n",
        "orig_trainset, orig_testset = train_test_split(dataset, 0.5)\n",
        "print(\"original trainset size:\", len(orig_trainset))\n",
        "print(\"original testset size:\", len(orig_testset))"
      ]
    },
    {
      "cell_type": "markdown",
      "metadata": {
        "id": "VnZSublJIXy7"
      },
      "source": [
        "**1.3 Define and train a classifier model for the CIFAR10 image classification task.**\n",
        "\n",
        "We could like to use a simple Convolutional Neutral Network model as defined below"
      ]
    },
    {
      "cell_type": "code",
      "execution_count": null,
      "metadata": {
        "id": "K9SlQ29Ya-YU"
      },
      "outputs": [],
      "source": [
        "from tqdm import tqdm\n",
        "import torch\n",
        "import torch.nn as nn\n",
        "import torch.nn.functional as F\n",
        "import torch.optim as optim\n",
        "\n",
        "device = 'cuda' if torch.cuda.is_available() else 'cpu'"
      ]
    },
    {
      "cell_type": "code",
      "execution_count": null,
      "metadata": {
        "id": "9KqGzoY-bDMP"
      },
      "outputs": [],
      "source": [
        "# define the classifier network\n",
        "class Net(nn.Module):\n",
        "    def __init__(self):\n",
        "        super().__init__()\n",
        "        self.conv1 = nn.Conv2d(3, 32, (3, 3))\n",
        "        self.pool = nn.MaxPool2d(2, 2)\n",
        "        self.conv2 = nn.Conv2d(32, 64, (3, 3))\n",
        "        self.fc1 = nn.Linear(2304, 128)\n",
        "        self.fc2 = nn.Linear(128, 10)\n",
        "\n",
        "    def forward(self, x):\n",
        "        x = self.pool(F.relu(self.conv1(x)))\n",
        "        x = self.pool(F.relu(self.conv2(x)))\n",
        "        x = torch.flatten(x, 1) # flatten all dimensions except batch\n",
        "        x = F.relu(self.fc1(x))\n",
        "        x = F.relu(self.fc2(x))\n",
        "        x = F.softmax(x, dim=1)\n",
        "        return x\n",
        "    \n",
        "    def predict(self, x):\n",
        "        return self.forward(x)"
      ]
    },
    {
      "cell_type": "markdown",
      "metadata": {
        "id": "Rr-0lkKjJEqL"
      },
      "source": [
        "Train the defined Covolution Neutral Network model"
      ]
    },
    {
      "cell_type": "code",
      "execution_count": null,
      "metadata": {
        "colab": {
          "base_uri": "https://localhost:8080/"
        },
        "id": "d4zTYkDzGE-p",
        "outputId": "894e368b-56f8-4f76-9891-ec1ae3e677b5"
      },
      "outputs": [
        {
          "output_type": "stream",
          "name": "stderr",
          "text": [
            "Training:   1%|          | 1/150 [00:03<07:41,  3.10s/it]"
          ]
        },
        {
          "output_type": "stream",
          "name": "stdout",
          "text": [
            "Epoch 1/150, loss: 2.239568289857322, accuracy: 0.1975\n"
          ]
        },
        {
          "output_type": "stream",
          "name": "stderr",
          "text": [
            "\rTraining:   1%|▏         | 2/150 [00:06<07:28,  3.03s/it]"
          ]
        },
        {
          "output_type": "stream",
          "name": "stdout",
          "text": [
            "Epoch 2/150, loss: 2.136530113677247, accuracy: 0.3191\n"
          ]
        },
        {
          "output_type": "stream",
          "name": "stderr",
          "text": [
            "\rTraining:   2%|▏         | 3/150 [00:09<07:20,  3.00s/it]"
          ]
        },
        {
          "output_type": "stream",
          "name": "stdout",
          "text": [
            "Epoch 3/150, loss: 2.089723763755335, accuracy: 0.3703\n"
          ]
        },
        {
          "output_type": "stream",
          "name": "stderr",
          "text": [
            "\rTraining:   3%|▎         | 4/150 [00:11<07:15,  2.98s/it]"
          ]
        },
        {
          "output_type": "stream",
          "name": "stdout",
          "text": [
            "Epoch 4/150, loss: 2.066967214258334, accuracy: 0.39\n"
          ]
        },
        {
          "output_type": "stream",
          "name": "stderr",
          "text": [
            "\rTraining:   3%|▎         | 5/150 [00:14<07:12,  2.98s/it]"
          ]
        },
        {
          "output_type": "stream",
          "name": "stdout",
          "text": [
            "Epoch 5/150, loss: 2.0415187293348223, accuracy: 0.4187\n"
          ]
        },
        {
          "output_type": "stream",
          "name": "stderr",
          "text": [
            "\rTraining:   4%|▍         | 6/150 [00:17<07:09,  2.98s/it]"
          ]
        },
        {
          "output_type": "stream",
          "name": "stdout",
          "text": [
            "Epoch 6/150, loss: 2.027603632344986, accuracy: 0.4323\n"
          ]
        },
        {
          "output_type": "stream",
          "name": "stderr",
          "text": [
            "\rTraining:   5%|▍         | 7/150 [00:20<07:05,  2.97s/it]"
          ]
        },
        {
          "output_type": "stream",
          "name": "stdout",
          "text": [
            "Epoch 7/150, loss: 2.0161695373705784, accuracy: 0.4422\n"
          ]
        },
        {
          "output_type": "stream",
          "name": "stderr",
          "text": [
            "\rTraining:   5%|▌         | 8/150 [00:23<07:04,  2.99s/it]"
          ]
        },
        {
          "output_type": "stream",
          "name": "stdout",
          "text": [
            "Epoch 8/150, loss: 1.9979807926823918, accuracy: 0.4629\n"
          ]
        },
        {
          "output_type": "stream",
          "name": "stderr",
          "text": [
            "\rTraining:   6%|▌         | 9/150 [00:26<07:00,  2.98s/it]"
          ]
        },
        {
          "output_type": "stream",
          "name": "stdout",
          "text": [
            "Epoch 9/150, loss: 1.9826858260761053, accuracy: 0.478\n"
          ]
        },
        {
          "output_type": "stream",
          "name": "stderr",
          "text": [
            "\rTraining:   7%|▋         | 10/150 [00:29<06:57,  2.98s/it]"
          ]
        },
        {
          "output_type": "stream",
          "name": "stdout",
          "text": [
            "Epoch 10/150, loss: 1.9701046459971907, accuracy: 0.4916\n"
          ]
        },
        {
          "output_type": "stream",
          "name": "stderr",
          "text": [
            "\rTraining:   7%|▋         | 11/150 [00:32<06:57,  3.00s/it]"
          ]
        },
        {
          "output_type": "stream",
          "name": "stdout",
          "text": [
            "Epoch 11/150, loss: 1.9561335796746202, accuracy: 0.5069\n"
          ]
        },
        {
          "output_type": "stream",
          "name": "stderr",
          "text": [
            "\rTraining:   8%|▊         | 12/150 [00:35<06:53,  3.00s/it]"
          ]
        },
        {
          "output_type": "stream",
          "name": "stdout",
          "text": [
            "Epoch 12/150, loss: 1.9450341196486745, accuracy: 0.5185\n"
          ]
        },
        {
          "output_type": "stream",
          "name": "stderr",
          "text": [
            "\rTraining:   9%|▊         | 13/150 [00:38<06:47,  2.98s/it]"
          ]
        },
        {
          "output_type": "stream",
          "name": "stdout",
          "text": [
            "Epoch 13/150, loss: 1.9304590651783318, accuracy: 0.5313\n"
          ]
        },
        {
          "output_type": "stream",
          "name": "stderr",
          "text": [
            "\rTraining:   9%|▉         | 14/150 [00:41<06:44,  2.98s/it]"
          ]
        },
        {
          "output_type": "stream",
          "name": "stdout",
          "text": [
            "Epoch 14/150, loss: 1.9200939279013929, accuracy: 0.542\n"
          ]
        },
        {
          "output_type": "stream",
          "name": "stderr",
          "text": [
            "\rTraining:  10%|█         | 15/150 [00:44<06:42,  2.98s/it]"
          ]
        },
        {
          "output_type": "stream",
          "name": "stdout",
          "text": [
            "Epoch 15/150, loss: 1.904756656089149, accuracy: 0.5578\n"
          ]
        },
        {
          "output_type": "stream",
          "name": "stderr",
          "text": [
            "\rTraining:  11%|█         | 16/150 [00:47<06:37,  2.97s/it]"
          ]
        },
        {
          "output_type": "stream",
          "name": "stdout",
          "text": [
            "Epoch 16/150, loss: 1.8930327149625785, accuracy: 0.5707\n"
          ]
        },
        {
          "output_type": "stream",
          "name": "stderr",
          "text": [
            "\rTraining:  11%|█▏        | 17/150 [00:50<06:34,  2.97s/it]"
          ]
        },
        {
          "output_type": "stream",
          "name": "stdout",
          "text": [
            "Epoch 17/150, loss: 1.886482461572836, accuracy: 0.5761\n"
          ]
        },
        {
          "output_type": "stream",
          "name": "stderr",
          "text": [
            "\rTraining:  12%|█▏        | 18/150 [00:53<06:32,  2.97s/it]"
          ]
        },
        {
          "output_type": "stream",
          "name": "stdout",
          "text": [
            "Epoch 18/150, loss: 1.8637543714846285, accuracy: 0.5979\n"
          ]
        },
        {
          "output_type": "stream",
          "name": "stderr",
          "text": [
            "\rTraining:  13%|█▎        | 19/150 [00:56<06:30,  2.98s/it]"
          ]
        },
        {
          "output_type": "stream",
          "name": "stdout",
          "text": [
            "Epoch 19/150, loss: 1.828988884203731, accuracy: 0.6364\n"
          ]
        },
        {
          "output_type": "stream",
          "name": "stderr",
          "text": [
            "\rTraining:  13%|█▎        | 20/150 [00:59<06:27,  2.98s/it]"
          ]
        },
        {
          "output_type": "stream",
          "name": "stdout",
          "text": [
            "Epoch 20/150, loss: 1.8046806334687497, accuracy: 0.6612\n"
          ]
        },
        {
          "output_type": "stream",
          "name": "stderr",
          "text": [
            "\rTraining:  14%|█▍        | 21/150 [01:02<06:22,  2.97s/it]"
          ]
        },
        {
          "output_type": "stream",
          "name": "stdout",
          "text": [
            "Epoch 21/150, loss: 1.7784868634927768, accuracy: 0.6871\n"
          ]
        },
        {
          "output_type": "stream",
          "name": "stderr",
          "text": [
            "\rTraining:  15%|█▍        | 22/150 [01:05<06:22,  2.99s/it]"
          ]
        },
        {
          "output_type": "stream",
          "name": "stdout",
          "text": [
            "Epoch 22/150, loss: 1.754908537712341, accuracy: 0.7133\n"
          ]
        },
        {
          "output_type": "stream",
          "name": "stderr",
          "text": [
            "\rTraining:  15%|█▌        | 23/150 [01:08<06:17,  2.97s/it]"
          ]
        },
        {
          "output_type": "stream",
          "name": "stdout",
          "text": [
            "Epoch 23/150, loss: 1.7415118632606044, accuracy: 0.7255\n"
          ]
        },
        {
          "output_type": "stream",
          "name": "stderr",
          "text": [
            "\rTraining:  16%|█▌        | 24/150 [01:11<06:14,  2.97s/it]"
          ]
        },
        {
          "output_type": "stream",
          "name": "stdout",
          "text": [
            "Epoch 24/150, loss: 1.726134326892158, accuracy: 0.74\n"
          ]
        },
        {
          "output_type": "stream",
          "name": "stderr",
          "text": [
            "\rTraining:  17%|█▋        | 25/150 [01:14<06:12,  2.98s/it]"
          ]
        },
        {
          "output_type": "stream",
          "name": "stdout",
          "text": [
            "Epoch 25/150, loss: 1.7164446542057366, accuracy: 0.7488\n"
          ]
        },
        {
          "output_type": "stream",
          "name": "stderr",
          "text": [
            "\rTraining:  17%|█▋        | 26/150 [01:17<06:09,  2.98s/it]"
          ]
        },
        {
          "output_type": "stream",
          "name": "stdout",
          "text": [
            "Epoch 26/150, loss: 1.7076379776762698, accuracy: 0.7588\n"
          ]
        },
        {
          "output_type": "stream",
          "name": "stderr",
          "text": [
            "\rTraining:  18%|█▊        | 27/150 [01:20<06:06,  2.98s/it]"
          ]
        },
        {
          "output_type": "stream",
          "name": "stdout",
          "text": [
            "Epoch 27/150, loss: 1.6974481904087737, accuracy: 0.7679\n"
          ]
        },
        {
          "output_type": "stream",
          "name": "stderr",
          "text": [
            "\rTraining:  19%|█▊        | 28/150 [01:23<06:04,  2.98s/it]"
          ]
        },
        {
          "output_type": "stream",
          "name": "stdout",
          "text": [
            "Epoch 28/150, loss: 1.6877771810220834, accuracy: 0.7767\n"
          ]
        },
        {
          "output_type": "stream",
          "name": "stderr",
          "text": [
            "\rTraining:  19%|█▉        | 29/150 [01:26<06:00,  2.98s/it]"
          ]
        },
        {
          "output_type": "stream",
          "name": "stdout",
          "text": [
            "Epoch 29/150, loss: 1.6877082609140073, accuracy: 0.7782\n"
          ]
        },
        {
          "output_type": "stream",
          "name": "stderr",
          "text": [
            "\rTraining:  20%|██        | 30/150 [01:29<05:57,  2.98s/it]"
          ]
        },
        {
          "output_type": "stream",
          "name": "stdout",
          "text": [
            "Epoch 30/150, loss: 1.6785798826918434, accuracy: 0.7856\n"
          ]
        },
        {
          "output_type": "stream",
          "name": "stderr",
          "text": [
            "\rTraining:  21%|██        | 31/150 [01:32<05:54,  2.98s/it]"
          ]
        },
        {
          "output_type": "stream",
          "name": "stdout",
          "text": [
            "Epoch 31/150, loss: 1.6733498847522674, accuracy: 0.7906\n"
          ]
        },
        {
          "output_type": "stream",
          "name": "stderr",
          "text": [
            "\rTraining:  21%|██▏       | 32/150 [01:35<05:52,  2.99s/it]"
          ]
        },
        {
          "output_type": "stream",
          "name": "stdout",
          "text": [
            "Epoch 32/150, loss: 1.673649094736995, accuracy: 0.7906\n"
          ]
        },
        {
          "output_type": "stream",
          "name": "stderr",
          "text": [
            "\rTraining:  22%|██▏       | 33/150 [01:38<05:51,  3.01s/it]"
          ]
        },
        {
          "output_type": "stream",
          "name": "stdout",
          "text": [
            "Epoch 33/150, loss: 1.671295332451598, accuracy: 0.7929\n"
          ]
        },
        {
          "output_type": "stream",
          "name": "stderr",
          "text": [
            "\rTraining:  23%|██▎       | 34/150 [01:41<05:49,  3.01s/it]"
          ]
        },
        {
          "output_type": "stream",
          "name": "stdout",
          "text": [
            "Epoch 34/150, loss: 1.668900743460122, accuracy: 0.7938\n"
          ]
        },
        {
          "output_type": "stream",
          "name": "stderr",
          "text": [
            "\rTraining:  23%|██▎       | 35/150 [01:44<05:46,  3.02s/it]"
          ]
        },
        {
          "output_type": "stream",
          "name": "stdout",
          "text": [
            "Epoch 35/150, loss: 1.6652749555941206, accuracy: 0.7972\n"
          ]
        },
        {
          "output_type": "stream",
          "name": "stderr",
          "text": [
            "\rTraining:  24%|██▍       | 36/150 [01:47<05:41,  3.00s/it]"
          ]
        },
        {
          "output_type": "stream",
          "name": "stdout",
          "text": [
            "Epoch 36/150, loss: 1.659422853122504, accuracy: 0.8038\n"
          ]
        },
        {
          "output_type": "stream",
          "name": "stderr",
          "text": [
            "\rTraining:  25%|██▍       | 37/150 [01:50<05:38,  3.00s/it]"
          ]
        },
        {
          "output_type": "stream",
          "name": "stdout",
          "text": [
            "Epoch 37/150, loss: 1.6551973701665958, accuracy: 0.8071\n"
          ]
        },
        {
          "output_type": "stream",
          "name": "stderr",
          "text": [
            "\rTraining:  25%|██▌       | 38/150 [01:53<05:34,  2.99s/it]"
          ]
        },
        {
          "output_type": "stream",
          "name": "stdout",
          "text": [
            "Epoch 38/150, loss: 1.6557374701332361, accuracy: 0.807\n"
          ]
        },
        {
          "output_type": "stream",
          "name": "stderr",
          "text": [
            "\rTraining:  26%|██▌       | 39/150 [01:56<05:29,  2.97s/it]"
          ]
        },
        {
          "output_type": "stream",
          "name": "stdout",
          "text": [
            "Epoch 39/150, loss: 1.6517267189086817, accuracy: 0.8098\n"
          ]
        },
        {
          "output_type": "stream",
          "name": "stderr",
          "text": [
            "\rTraining:  27%|██▋       | 40/150 [01:59<05:25,  2.96s/it]"
          ]
        },
        {
          "output_type": "stream",
          "name": "stdout",
          "text": [
            "Epoch 40/150, loss: 1.6558542982838786, accuracy: 0.8055\n"
          ]
        },
        {
          "output_type": "stream",
          "name": "stderr",
          "text": [
            "\rTraining:  27%|██▋       | 41/150 [02:02<05:22,  2.96s/it]"
          ]
        },
        {
          "output_type": "stream",
          "name": "stdout",
          "text": [
            "Epoch 41/150, loss: 1.6477157601152366, accuracy: 0.8142\n"
          ]
        },
        {
          "output_type": "stream",
          "name": "stderr",
          "text": [
            "\rTraining:  28%|██▊       | 42/150 [02:05<05:19,  2.96s/it]"
          ]
        },
        {
          "output_type": "stream",
          "name": "stdout",
          "text": [
            "Epoch 42/150, loss: 1.636467486143874, accuracy: 0.8282\n"
          ]
        },
        {
          "output_type": "stream",
          "name": "stderr",
          "text": [
            "\rTraining:  29%|██▊       | 43/150 [02:08<05:18,  2.98s/it]"
          ]
        },
        {
          "output_type": "stream",
          "name": "stdout",
          "text": [
            "Epoch 43/150, loss: 1.6176964440665687, accuracy: 0.8459\n"
          ]
        },
        {
          "output_type": "stream",
          "name": "stderr",
          "text": [
            "\rTraining:  29%|██▉       | 44/150 [02:11<05:12,  2.95s/it]"
          ]
        },
        {
          "output_type": "stream",
          "name": "stdout",
          "text": [
            "Epoch 44/150, loss: 1.6004690971618263, accuracy: 0.863\n"
          ]
        },
        {
          "output_type": "stream",
          "name": "stderr",
          "text": [
            "\rTraining:  30%|███       | 45/150 [02:14<05:09,  2.95s/it]"
          ]
        },
        {
          "output_type": "stream",
          "name": "stdout",
          "text": [
            "Epoch 45/150, loss: 1.5926942688207657, accuracy: 0.8698\n"
          ]
        },
        {
          "output_type": "stream",
          "name": "stderr",
          "text": [
            "\rTraining:  31%|███       | 46/150 [02:16<05:05,  2.93s/it]"
          ]
        },
        {
          "output_type": "stream",
          "name": "stdout",
          "text": [
            "Epoch 46/150, loss: 1.5820177260298318, accuracy: 0.8809\n"
          ]
        },
        {
          "output_type": "stream",
          "name": "stderr",
          "text": [
            "\rTraining:  31%|███▏      | 47/150 [02:19<05:01,  2.93s/it]"
          ]
        },
        {
          "output_type": "stream",
          "name": "stdout",
          "text": [
            "Epoch 47/150, loss: 1.5782109278078658, accuracy: 0.8849\n"
          ]
        },
        {
          "output_type": "stream",
          "name": "stderr",
          "text": [
            "\rTraining:  32%|███▏      | 48/150 [02:22<04:58,  2.93s/it]"
          ]
        },
        {
          "output_type": "stream",
          "name": "stdout",
          "text": [
            "Epoch 48/150, loss: 1.5731924924606713, accuracy: 0.8902\n"
          ]
        },
        {
          "output_type": "stream",
          "name": "stderr",
          "text": [
            "\rTraining:  33%|███▎      | 49/150 [02:25<04:55,  2.92s/it]"
          ]
        },
        {
          "output_type": "stream",
          "name": "stdout",
          "text": [
            "Epoch 49/150, loss: 1.5677056434436347, accuracy: 0.8952\n"
          ]
        },
        {
          "output_type": "stream",
          "name": "stderr",
          "text": [
            "\rTraining:  33%|███▎      | 50/150 [02:28<04:53,  2.93s/it]"
          ]
        },
        {
          "output_type": "stream",
          "name": "stdout",
          "text": [
            "Epoch 50/150, loss: 1.5630810622590037, accuracy: 0.9003\n"
          ]
        },
        {
          "output_type": "stream",
          "name": "stderr",
          "text": [
            "\rTraining:  34%|███▍      | 51/150 [02:31<04:50,  2.93s/it]"
          ]
        },
        {
          "output_type": "stream",
          "name": "stdout",
          "text": [
            "Epoch 51/150, loss: 1.5613015048420087, accuracy: 0.902\n"
          ]
        },
        {
          "output_type": "stream",
          "name": "stderr",
          "text": [
            "\rTraining:  35%|███▍      | 52/150 [02:34<04:47,  2.94s/it]"
          ]
        },
        {
          "output_type": "stream",
          "name": "stdout",
          "text": [
            "Epoch 52/150, loss: 1.5656974993574733, accuracy: 0.8973\n"
          ]
        },
        {
          "output_type": "stream",
          "name": "stderr",
          "text": [
            "\rTraining:  35%|███▌      | 53/150 [02:37<04:46,  2.95s/it]"
          ]
        },
        {
          "output_type": "stream",
          "name": "stdout",
          "text": [
            "Epoch 53/150, loss: 1.5591352899996236, accuracy: 0.9031\n"
          ]
        },
        {
          "output_type": "stream",
          "name": "stderr",
          "text": [
            "\rTraining:  36%|███▌      | 54/150 [02:40<04:42,  2.94s/it]"
          ]
        },
        {
          "output_type": "stream",
          "name": "stdout",
          "text": [
            "Epoch 54/150, loss: 1.5566009538242231, accuracy: 0.906\n"
          ]
        },
        {
          "output_type": "stream",
          "name": "stderr",
          "text": [
            "\rTraining:  37%|███▋      | 55/150 [02:43<04:40,  2.96s/it]"
          ]
        },
        {
          "output_type": "stream",
          "name": "stdout",
          "text": [
            "Epoch 55/150, loss: 1.5565431712153621, accuracy: 0.9069\n"
          ]
        },
        {
          "output_type": "stream",
          "name": "stderr",
          "text": [
            "\rTraining:  37%|███▋      | 56/150 [02:46<04:39,  2.97s/it]"
          ]
        },
        {
          "output_type": "stream",
          "name": "stdout",
          "text": [
            "Epoch 56/150, loss: 1.5574296133967633, accuracy: 0.9056\n"
          ]
        },
        {
          "output_type": "stream",
          "name": "stderr",
          "text": [
            "\rTraining:  38%|███▊      | 57/150 [02:49<04:37,  2.98s/it]"
          ]
        },
        {
          "output_type": "stream",
          "name": "stdout",
          "text": [
            "Epoch 57/150, loss: 1.5523005449733795, accuracy: 0.9102\n"
          ]
        },
        {
          "output_type": "stream",
          "name": "stderr",
          "text": [
            "\rTraining:  39%|███▊      | 58/150 [02:52<04:33,  2.97s/it]"
          ]
        },
        {
          "output_type": "stream",
          "name": "stdout",
          "text": [
            "Epoch 58/150, loss: 1.5549535195286663, accuracy: 0.9068\n"
          ]
        },
        {
          "output_type": "stream",
          "name": "stderr",
          "text": [
            "\rTraining:  39%|███▉      | 59/150 [02:55<04:29,  2.96s/it]"
          ]
        },
        {
          "output_type": "stream",
          "name": "stdout",
          "text": [
            "Epoch 59/150, loss: 1.5544348551442448, accuracy: 0.9071\n"
          ]
        },
        {
          "output_type": "stream",
          "name": "stderr",
          "text": [
            "\rTraining:  40%|████      | 60/150 [02:58<04:27,  2.97s/it]"
          ]
        },
        {
          "output_type": "stream",
          "name": "stdout",
          "text": [
            "Epoch 60/150, loss: 1.5503181002010553, accuracy: 0.9124\n"
          ]
        },
        {
          "output_type": "stream",
          "name": "stderr",
          "text": [
            "\rTraining:  41%|████      | 61/150 [03:01<04:23,  2.97s/it]"
          ]
        },
        {
          "output_type": "stream",
          "name": "stdout",
          "text": [
            "Epoch 61/150, loss: 1.5517951901347493, accuracy: 0.9102\n"
          ]
        },
        {
          "output_type": "stream",
          "name": "stderr",
          "text": [
            "\rTraining:  41%|████▏     | 62/150 [03:04<04:21,  2.97s/it]"
          ]
        },
        {
          "output_type": "stream",
          "name": "stdout",
          "text": [
            "Epoch 62/150, loss: 1.5512135264972529, accuracy: 0.9111\n"
          ]
        },
        {
          "output_type": "stream",
          "name": "stderr",
          "text": [
            "\rTraining:  42%|████▏     | 63/150 [03:07<04:19,  2.98s/it]"
          ]
        },
        {
          "output_type": "stream",
          "name": "stdout",
          "text": [
            "Epoch 63/150, loss: 1.5494571844228922, accuracy: 0.9126\n"
          ]
        },
        {
          "output_type": "stream",
          "name": "stderr",
          "text": [
            "\rTraining:  43%|████▎     | 64/150 [03:10<04:15,  2.97s/it]"
          ]
        },
        {
          "output_type": "stream",
          "name": "stdout",
          "text": [
            "Epoch 64/150, loss: 1.5486248442159294, accuracy: 0.9133\n"
          ]
        },
        {
          "output_type": "stream",
          "name": "stderr",
          "text": [
            "\rTraining:  43%|████▎     | 65/150 [03:13<04:11,  2.96s/it]"
          ]
        },
        {
          "output_type": "stream",
          "name": "stdout",
          "text": [
            "Epoch 65/150, loss: 1.5461490116180323, accuracy: 0.9154\n"
          ]
        },
        {
          "output_type": "stream",
          "name": "stderr",
          "text": [
            "\rTraining:  44%|████▍     | 66/150 [03:16<04:08,  2.95s/it]"
          ]
        },
        {
          "output_type": "stream",
          "name": "stdout",
          "text": [
            "Epoch 66/150, loss: 1.5448824685221663, accuracy: 0.9166\n"
          ]
        },
        {
          "output_type": "stream",
          "name": "stderr",
          "text": [
            "\rTraining:  45%|████▍     | 67/150 [03:19<04:04,  2.94s/it]"
          ]
        },
        {
          "output_type": "stream",
          "name": "stdout",
          "text": [
            "Epoch 67/150, loss: 1.5425248446936806, accuracy: 0.9185\n"
          ]
        },
        {
          "output_type": "stream",
          "name": "stderr",
          "text": [
            "\rTraining:  45%|████▌     | 68/150 [03:21<04:01,  2.94s/it]"
          ]
        },
        {
          "output_type": "stream",
          "name": "stdout",
          "text": [
            "Epoch 68/150, loss: 1.5482278471937576, accuracy: 0.9139\n"
          ]
        },
        {
          "output_type": "stream",
          "name": "stderr",
          "text": [
            "\rTraining:  46%|████▌     | 69/150 [03:24<03:58,  2.95s/it]"
          ]
        },
        {
          "output_type": "stream",
          "name": "stdout",
          "text": [
            "Epoch 69/150, loss: 1.5486100062775536, accuracy: 0.9137\n"
          ]
        },
        {
          "output_type": "stream",
          "name": "stderr",
          "text": [
            "\rTraining:  47%|████▋     | 70/150 [03:27<03:55,  2.95s/it]"
          ]
        },
        {
          "output_type": "stream",
          "name": "stdout",
          "text": [
            "Epoch 70/150, loss: 1.548470530266198, accuracy: 0.9131\n"
          ]
        },
        {
          "output_type": "stream",
          "name": "stderr",
          "text": [
            "\rTraining:  47%|████▋     | 71/150 [03:30<03:51,  2.93s/it]"
          ]
        },
        {
          "output_type": "stream",
          "name": "stdout",
          "text": [
            "Epoch 71/150, loss: 1.5492929608677142, accuracy: 0.9125\n"
          ]
        },
        {
          "output_type": "stream",
          "name": "stderr",
          "text": [
            "\rTraining:  48%|████▊     | 72/150 [03:33<03:49,  2.95s/it]"
          ]
        },
        {
          "output_type": "stream",
          "name": "stdout",
          "text": [
            "Epoch 72/150, loss: 1.5452452517165163, accuracy: 0.9165\n"
          ]
        },
        {
          "output_type": "stream",
          "name": "stderr",
          "text": [
            "\rTraining:  49%|████▊     | 73/150 [03:36<03:47,  2.95s/it]"
          ]
        },
        {
          "output_type": "stream",
          "name": "stdout",
          "text": [
            "Epoch 73/150, loss: 1.5460183666156122, accuracy: 0.9158\n"
          ]
        },
        {
          "output_type": "stream",
          "name": "stderr",
          "text": [
            "\rTraining:  49%|████▉     | 74/150 [03:39<03:44,  2.95s/it]"
          ]
        },
        {
          "output_type": "stream",
          "name": "stdout",
          "text": [
            "Epoch 74/150, loss: 1.5453859830435854, accuracy: 0.9165\n"
          ]
        },
        {
          "output_type": "stream",
          "name": "stderr",
          "text": [
            "\rTraining:  50%|█████     | 75/150 [03:42<03:40,  2.94s/it]"
          ]
        },
        {
          "output_type": "stream",
          "name": "stdout",
          "text": [
            "Epoch 75/150, loss: 1.5407134488748666, accuracy: 0.9209\n"
          ]
        },
        {
          "output_type": "stream",
          "name": "stderr",
          "text": [
            "\rTraining:  51%|█████     | 76/150 [03:45<03:38,  2.95s/it]"
          ]
        },
        {
          "output_type": "stream",
          "name": "stdout",
          "text": [
            "Epoch 76/150, loss: 1.5442044974896854, accuracy: 0.9173\n"
          ]
        },
        {
          "output_type": "stream",
          "name": "stderr",
          "text": [
            "\rTraining:  51%|█████▏    | 77/150 [03:48<03:35,  2.95s/it]"
          ]
        },
        {
          "output_type": "stream",
          "name": "stdout",
          "text": [
            "Epoch 77/150, loss: 1.5420364179550268, accuracy: 0.9197\n"
          ]
        },
        {
          "output_type": "stream",
          "name": "stderr",
          "text": [
            "\rTraining:  52%|█████▏    | 78/150 [03:51<03:32,  2.95s/it]"
          ]
        },
        {
          "output_type": "stream",
          "name": "stdout",
          "text": [
            "Epoch 78/150, loss: 1.54266614236009, accuracy: 0.9187\n"
          ]
        },
        {
          "output_type": "stream",
          "name": "stderr",
          "text": [
            "\rTraining:  53%|█████▎    | 79/150 [03:54<03:28,  2.93s/it]"
          ]
        },
        {
          "output_type": "stream",
          "name": "stdout",
          "text": [
            "Epoch 79/150, loss: 1.5417614851515895, accuracy: 0.9196\n"
          ]
        },
        {
          "output_type": "stream",
          "name": "stderr",
          "text": [
            "\rTraining:  53%|█████▎    | 80/150 [03:57<03:25,  2.94s/it]"
          ]
        },
        {
          "output_type": "stream",
          "name": "stdout",
          "text": [
            "Epoch 80/150, loss: 1.5435747810826896, accuracy: 0.918\n"
          ]
        },
        {
          "output_type": "stream",
          "name": "stderr",
          "text": [
            "\rTraining:  54%|█████▍    | 81/150 [04:00<03:22,  2.94s/it]"
          ]
        },
        {
          "output_type": "stream",
          "name": "stdout",
          "text": [
            "Epoch 81/150, loss: 1.5413631574033548, accuracy: 0.9196\n"
          ]
        },
        {
          "output_type": "stream",
          "name": "stderr",
          "text": [
            "\rTraining:  55%|█████▍    | 82/150 [04:03<03:19,  2.93s/it]"
          ]
        },
        {
          "output_type": "stream",
          "name": "stdout",
          "text": [
            "Epoch 82/150, loss: 1.5487507665500093, accuracy: 0.9128\n"
          ]
        },
        {
          "output_type": "stream",
          "name": "stderr",
          "text": [
            "\rTraining:  55%|█████▌    | 83/150 [04:06<03:16,  2.93s/it]"
          ]
        },
        {
          "output_type": "stream",
          "name": "stdout",
          "text": [
            "Epoch 83/150, loss: 1.541856396312531, accuracy: 0.9197\n"
          ]
        },
        {
          "output_type": "stream",
          "name": "stderr",
          "text": [
            "\rTraining:  56%|█████▌    | 84/150 [04:09<03:14,  2.94s/it]"
          ]
        },
        {
          "output_type": "stream",
          "name": "stdout",
          "text": [
            "Epoch 84/150, loss: 1.541658857759957, accuracy: 0.9198\n"
          ]
        },
        {
          "output_type": "stream",
          "name": "stderr",
          "text": [
            "\rTraining:  57%|█████▋    | 85/150 [04:12<03:11,  2.94s/it]"
          ]
        },
        {
          "output_type": "stream",
          "name": "stdout",
          "text": [
            "Epoch 85/150, loss: 1.5387374212185796, accuracy: 0.9227\n"
          ]
        },
        {
          "output_type": "stream",
          "name": "stderr",
          "text": [
            "\rTraining:  57%|█████▋    | 86/150 [04:14<03:07,  2.93s/it]"
          ]
        },
        {
          "output_type": "stream",
          "name": "stdout",
          "text": [
            "Epoch 86/150, loss: 1.53975872947766, accuracy: 0.9217\n"
          ]
        },
        {
          "output_type": "stream",
          "name": "stderr",
          "text": [
            "\rTraining:  58%|█████▊    | 87/150 [04:17<03:04,  2.93s/it]"
          ]
        },
        {
          "output_type": "stream",
          "name": "stdout",
          "text": [
            "Epoch 87/150, loss: 1.5391809342387386, accuracy: 0.9222\n"
          ]
        },
        {
          "output_type": "stream",
          "name": "stderr",
          "text": [
            "\rTraining:  59%|█████▊    | 88/150 [04:20<03:02,  2.94s/it]"
          ]
        },
        {
          "output_type": "stream",
          "name": "stdout",
          "text": [
            "Epoch 88/150, loss: 1.539970737676651, accuracy: 0.9212\n"
          ]
        },
        {
          "output_type": "stream",
          "name": "stderr",
          "text": [
            "\rTraining:  59%|█████▉    | 89/150 [04:23<03:00,  2.95s/it]"
          ]
        },
        {
          "output_type": "stream",
          "name": "stdout",
          "text": [
            "Epoch 89/150, loss: 1.541641992121078, accuracy: 0.9198\n"
          ]
        },
        {
          "output_type": "stream",
          "name": "stderr",
          "text": [
            "\rTraining:  60%|██████    | 90/150 [04:26<02:57,  2.96s/it]"
          ]
        },
        {
          "output_type": "stream",
          "name": "stdout",
          "text": [
            "Epoch 90/150, loss: 1.541017364770079, accuracy: 0.9208\n"
          ]
        },
        {
          "output_type": "stream",
          "name": "stderr",
          "text": [
            "\rTraining:  61%|██████    | 91/150 [04:29<02:54,  2.95s/it]"
          ]
        },
        {
          "output_type": "stream",
          "name": "stdout",
          "text": [
            "Epoch 91/150, loss: 1.5392459722372671, accuracy: 0.9225\n"
          ]
        },
        {
          "output_type": "stream",
          "name": "stderr",
          "text": [
            "\rTraining:  61%|██████▏   | 92/150 [04:32<02:51,  2.95s/it]"
          ]
        },
        {
          "output_type": "stream",
          "name": "stdout",
          "text": [
            "Epoch 92/150, loss: 1.5413564397885016, accuracy: 0.9201\n"
          ]
        },
        {
          "output_type": "stream",
          "name": "stderr",
          "text": [
            "\rTraining:  62%|██████▏   | 93/150 [04:35<02:47,  2.94s/it]"
          ]
        },
        {
          "output_type": "stream",
          "name": "stdout",
          "text": [
            "Epoch 93/150, loss: 1.538803399180452, accuracy: 0.9223\n"
          ]
        },
        {
          "output_type": "stream",
          "name": "stderr",
          "text": [
            "\rTraining:  63%|██████▎   | 94/150 [04:38<02:44,  2.94s/it]"
          ]
        },
        {
          "output_type": "stream",
          "name": "stdout",
          "text": [
            "Epoch 94/150, loss: 1.5362327944356413, accuracy: 0.9249\n"
          ]
        },
        {
          "output_type": "stream",
          "name": "stderr",
          "text": [
            "\rTraining:  63%|██████▎   | 95/150 [04:41<02:41,  2.94s/it]"
          ]
        },
        {
          "output_type": "stream",
          "name": "stdout",
          "text": [
            "Epoch 95/150, loss: 1.5385450326596586, accuracy: 0.9224\n"
          ]
        },
        {
          "output_type": "stream",
          "name": "stderr",
          "text": [
            "\rTraining:  64%|██████▍   | 96/150 [04:44<02:38,  2.93s/it]"
          ]
        },
        {
          "output_type": "stream",
          "name": "stdout",
          "text": [
            "Epoch 96/150, loss: 1.5337268742509544, accuracy: 0.9281\n"
          ]
        },
        {
          "output_type": "stream",
          "name": "stderr",
          "text": [
            "\rTraining:  65%|██████▍   | 97/150 [04:47<02:34,  2.92s/it]"
          ]
        },
        {
          "output_type": "stream",
          "name": "stdout",
          "text": [
            "Epoch 97/150, loss: 1.532812812457831, accuracy: 0.9281\n"
          ]
        },
        {
          "output_type": "stream",
          "name": "stderr",
          "text": [
            "\rTraining:  65%|██████▌   | 98/150 [04:50<02:32,  2.93s/it]"
          ]
        },
        {
          "output_type": "stream",
          "name": "stdout",
          "text": [
            "Epoch 98/150, loss: 1.532855770839289, accuracy: 0.9283\n"
          ]
        },
        {
          "output_type": "stream",
          "name": "stderr",
          "text": [
            "\rTraining:  66%|██████▌   | 99/150 [04:53<02:29,  2.92s/it]"
          ]
        },
        {
          "output_type": "stream",
          "name": "stdout",
          "text": [
            "Epoch 99/150, loss: 1.5387928230693926, accuracy: 0.9231\n"
          ]
        },
        {
          "output_type": "stream",
          "name": "stderr",
          "text": [
            "\rTraining:  67%|██████▋   | 100/150 [04:56<02:25,  2.92s/it]"
          ]
        },
        {
          "output_type": "stream",
          "name": "stdout",
          "text": [
            "Epoch 100/150, loss: 1.5346508007080029, accuracy: 0.9272\n"
          ]
        },
        {
          "output_type": "stream",
          "name": "stderr",
          "text": [
            "\rTraining:  67%|██████▋   | 101/150 [04:58<02:23,  2.92s/it]"
          ]
        },
        {
          "output_type": "stream",
          "name": "stdout",
          "text": [
            "Epoch 101/150, loss: 1.5353783620432162, accuracy: 0.9265\n"
          ]
        },
        {
          "output_type": "stream",
          "name": "stderr",
          "text": [
            "\rTraining:  68%|██████▊   | 102/150 [05:01<02:20,  2.92s/it]"
          ]
        },
        {
          "output_type": "stream",
          "name": "stdout",
          "text": [
            "Epoch 102/150, loss: 1.5343320464935546, accuracy: 0.9267\n"
          ]
        },
        {
          "output_type": "stream",
          "name": "stderr",
          "text": [
            "\rTraining:  69%|██████▊   | 103/150 [05:04<02:17,  2.92s/it]"
          ]
        },
        {
          "output_type": "stream",
          "name": "stdout",
          "text": [
            "Epoch 103/150, loss: 1.5341416342189897, accuracy: 0.9274\n"
          ]
        },
        {
          "output_type": "stream",
          "name": "stderr",
          "text": [
            "\rTraining:  69%|██████▉   | 104/150 [05:07<02:14,  2.93s/it]"
          ]
        },
        {
          "output_type": "stream",
          "name": "stdout",
          "text": [
            "Epoch 104/150, loss: 1.5372931016519809, accuracy: 0.9237\n"
          ]
        },
        {
          "output_type": "stream",
          "name": "stderr",
          "text": [
            "\rTraining:  70%|███████   | 105/150 [05:10<02:12,  2.94s/it]"
          ]
        },
        {
          "output_type": "stream",
          "name": "stdout",
          "text": [
            "Epoch 105/150, loss: 1.5348407685185392, accuracy: 0.9264\n"
          ]
        },
        {
          "output_type": "stream",
          "name": "stderr",
          "text": [
            "\rTraining:  71%|███████   | 106/150 [05:13<02:09,  2.93s/it]"
          ]
        },
        {
          "output_type": "stream",
          "name": "stdout",
          "text": [
            "Epoch 106/150, loss: 1.5311188800647235, accuracy: 0.9301\n"
          ]
        },
        {
          "output_type": "stream",
          "name": "stderr",
          "text": [
            "\rTraining:  71%|███████▏  | 107/150 [05:16<02:05,  2.93s/it]"
          ]
        },
        {
          "output_type": "stream",
          "name": "stdout",
          "text": [
            "Epoch 107/150, loss: 1.5319052588063689, accuracy: 0.929\n"
          ]
        },
        {
          "output_type": "stream",
          "name": "stderr",
          "text": [
            "\rTraining:  72%|███████▏  | 108/150 [05:19<02:03,  2.93s/it]"
          ]
        },
        {
          "output_type": "stream",
          "name": "stdout",
          "text": [
            "Epoch 108/150, loss: 1.5359767321199655, accuracy: 0.9254\n"
          ]
        },
        {
          "output_type": "stream",
          "name": "stderr",
          "text": [
            "\rTraining:  73%|███████▎  | 109/150 [05:22<01:59,  2.92s/it]"
          ]
        },
        {
          "output_type": "stream",
          "name": "stdout",
          "text": [
            "Epoch 109/150, loss: 1.532043764766413, accuracy: 0.9291\n"
          ]
        },
        {
          "output_type": "stream",
          "name": "stderr",
          "text": [
            "\rTraining:  73%|███████▎  | 110/150 [05:25<01:56,  2.92s/it]"
          ]
        },
        {
          "output_type": "stream",
          "name": "stdout",
          "text": [
            "Epoch 110/150, loss: 1.5320647406501893, accuracy: 0.9287\n"
          ]
        },
        {
          "output_type": "stream",
          "name": "stderr",
          "text": [
            "\rTraining:  74%|███████▍  | 111/150 [05:28<01:54,  2.93s/it]"
          ]
        },
        {
          "output_type": "stream",
          "name": "stdout",
          "text": [
            "Epoch 111/150, loss: 1.5322304986917172, accuracy: 0.929\n"
          ]
        },
        {
          "output_type": "stream",
          "name": "stderr",
          "text": [
            "\rTraining:  75%|███████▍  | 112/150 [05:31<01:51,  2.93s/it]"
          ]
        },
        {
          "output_type": "stream",
          "name": "stdout",
          "text": [
            "Epoch 112/150, loss: 1.5338226522500522, accuracy: 0.9273\n"
          ]
        },
        {
          "output_type": "stream",
          "name": "stderr",
          "text": [
            "\rTraining:  75%|███████▌  | 113/150 [05:34<01:48,  2.93s/it]"
          ]
        },
        {
          "output_type": "stream",
          "name": "stdout",
          "text": [
            "Epoch 113/150, loss: 1.5332740431014722, accuracy: 0.928\n"
          ]
        },
        {
          "output_type": "stream",
          "name": "stderr",
          "text": [
            "\rTraining:  76%|███████▌  | 114/150 [05:37<01:45,  2.93s/it]"
          ]
        },
        {
          "output_type": "stream",
          "name": "stdout",
          "text": [
            "Epoch 114/150, loss: 1.536804533233277, accuracy: 0.9241\n"
          ]
        },
        {
          "output_type": "stream",
          "name": "stderr",
          "text": [
            "\rTraining:  77%|███████▋  | 115/150 [05:40<01:43,  2.95s/it]"
          ]
        },
        {
          "output_type": "stream",
          "name": "stdout",
          "text": [
            "Epoch 115/150, loss: 1.537726562244062, accuracy: 0.9234\n"
          ]
        },
        {
          "output_type": "stream",
          "name": "stderr",
          "text": [
            "\rTraining:  77%|███████▋  | 116/150 [05:43<01:40,  2.96s/it]"
          ]
        },
        {
          "output_type": "stream",
          "name": "stdout",
          "text": [
            "Epoch 116/150, loss: 1.5338782125387709, accuracy: 0.9274\n"
          ]
        },
        {
          "output_type": "stream",
          "name": "stderr",
          "text": [
            "\rTraining:  78%|███████▊  | 117/150 [05:46<01:38,  2.99s/it]"
          ]
        },
        {
          "output_type": "stream",
          "name": "stdout",
          "text": [
            "Epoch 117/150, loss: 1.5313520526733642, accuracy: 0.9298\n"
          ]
        },
        {
          "output_type": "stream",
          "name": "stderr",
          "text": [
            "\rTraining:  79%|███████▊  | 118/150 [05:49<01:35,  2.99s/it]"
          ]
        },
        {
          "output_type": "stream",
          "name": "stdout",
          "text": [
            "Epoch 118/150, loss: 1.5301316001544745, accuracy: 0.9308\n"
          ]
        },
        {
          "output_type": "stream",
          "name": "stderr",
          "text": [
            "\rTraining:  79%|███████▉  | 119/150 [05:52<01:32,  2.98s/it]"
          ]
        },
        {
          "output_type": "stream",
          "name": "stdout",
          "text": [
            "Epoch 119/150, loss: 1.5316924306150443, accuracy: 0.9294\n"
          ]
        },
        {
          "output_type": "stream",
          "name": "stderr",
          "text": [
            "\rTraining:  80%|████████  | 120/150 [05:54<01:28,  2.96s/it]"
          ]
        },
        {
          "output_type": "stream",
          "name": "stdout",
          "text": [
            "Epoch 120/150, loss: 1.5314403505751881, accuracy: 0.9296\n"
          ]
        },
        {
          "output_type": "stream",
          "name": "stderr",
          "text": [
            "\rTraining:  81%|████████  | 121/150 [05:57<01:25,  2.95s/it]"
          ]
        },
        {
          "output_type": "stream",
          "name": "stdout",
          "text": [
            "Epoch 121/150, loss: 1.5293593745642957, accuracy: 0.9319\n"
          ]
        },
        {
          "output_type": "stream",
          "name": "stderr",
          "text": [
            "\rTraining:  81%|████████▏ | 122/150 [06:00<01:22,  2.94s/it]"
          ]
        },
        {
          "output_type": "stream",
          "name": "stdout",
          "text": [
            "Epoch 122/150, loss: 1.5326422666208432, accuracy: 0.9285\n"
          ]
        },
        {
          "output_type": "stream",
          "name": "stderr",
          "text": [
            "\rTraining:  82%|████████▏ | 123/150 [06:03<01:19,  2.94s/it]"
          ]
        },
        {
          "output_type": "stream",
          "name": "stdout",
          "text": [
            "Epoch 123/150, loss: 1.532387921223625, accuracy: 0.9287\n"
          ]
        },
        {
          "output_type": "stream",
          "name": "stderr",
          "text": [
            "\rTraining:  83%|████████▎ | 124/150 [06:06<01:16,  2.93s/it]"
          ]
        },
        {
          "output_type": "stream",
          "name": "stdout",
          "text": [
            "Epoch 124/150, loss: 1.5303786692147057, accuracy: 0.9311\n"
          ]
        },
        {
          "output_type": "stream",
          "name": "stderr",
          "text": [
            "\rTraining:  83%|████████▎ | 125/150 [06:09<01:13,  2.93s/it]"
          ]
        },
        {
          "output_type": "stream",
          "name": "stdout",
          "text": [
            "Epoch 125/150, loss: 1.529733845981927, accuracy: 0.9313\n"
          ]
        },
        {
          "output_type": "stream",
          "name": "stderr",
          "text": [
            "\rTraining:  84%|████████▍ | 126/150 [06:12<01:10,  2.94s/it]"
          ]
        },
        {
          "output_type": "stream",
          "name": "stdout",
          "text": [
            "Epoch 126/150, loss: 1.5285354148084744, accuracy: 0.9324\n"
          ]
        },
        {
          "output_type": "stream",
          "name": "stderr",
          "text": [
            "\rTraining:  85%|████████▍ | 127/150 [06:15<01:07,  2.94s/it]"
          ]
        },
        {
          "output_type": "stream",
          "name": "stdout",
          "text": [
            "Epoch 127/150, loss: 1.5276006277376852, accuracy: 0.9336\n"
          ]
        },
        {
          "output_type": "stream",
          "name": "stderr",
          "text": [
            "\rTraining:  85%|████████▌ | 128/150 [06:18<01:04,  2.93s/it]"
          ]
        },
        {
          "output_type": "stream",
          "name": "stdout",
          "text": [
            "Epoch 128/150, loss: 1.5289827200551382, accuracy: 0.9322\n"
          ]
        },
        {
          "output_type": "stream",
          "name": "stderr",
          "text": [
            "\rTraining:  86%|████████▌ | 129/150 [06:21<01:01,  2.94s/it]"
          ]
        },
        {
          "output_type": "stream",
          "name": "stdout",
          "text": [
            "Epoch 129/150, loss: 1.5297585337306745, accuracy: 0.9315\n"
          ]
        },
        {
          "output_type": "stream",
          "name": "stderr",
          "text": [
            "\rTraining:  87%|████████▋ | 130/150 [06:24<00:58,  2.95s/it]"
          ]
        },
        {
          "output_type": "stream",
          "name": "stdout",
          "text": [
            "Epoch 130/150, loss: 1.5315001559333679, accuracy: 0.9299\n"
          ]
        },
        {
          "output_type": "stream",
          "name": "stderr",
          "text": [
            "\rTraining:  87%|████████▋ | 131/150 [06:27<00:55,  2.94s/it]"
          ]
        },
        {
          "output_type": "stream",
          "name": "stdout",
          "text": [
            "Epoch 131/150, loss: 1.531335983413477, accuracy: 0.9299\n"
          ]
        },
        {
          "output_type": "stream",
          "name": "stderr",
          "text": [
            "\rTraining:  88%|████████▊ | 132/150 [06:30<00:53,  2.95s/it]"
          ]
        },
        {
          "output_type": "stream",
          "name": "stdout",
          "text": [
            "Epoch 132/150, loss: 1.530027891119448, accuracy: 0.9311\n"
          ]
        },
        {
          "output_type": "stream",
          "name": "stderr",
          "text": [
            "\rTraining:  89%|████████▊ | 133/150 [06:33<00:50,  2.95s/it]"
          ]
        },
        {
          "output_type": "stream",
          "name": "stdout",
          "text": [
            "Epoch 133/150, loss: 1.5293939563032157, accuracy: 0.9323\n"
          ]
        },
        {
          "output_type": "stream",
          "name": "stderr",
          "text": [
            "\rTraining:  89%|████████▉ | 134/150 [06:36<00:47,  2.94s/it]"
          ]
        },
        {
          "output_type": "stream",
          "name": "stdout",
          "text": [
            "Epoch 134/150, loss: 1.5309644564272116, accuracy: 0.93\n"
          ]
        },
        {
          "output_type": "stream",
          "name": "stderr",
          "text": [
            "\rTraining:  90%|█████████ | 135/150 [06:38<00:44,  2.94s/it]"
          ]
        },
        {
          "output_type": "stream",
          "name": "stdout",
          "text": [
            "Epoch 135/150, loss: 1.5285104124690778, accuracy: 0.9322\n"
          ]
        },
        {
          "output_type": "stream",
          "name": "stderr",
          "text": [
            "\rTraining:  91%|█████████ | 136/150 [06:41<00:41,  2.95s/it]"
          ]
        },
        {
          "output_type": "stream",
          "name": "stdout",
          "text": [
            "Epoch 136/150, loss: 1.5281619309617307, accuracy: 0.9331\n"
          ]
        },
        {
          "output_type": "stream",
          "name": "stderr",
          "text": [
            "\rTraining:  91%|█████████▏| 137/150 [06:44<00:38,  2.96s/it]"
          ]
        },
        {
          "output_type": "stream",
          "name": "stdout",
          "text": [
            "Epoch 137/150, loss: 1.5286693961475604, accuracy: 0.9322\n"
          ]
        },
        {
          "output_type": "stream",
          "name": "stderr",
          "text": [
            "\rTraining:  92%|█████████▏| 138/150 [06:47<00:35,  2.96s/it]"
          ]
        },
        {
          "output_type": "stream",
          "name": "stdout",
          "text": [
            "Epoch 138/150, loss: 1.5283402193087738, accuracy: 0.9328\n"
          ]
        },
        {
          "output_type": "stream",
          "name": "stderr",
          "text": [
            "\rTraining:  93%|█████████▎| 139/150 [06:50<00:32,  2.96s/it]"
          ]
        },
        {
          "output_type": "stream",
          "name": "stdout",
          "text": [
            "Epoch 139/150, loss: 1.5281789866499245, accuracy: 0.9331\n"
          ]
        },
        {
          "output_type": "stream",
          "name": "stderr",
          "text": [
            "\rTraining:  93%|█████████▎| 140/150 [06:53<00:29,  2.95s/it]"
          ]
        },
        {
          "output_type": "stream",
          "name": "stdout",
          "text": [
            "Epoch 140/150, loss: 1.5263893840411982, accuracy: 0.9345\n"
          ]
        },
        {
          "output_type": "stream",
          "name": "stderr",
          "text": [
            "\rTraining:  94%|█████████▍| 141/150 [06:56<00:26,  2.95s/it]"
          ]
        },
        {
          "output_type": "stream",
          "name": "stdout",
          "text": [
            "Epoch 141/150, loss: 1.528504334318752, accuracy: 0.9331\n"
          ]
        },
        {
          "output_type": "stream",
          "name": "stderr",
          "text": [
            "\rTraining:  95%|█████████▍| 142/150 [06:59<00:23,  2.95s/it]"
          ]
        },
        {
          "output_type": "stream",
          "name": "stdout",
          "text": [
            "Epoch 142/150, loss: 1.5256590500426368, accuracy: 0.9353\n"
          ]
        },
        {
          "output_type": "stream",
          "name": "stderr",
          "text": [
            "\rTraining:  95%|█████████▌| 143/150 [07:02<00:20,  2.96s/it]"
          ]
        },
        {
          "output_type": "stream",
          "name": "stdout",
          "text": [
            "Epoch 143/150, loss: 1.5285100076145257, accuracy: 0.9329\n"
          ]
        },
        {
          "output_type": "stream",
          "name": "stderr",
          "text": [
            "\rTraining:  96%|█████████▌| 144/150 [07:05<00:17,  2.96s/it]"
          ]
        },
        {
          "output_type": "stream",
          "name": "stdout",
          "text": [
            "Epoch 144/150, loss: 1.5282069928349016, accuracy: 0.9327\n"
          ]
        },
        {
          "output_type": "stream",
          "name": "stderr",
          "text": [
            "\rTraining:  97%|█████████▋| 145/150 [07:08<00:14,  2.98s/it]"
          ]
        },
        {
          "output_type": "stream",
          "name": "stdout",
          "text": [
            "Epoch 145/150, loss: 1.526378825449715, accuracy: 0.9349\n"
          ]
        },
        {
          "output_type": "stream",
          "name": "stderr",
          "text": [
            "\rTraining:  97%|█████████▋| 146/150 [07:11<00:11,  2.97s/it]"
          ]
        },
        {
          "output_type": "stream",
          "name": "stdout",
          "text": [
            "Epoch 146/150, loss: 1.5274158228700534, accuracy: 0.9335\n"
          ]
        },
        {
          "output_type": "stream",
          "name": "stderr",
          "text": [
            "\rTraining:  98%|█████████▊| 147/150 [07:14<00:08,  2.96s/it]"
          ]
        },
        {
          "output_type": "stream",
          "name": "stdout",
          "text": [
            "Epoch 147/150, loss: 1.5276933443812897, accuracy: 0.9335\n"
          ]
        },
        {
          "output_type": "stream",
          "name": "stderr",
          "text": [
            "\rTraining:  99%|█████████▊| 148/150 [07:17<00:05,  2.95s/it]"
          ]
        },
        {
          "output_type": "stream",
          "name": "stdout",
          "text": [
            "Epoch 148/150, loss: 1.5248252968437754, accuracy: 0.9364\n"
          ]
        },
        {
          "output_type": "stream",
          "name": "stderr",
          "text": [
            "\rTraining:  99%|█████████▉| 149/150 [07:20<00:02,  2.94s/it]"
          ]
        },
        {
          "output_type": "stream",
          "name": "stdout",
          "text": [
            "Epoch 149/150, loss: 1.5262204682865081, accuracy: 0.935\n"
          ]
        },
        {
          "output_type": "stream",
          "name": "stderr",
          "text": [
            "Training: 100%|██████████| 150/150 [07:23<00:00,  2.96s/it]"
          ]
        },
        {
          "output_type": "stream",
          "name": "stdout",
          "text": [
            "Epoch 150/150, loss: 1.5240763319186128, accuracy: 0.9368\n"
          ]
        },
        {
          "output_type": "stream",
          "name": "stderr",
          "text": [
            "\n"
          ]
        }
      ],
      "source": [
        "model = Net().to(device)\n",
        "\n",
        "#define loss function and optimizer\n",
        "criterion = nn.CrossEntropyLoss()\n",
        "optimizer = optim.Adam(model.parameters(), lr=0.001, eps=1e-3)\n",
        "trainloader = torch.utils.data.DataLoader(orig_trainset, batch_size=batch_size, shuffle=True)\n",
        "\n",
        "num_epochs = 150\n",
        "\n",
        "for epoch in tqdm(range(num_epochs), desc=\"Training\"):\n",
        "    running_loss = 0.0\n",
        "    correct, total = 0, 0\n",
        "    for images, labels in trainloader:\n",
        "        images = images.to(device)\n",
        "        labels = labels.to(device)\n",
        "        # zero the parameter gradients\n",
        "        optimizer.zero_grad()\n",
        "\n",
        "        # forward + backward + optimize\n",
        "        outputs = model(images)\n",
        "        # the class with the highest energy is what we choose as prediction\n",
        "        _, predicted = torch.max(outputs.data, 1)\n",
        "        correct += (predicted == labels).sum().item()\n",
        "        total += labels.size(0)\n",
        "\n",
        "        loss = criterion(outputs, labels)\n",
        "        loss.backward()\n",
        "        optimizer.step()\n",
        "\n",
        "        running_loss += loss.item()\n",
        "\n",
        "    print(f\"Epoch {epoch + 1}/{num_epochs}, loss: {running_loss/len(trainloader)}, accuracy: {correct/total}\")"
      ]
    },
    {
      "cell_type": "markdown",
      "metadata": {
        "id": "cD5byEL8JThA"
      },
      "source": [
        "Evaluate the accutracy of the model on the test dataset"
      ]
    },
    {
      "cell_type": "markdown",
      "metadata": {
        "id": "BJoKwePgUBTW"
      },
      "source": [
        "Given a specified data sample, using the pre trained model to predict the classification of the data sample"
      ]
    },
    {
      "cell_type": "code",
      "execution_count": null,
      "metadata": {
        "colab": {
          "base_uri": "https://localhost:8080/"
        },
        "id": "-iSeAhAsRvyF",
        "outputId": "286a8da1-e738-445d-9a92-1c8e13ffc9e4"
      },
      "outputs": [
        {
          "output_type": "stream",
          "name": "stdout",
          "text": [
            "predict probility： tensor([[1.0000e+00, 4.6596e-26, 1.4768e-25, 4.6596e-26, 1.0383e-15, 4.6596e-26,\n",
            "         4.6596e-26, 4.6596e-26, 5.6337e-24, 4.6596e-26]], device='cuda:0')\n",
            "predict label:  tensor([0], device='cuda:0')\n",
            "true label:  0\n"
          ]
        }
      ],
      "source": [
        "### after finish training the model, you can use it to predict the classification for a given image ###\n",
        "image, label = orig_testset[0]\n",
        "image = image[None, :, :, :].to(device)\n",
        "### get the predict probility ###\n",
        "model.eval()\n",
        "with torch.no_grad():\n",
        "    predicted_prob = model.predict(image)\n",
        "    prediction = torch.max(predicted_prob .data, 1)[1]\n",
        "print(\"predict probility：\", predicted_prob)\n",
        "print(\"predict label: \", prediction)\n",
        "print(\"true label: \", label)"
      ]
    },
    {
      "cell_type": "markdown",
      "metadata": {
        "id": "hbcOnTNtUL7z"
      },
      "source": [
        "Evaluate the predict accuracy of the pre train model on the test dataset"
      ]
    },
    {
      "cell_type": "code",
      "execution_count": null,
      "metadata": {
        "colab": {
          "base_uri": "https://localhost:8080/"
        },
        "id": "-kI59KHvGgxr",
        "outputId": "64627757-7878-4faf-893d-91c080cf31bb"
      },
      "outputs": [
        {
          "output_type": "stream",
          "name": "stdout",
          "text": [
            "Test accuracy: 57 %\n"
          ]
        }
      ],
      "source": [
        "correct = 0\n",
        "total = 0\n",
        "testloader = torch.utils.data.DataLoader(orig_testset, batch_size=batch_size, shuffle=False)\n",
        "\n",
        "with torch.no_grad():\n",
        "    for images, labels in testloader:\n",
        "        images = images.to(device)\n",
        "        labels = labels.to(device)\n",
        "\n",
        "        predicted = model.predict(images)\n",
        "        predicted = torch.max(predicted.data, 1)[1]\n",
        "        total += labels.size(0)\n",
        "        correct += (predicted == labels).sum().item()\n",
        "\n",
        "eval_acc = 100 * correct // total\n",
        "print(f'Test accuracy: {eval_acc} %')"
      ]
    },
    {
      "cell_type": "markdown",
      "metadata": {
        "id": "G04ZUiu_iU1Z"
      },
      "source": [
        "# **2. Introduction about Membership Inference Attack**\n",
        "Generally, for a pre-trained model,we could not know the information about the train dataset,which is sensitive data. For example, for the model provided by Google, Amazon, etc, we just use the API for our own task. In this case, for given a data sample, we could not know whether it belongs to the train dataset of the pre-trained model."
      ]
    },
    {
      "cell_type": "markdown",
      "metadata": {
        "id": "VqkRDt-Sibdk"
      },
      "source": [
        "![figure1.JPG](data:image/jpeg;base64,/9j/4AAQSkZJRgABAQEAkACQAAD/4RDcRXhpZgAATU0AKgAAAAgABAE7AAIAAAAGAAAISodpAAQAAAABAAAIUJydAAEAAAAMAAAQyOocAAcAAAgMAAAAPgAAAAAc6gAAAAgAAAAAAAAAAAAAAAAAAAAAAAAAAAAAAAAAAAAAAAAAAAAAAAAAAAAAAAAAAAAAAAAAAAAAAAAAAAAAAAAAAAAAAAAAAAAAAAAAAAAAAAAAAAAAAAAAAAAAAAAAAAAAAAAAAAAAAAAAAAAAAAAAAAAAAAAAAAAAAAAAAAAAAAAAAAAAAAAAAAAAAAAAAAAAAAAAAAAAAAAAAAAAAAAAAAAAAAAAAAAAAAAAAAAAAAAAAAAAAAAAAAAAAAAAAAAAAAAAAAAAAAAAAAAAAAAAAAAAAAAAAAAAAAAAAAAAAAAAAAAAAAAAAAAAAAAAAAAAAAAAAAAAAAAAAAAAAAAAAAAAAAAAAAAAAAAAAAAAAAAAAAAAAAAAAAAAAAAAAAAAAAAAAAAAAAAAAAAAAAAAAAAAAAAAAAAAAAAAAAAAAAAAAAAAAAAAAAAAAAAAAAAAAAAAAAAAAAAAAAAAAAAAAAAAAAAAAAAAAAAAAAAAAAAAAAAAAAAAAAAAAAAAAAAAAAAAAAAAAAAAAAAAAAAAAAAAAAAAAAAAAAAAAAAAAAAAAAAAAAAAAAAAAAAAAAAAAAAAAAAAAAAAAAAAAAAAAAAAAAAAAAAAAAAAAAAAAAAAAAAAAAAAAAAAAAAAAAAAAAAAAAAAAAAAAAAAAAAAAAAAAAAAAAAAAAAAAAAAAAAAAAAAAAAAAAAAAAAAAAAAAAAAAAAAAAAAAAAAAAAAAAAAAAAAAAAAAAAAAAAAAAAAAAAAAAAAAAAAAAAAAAAAAAAAAAAAAAAAAAAAAAAAAAAAAAAAAAAAAAAAAAAAAAAAAAAAAAAAAAAAAAAAAAAAAAAAAAAAAAAAAAAAAAAAAAAAAAAAAAAAAAAAAAAAAAAAAAAAAAAAAAAAAAAAAAAAAAAAAAAAAAAAAAAAAAAAAAAAAAAAAAAAAAAAAAAAAAAAAAAAAAAAAAAAAAAAAAAAAAAAAAAAAAAAAAAAAAAAAAAAAAAAAAAAAAAAAAAAAAAAAAAAAAAAAAAAAAAAAAAAAAAAAAAAAAAAAAAAAAAAAAAAAAAAAAAAAAAAAAAAAAAAAAAAAAAAAAAAAAAAAAAAAAAAAAAAAAAAAAAAAAAAAAAAAAAAAAAAAAAAAAAAAAAAAAAAAAAAAAAAAAAAAAAAAAAAAAAAAAAAAAAAAAAAAAAAAAAAAAAAAAAAAAAAAAAAAAAAAAAAAAAAAAAAAAAAAAAAAAAAAAAAAAAAAAAAAAAAAAAAAAAAAAAAAAAAAAAAAAAAAAAAAAAAAAAAAAAAAAAAAAAAAAAAAAAAAAAAAAAAAAAAAAAAAAAAAAAAAAAAAAAAAAAAAAAAAAAAAAAAAAAAAAAAAAAAAAAAAAAAAAAAAAAAAAAAAAAAAAAAAAAAAAAAAAAAAAAAAAAAAAAAAAAAAAAAAAAAAAAAAAAAAAAAAAAAAAAAAAAAAAAAAAAAAAAAAAAAAAAAAAAAAAAAAAAAAAAAAAAAAAAAAAAAAAAAAAAAAAAAAAAAAAAAAAAAAAAAAAAAAAAAAAAAAAAAAAAAAAAAAAAAAAAAAAAAAAAAAAAAAAAAAAAAAAAAAAAAAAAAAAAAAAAAAAAAAAAAAAAAAAAAAAAAAAAAAAAAAAAAAAAAAAAAAAAAAAAAAAAAAAAAAAAAAAAAAAAAAAAAAAAAAAAAAAAAAAAAAAAAAAAAAAAAAAAAAAAAAAAAAAAAAAAAAAAAAAAAAAAAAAAAAAAAAAAAAAAAAAAAAAAAAAAAAAAAAAAAAAAAAAAAAAAAAAAAAAAAAAAAAAAAAAAAAAAAAAAAAAAAAAAAAAAAAAAAAAAAAAAAAAAAAAAAAAAAAAAAAAAAAAAAAAAAAAAAAAAAAAAAAAAAAAAAAAAAAAAAAAAAAAAAAAAAAAAAAAAAAAAAAAAAAAAAAAAAAAAAAAAAAAAAAAAAAAAAAAAAAAAAAAAAAAAAAAAAAAAAAAAAAAAAAAAAAAAAAAAAAAAAAAAAAAAAAAAAAAAAAAAAAAAAAAAAAAAAAAAAAAAAAAAAAAAAAAAAAAAAAAAAAAAAAAAAAAAAAAAAAAAAAAAAAAAAAAAAAAAAAAAAAAAAAAAAAAAAAAAAAAAAAAAAAAAAAAAAAAAAAAAAAAAAAAAAAAAAAAAAAAAAAAAAAAAAAAAAAAAAAAAAAAAAAAAAAAAAAAAAAAAAAAAAAAAAAAAAAAAAAAAAAAAAAAAAAAAAAAAAAAAAAAAAAAAAAAAAAAAAAAAAAAAAAAAAAAAAAAAAAAAAAAAAAAAAAAAAAAAAAAAAAAAAAAAAAAAAAAAAAAAAAAAAAAAAAAAAAAAAAAAAAAAAAAAAAAAAAAAAAAAAAAAAAAAAAAAAAAAAAAAAAAAAAAAAAAAAAAAAAAAAAAAAAAAAAAAAAAAAAAAAAAAAAAAAAAAAAAAAAAAAAAAAAAAAAAAAAAAAAAAAAAAAAAAAAAAAAAAAAAAAAAAAAAAAAAAAAAAAAAAAAAAAAAAAAAAAAAAAAAAAAAAAAAAAAAAAAAAAAAAAAAAAAAAAAAAAAAAAAAAAAAAAAAAAAAAAAAAAAAAAAAAAAAAAAAAAAAAAAAAAAAAAAAAAAAAAAAAAAAAAAAAAAAAAAAAAAAAAAAAAAAAAAAAAAAAAAAAAAAAAAAAAAAAAAAAAAAAAAAAAAAAAAAAAAAAAAAAAAAAAAAAAAAAAAAAAAAAAAAAAAAAAAAAAAAAAAAAAAAAAAAAAAAAAAAAAAAAAAEppbW15AAAFkAMAAgAAABQAABCekAQAAgAAABQAABCykpEAAgAAAAMyNgAAkpIAAgAAAAMyNgAA6hwABwAACAwAAAiSAAAAABzqAAAACAAAAAAAAAAAAAAAAAAAAAAAAAAAAAAAAAAAAAAAAAAAAAAAAAAAAAAAAAAAAAAAAAAAAAAAAAAAAAAAAAAAAAAAAAAAAAAAAAAAAAAAAAAAAAAAAAAAAAAAAAAAAAAAAAAAAAAAAAAAAAAAAAAAAAAAAAAAAAAAAAAAAAAAAAAAAAAAAAAAAAAAAAAAAAAAAAAAAAAAAAAAAAAAAAAAAAAAAAAAAAAAAAAAAAAAAAAAAAAAAAAAAAAAAAAAAAAAAAAAAAAAAAAAAAAAAAAAAAAAAAAAAAAAAAAAAAAAAAAAAAAAAAAAAAAAAAAAAAAAAAAAAAAAAAAAAAAAAAAAAAAAAAAAAAAAAAAAAAAAAAAAAAAAAAAAAAAAAAAAAAAAAAAAAAAAAAAAAAAAAAAAAAAAAAAAAAAAAAAAAAAAAAAAAAAAAAAAAAAAAAAAAAAAAAAAAAAAAAAAAAAAAAAAAAAAAAAAAAAAAAAAAAAAAAAAAAAAAAAAAAAAAAAAAAAAAAAAAAAAAAAAAAAAAAAAAAAAAAAAAAAAAAAAAAAAAAAAAAAAAAAAAAAAAAAAAAAAAAAAAAAAAAAAAAAAAAAAAAAAAAAAAAAAAAAAAAAAAAAAAAAAAAAAAAAAAAAAAAAAAAAAAAAAAAAAAAAAAAAAAAAAAAAAAAAAAAAAAAAAAAAAAAAAAAAAAAAAAAAAAAAAAAAAAAAAAAAAAAAAAAAAAAAAAAAAAAAAAAAAAAAAAAAAAAAAAAAAAAAAAAAAAAAAAAAAAAAAAAAAAAAAAAAAAAAAAAAAAAAAAAAAAAAAAAAAAAAAAAAAAAAAAAAAAAAAAAAAAAAAAAAAAAAAAAAAAAAAAAAAAAAAAAAAAAAAAAAAAAAAAAAAAAAAAAAAAAAAAAAAAAAAAAAAAAAAAAAAAAAAAAAAAAAAAAAAAAAAAAAAAAAAAAAAAAAAAAAAAAAAAAAAAAAAAAAAAAAAAAAAAAAAAAAAAAAAAAAAAAAAAAAAAAAAAAAAAAAAAAAAAAAAAAAAAAAAAAAAAAAAAAAAAAAAAAAAAAAAAAAAAAAAAAAAAAAAAAAAAAAAAAAAAAAAAAAAAAAAAAAAAAAAAAAAAAAAAAAAAAAAAAAAAAAAAAAAAAAAAAAAAAAAAAAAAAAAAAAAAAAAAAAAAAAAAAAAAAAAAAAAAAAAAAAAAAAAAAAAAAAAAAAAAAAAAAAAAAAAAAAAAAAAAAAAAAAAAAAAAAAAAAAAAAAAAAAAAAAAAAAAAAAAAAAAAAAAAAAAAAAAAAAAAAAAAAAAAAAAAAAAAAAAAAAAAAAAAAAAAAAAAAAAAAAAAAAAAAAAAAAAAAAAAAAAAAAAAAAAAAAAAAAAAAAAAAAAAAAAAAAAAAAAAAAAAAAAAAAAAAAAAAAAAAAAAAAAAAAAAAAAAAAAAAAAAAAAAAAAAAAAAAAAAAAAAAAAAAAAAAAAAAAAAAAAAAAAAAAAAAAAAAAAAAAAAAAAAAAAAAAAAAAAAAAAAAAAAAAAAAAAAAAAAAAAAAAAAAAAAAAAAAAAAAAAAAAAAAAAAAAAAAAAAAAAAAAAAAAAAAAAAAAAAAAAAAAAAAAAAAAAAAAAAAAAAAAAAAAAAAAAAAAAAAAAAAAAAAAAAAAAAAAAAAAAAAAAAAAAAAAAAAAAAAAAAAAAAAAAAAAAAAAAAAAAAAAAAAAAAAAAAAAAAAAAAAAAAAAAAAAAAAAAAAAAAAAAAAAAAAAAAAAAAAAAAAAAAAAAAAAAAAAAAAAAAAAAAAAAAAAAAAAAAAAAAAAAAAAAAAAAAAAAAAAAAAAAAAAAAAAAAAAAAAAAAAAAAAAAAAAAAAAAAAAAAAAAAAAAAAAAAAAAAAAAAAAAAAAAAAAAAAAAAAAAAAAAAAAAAAAAAAAAAAAAAAAAAAAAAAAAAAAAAAAAAAAAAAAAAAAAAAAAAAAAAAAAAAAAAAAAAAAAAAAAAAAAAAAAAAAAAAAAAAAAAAAAAAAAAAAAAAAAAAAAAAAAAAAAAAAAAAAAAAAAAAAAAAAAAAAAAAAAAAAAAAAAAAAAAAAAAAAAAAAAAAAAAAAAAAAAAAAAAAAAAAAAAAAAAAAAAAAAAAAAAAAAAAAAAAAAAAAAAAAAAAAAAAAAAAAAAAAAAAAAAAAAAAAAAAAAAAAAAAAAAAAAAAAAAAAAAAAAAAAAAAAAAAAAAAAAAAAAAAAAAAAAAAAAAAAAAAAAAAAAAAAAAAAAAAAAAAAAAAAAAAAAAAAAAAAAAAAAAAAAAAAAAAAAAAAAAAAAAAAAAAAAAAAAAAAAAAAAAAAAAAAAAAAAAAAAAAAAAAAAAAAAAAAAAAAAAAAAAAAAAAAAAAAAAAAAAAAAAAAAAAAAAAAAAAAAAAAAAAAAAAAAAAAAAAAAAAAAAAAAAAAAAAAAAAAAAAAAAAAAAAAAAAAAAAAAAAAAAAAAAAAAAAAAAAAAAAAAAAAAAAAAAAAAAAAAAAAAAAAAAAAAAAAAAAAAAAAAAAAAAAAAAAAAAAAAAAAAAAAAAAAAAAAAAAAAAAAAAAAAAAAAAAAAAAAAAAAAAAAAAAAAAAAAAAAAAAAAAAAAAAAAAAAAAAAAAAAAAAAAAAAAAAAAAAAAAAAAAAAAAAAAAAAAAAAAAAAAAAAAAAAAAAAAAAAAAAAAAAAAAAAAAAAAAAAAAAAAAAAAAAAAAAAAAAAAAAAAAAAAAAAAAAAAAAAAAAAAAAAAAAAAAAAAAAAAMjAyMDoxMDoxNyAxMzoxMDo1MwAyMDIwOjEwOjE3IDEzOjEwOjUzAAAASgBpAG0AbQB5AAAA/+ELGGh0dHA6Ly9ucy5hZG9iZS5jb20veGFwLzEuMC8APD94cGFja2V0IGJlZ2luPSfvu78nIGlkPSdXNU0wTXBDZWhpSHpyZVN6TlRjemtjOWQnPz4NCjx4OnhtcG1ldGEgeG1sbnM6eD0iYWRvYmU6bnM6bWV0YS8iPjxyZGY6UkRGIHhtbG5zOnJkZj0iaHR0cDovL3d3dy53My5vcmcvMTk5OS8wMi8yMi1yZGYtc3ludGF4LW5zIyI+PHJkZjpEZXNjcmlwdGlvbiByZGY6YWJvdXQ9InV1aWQ6ZmFmNWJkZDUtYmEzZC0xMWRhLWFkMzEtZDMzZDc1MTgyZjFiIiB4bWxuczpkYz0iaHR0cDovL3B1cmwub3JnL2RjL2VsZW1lbnRzLzEuMS8iLz48cmRmOkRlc2NyaXB0aW9uIHJkZjphYm91dD0idXVpZDpmYWY1YmRkNS1iYTNkLTExZGEtYWQzMS1kMzNkNzUxODJmMWIiIHhtbG5zOnhtcD0iaHR0cDovL25zLmFkb2JlLmNvbS94YXAvMS4wLyI+PHhtcDpDcmVhdGVEYXRlPjIwMjAtMTAtMTdUMTM6MTA6NTMuMjY0PC94bXA6Q3JlYXRlRGF0ZT48L3JkZjpEZXNjcmlwdGlvbj48cmRmOkRlc2NyaXB0aW9uIHJkZjphYm91dD0idXVpZDpmYWY1YmRkNS1iYTNkLTExZGEtYWQzMS1kMzNkNzUxODJmMWIiIHhtbG5zOmRjPSJodHRwOi8vcHVybC5vcmcvZGMvZWxlbWVudHMvMS4xLyI+PGRjOmNyZWF0b3I+PHJkZjpTZXEgeG1sbnM6cmRmPSJodHRwOi8vd3d3LnczLm9yZy8xOTk5LzAyLzIyLXJkZi1zeW50YXgtbnMjIj48cmRmOmxpPkppbW15PC9yZGY6bGk+PC9yZGY6U2VxPg0KCQkJPC9kYzpjcmVhdG9yPjwvcmRmOkRlc2NyaXB0aW9uPjwvcmRmOlJERj48L3g6eG1wbWV0YT4NCiAgICAgICAgICAgICAgICAgICAgICAgICAgICAgICAgICAgICAgICAgICAgICAgICAgICAgICAgICAgICAgICAgICAgICAgICAgICAgICAgICAgICAgICAgICAgICAgICAgICAKICAgICAgICAgICAgICAgICAgICAgICAgICAgICAgICAgICAgICAgICAgICAgICAgICAgICAgICAgICAgICAgICAgICAgICAgICAgICAgICAgICAgICAgICAgICAgICAgICAgIAogICAgICAgICAgICAgICAgICAgICAgICAgICAgICAgICAgICAgICAgICAgICAgICAgICAgICAgICAgICAgICAgICAgICAgICAgICAgICAgICAgICAgICAgICAgICAgICAgICAgCiAgICAgICAgICAgICAgICAgICAgICAgICAgICAgICAgICAgICAgICAgICAgICAgICAgICAgICAgICAgICAgICAgICAgICAgICAgICAgICAgICAgICAgICAgICAgICAgICAgICAKICAgICAgICAgICAgICAgICAgICAgICAgICAgICAgICAgICAgICAgICAgICAgICAgICAgICAgICAgICAgICAgICAgICAgICAgICAgICAgICAgICAgICAgICAgICAgICAgICAgIAogICAgICAgICAgICAgICAgICAgICAgICAgICAgICAgICAgICAgICAgICAgICAgICAgICAgICAgICAgICAgICAgICAgICAgICAgICAgICAgICAgICAgICAgICAgICAgICAgICAgCiAgICAgICAgICAgICAgICAgICAgICAgICAgICAgICAgICAgICAgICAgICAgICAgICAgICAgICAgICAgICAgICAgICAgICAgICAgICAgICAgICAgICAgICAgICAgICAgICAgICAKICAgICAgICAgICAgICAgICAgICAgICAgICAgICAgICAgICAgICAgICAgICAgICAgICAgICAgICAgICAgICAgICAgICAgICAgICAgICAgICAgICAgICAgICAgICAgICAgICAgIAogICAgICAgICAgICAgICAgICAgICAgICAgICAgICAgICAgICAgICAgICAgICAgICAgICAgICAgICAgICAgICAgICAgICAgICAgICAgICAgICAgICAgICAgICAgICAgICAgICAgCiAgICAgICAgICAgICAgICAgICAgICAgICAgICAgICAgICAgICAgICAgICAgICAgICAgICAgICAgICAgICAgICAgICAgICAgICAgICAgICAgICAgICAgICAgICAgICAgICAgICAKICAgICAgICAgICAgICAgICAgICAgICAgICAgICAgICAgICAgICAgICAgICAgICAgICAgICAgICAgICAgICAgICAgICAgICAgICAgICAgICAgICAgICAgICAgICAgICAgICAgIAogICAgICAgICAgICAgICAgICAgICAgICAgICAgICAgICAgICAgICAgICAgICAgICAgICAgICAgICAgICAgICAgICAgICAgICAgICAgICAgICAgICAgICAgICAgICAgICAgICAgCiAgICAgICAgICAgICAgICAgICAgICAgICAgICAgICAgICAgICAgICAgICAgICAgICAgICAgICAgICAgICAgICAgICAgICAgICAgICAgICAgICAgICAgICAgICAgICAgICAgICAKICAgICAgICAgICAgICAgICAgICAgICAgICAgICAgICAgICAgICAgICAgICAgICAgICAgICAgICAgICAgICAgICAgICAgICAgICAgICAgICAgICAgICAgICAgICAgICAgICAgIAogICAgICAgICAgICAgICAgICAgICAgICAgICAgICAgICAgICAgICAgICAgICAgICAgICAgICAgICAgICAgICAgICAgICAgICAgICAgICAgICAgICAgICAgICAgICAgICAgICAgCiAgICAgICAgICAgICAgICAgICAgICAgICAgICAgICAgICAgICAgICAgICAgICAgICAgICAgICAgICAgICAgICAgICAgICAgICAgICAgICAgICAgICAgICAgICAgICAgICAgICAKICAgICAgICAgICAgICAgICAgICAgICAgICAgICAgICAgICAgICAgICAgICAgICAgICAgICAgICAgICAgICAgICAgICAgICAgICAgICAgICAgICAgICAgICAgICAgICAgICAgIAogICAgICAgICAgICAgICAgICAgICAgICAgICAgICAgICAgICAgICAgICAgICAgICAgICAgICAgICAgICAgICAgICAgICAgICAgICAgICAgICAgICAgICAgICAgICAgICAgICAgCiAgICAgICAgICAgICAgICAgICAgICAgICAgICAgICAgICAgICAgICAgICAgICAgICAgICAgICAgICAgICAgICAgICAgICAgICAgICAgICAgICAgICAgICAgICAgICAgICAgICAKICAgICAgICAgICAgICAgICAgICAgICAgICAgICAgICAgICAgICAgICAgICAgICAgICAgICAgICAgICAgICAgICAgICAgICAgICAgICAgICAgICAgICAgICAgICAgICAgICAgIAogICAgICAgICAgICAgICAgICAgICAgICAgICAgPD94cGFja2V0IGVuZD0ndyc/Pv/bAEMABwUFBgUEBwYFBggHBwgKEQsKCQkKFQ8QDBEYFRoZGBUYFxseJyEbHSUdFxgiLiIlKCkrLCsaIC8zLyoyJyorKv/bAEMBBwgICgkKFAsLFCocGBwqKioqKioqKioqKioqKioqKioqKioqKioqKioqKioqKioqKioqKioqKioqKioqKioqKv/AABEIASwCAAMBIgACEQEDEQH/xAAfAAABBQEBAQEBAQAAAAAAAAAAAQIDBAUGBwgJCgv/xAC1EAACAQMDAgQDBQUEBAAAAX0BAgMABBEFEiExQQYTUWEHInEUMoGRoQgjQrHBFVLR8CQzYnKCCQoWFxgZGiUmJygpKjQ1Njc4OTpDREVGR0hJSlNUVVZXWFlaY2RlZmdoaWpzdHV2d3h5eoOEhYaHiImKkpOUlZaXmJmaoqOkpaanqKmqsrO0tba3uLm6wsPExcbHyMnK0tPU1dbX2Nna4eLj5OXm5+jp6vHy8/T19vf4+fr/xAAfAQADAQEBAQEBAQEBAAAAAAAAAQIDBAUGBwgJCgv/xAC1EQACAQIEBAMEBwUEBAABAncAAQIDEQQFITEGEkFRB2FxEyIygQgUQpGhscEJIzNS8BVictEKFiQ04SXxFxgZGiYnKCkqNTY3ODk6Q0RFRkdISUpTVFVWV1hZWmNkZWZnaGlqc3R1dnd4eXqCg4SFhoeIiYqSk5SVlpeYmZqio6Slpqeoqaqys7S1tre4ubrCw8TFxsfIycrS09TV1tfY2dri4+Tl5ufo6ery8/T19vf4+fr/2gAMAwEAAhEDEQA/APpGiiigAooooAKKKKACiiigAooooAKKKKACiiigAooooAKKKKACiiigAooooAKKKKACiiigAooooAKKKKACiiigAooooAKKKKACiiigAooooAKKKKACiiigAooooAKKKKACiiigAooooAKKKKACiiigAooooAKKKKACiiigAooooAKKKKACiiigAooooAKKKKACiiigAooooAKKKKACiiigAooooAKKKKACiiigAooooAKKKKACiiigAooooAKKKKACiiigAooooAKKKKACiiseHUdR1SFJdLtY7e3kUMlzdtksp6MsanJH+8yn2oA2Og5rMl16zEjQ2nmX06nBjtF37T6Fvur+JFNGhJcfNq1zNqB/55yHbEP+2a4BH+9urSiijgiWOGNY0UYVUXAH4UAZuNavfvNDpkR7L++m/M/Kp/BqP+EetG+eWa8kuP8An4N04cfTBAA9gAPatWigDK8nWLL/AFFzFqMY/guR5cn/AH2owfxX8aVdftomCalHLp0h4/0lcIT7SDK/rn2rUpGUOpVgGUjBBHWgAVg6hlIZTyCD1pay20C2iYvpsk2nOef9GYBD9Yzlf0z70hn1ix/4+LeLUYh/HbHy5P8AvhjtP13fhQBq0VFa3Md5Zw3UBJimRZEJGMgjI4/GpaACiiigAooooAKKKKACiiigAooooAKKKKACiiigAooooAKKKKACiiigAooooAKKKKACiiigAooooAKKKKACiiigAooooAKKKKACiiigAooooAKKKKACiiigAooooAKKKKACiiigAooooAQ9KzfDf/Ir6Z/16R/+gitI9KzfDf8AyK+mf9ekf/oIoAu3l3FYWFxd3BIit42lcgZIVRk/oK5DSfiz4V1rwdqfiexupjpulki5Z4SrqcA8L3zkYroPFH/In6x/14z/APotq+UPC0MsOk6T4UjRvs3jJLKeQgcAQzyCX/x1BQB9VeFPFel+M/D0OtaG8j2UzMqtKhQ5U4PB9xW1XyV4Wngu9E8BaH4n1GXTfCl1LfyXDpOYElmWRtqu4xgD5f8Avqp7nXb+28GazpOm61fN4Pj8UQ2cepiVmZLVtxdRJ/d4Xn396APpSHxXpc3jSfwtG8h1SC0F46eWdvlkgA7vXJHFaV/fQ6bpt1fXRIgtYXmkKjJCqCTx9BXy1cTWnhvxj43f4cavPqEVr4ZAguVuTOYcyxbwj99oJPsc+lL4TN1a3L/2brFkbe98OXT39nFq0l49wfIciVlKYjcNjIJGOn1APprw/rtl4m0Cz1nSmdrO8j8yJnXaSM45HbpWg/8Aq2+hriPgv/yRnw1/16f+zNXbv/q2+hoAz/Dv/Ir6X/15xf8AoArSrN8O/wDIr6X/ANecX/oArSoAKKKKACiiigAooooAKKKKACiiigAooooAKKKKACiiigAooooAKKKKACiiigAooooAKKKKACiiigAooooAKKKKACiiigAooooAKKKKACiiigAooooAKKKKACiiigAooooAKKKKACiiigBD0rN8N/8AIr6Z/wBekf8A6CK06yjoUcBLaVcTae3XZEd0R/7ZtlR+GD70AackaTRPHKivG4KsjDIYHqCO4qhF4f0aB7V4NIsY2s1ZbZktkBgB6hMD5Qcnp61Ct9qdqWFzaxX6IcNLZNhl+sbHj8GJ9qtWer2N9IYoJwJlGWgkBSRfqjYI/KgCvP4W0C50ldLuND06TT1betq1qhiDeoXGAeTzUqaBo8ejHSI9Ksl00jabMW6iEj02Yx+laFFAGZp/hvQ9KOdL0bT7M+V5Obe1RDsznbkDpnnFMsPCvh/SvtP9maHp1n9qUrceRaInmqeobA5Hsa1qqXmqWWn7Rd3Mcbt92POXf2Cjk/gKAJbS0trC1jtbG3itreIYjihQIiD0AHAqR/8AVt9DWZ/aGo3nGnaeYUPSe+Oz8RGPmP0O2j+xGuudXvZrwHrCp8qH6bV5I9mJoAf4d/5FfS/+vOL/ANAFaVNjjSKNY4lVEQBVVRgADoBTqACiiigAooooAKKKKACiiigAooooAKKKKACiiigAooooAKKKKACiiigAooooAKKKKACiiigAooooAKKKKACiiigAooooAKKKKACiiigAooooAKKKKACiiigAooooAKKKKACiiigAqreanZaft+2XMcTN9xCcu/8AuqOWP0FWqzr/AEmG4uBfRSG0vo02rdIBnaOdrA8MvXg9MnGDzQBH/aOoXnGm6ayIek983lDHqEGXP0YL9aP7HmuudW1Ga4HeGDMEX5Kdx+hYj2qbRb2fUNKiubmNUZydpTO2RckK4B5AYc4PTNX6AMbR7W30/WNUtbSCOCI+VMEjUKOVK5wP9ytG8sLTUIwl7bRTqpyu9Qdp9Qex9xVOH5fFt36PZQfo8v8AiK1KAMr+y7y050vUpFXtBeAzp+DEhx+LED0o/tDVl/dPo26Y9JI7pTB+LHDj8EP41q0UAZX2DUrznUdQ8iM/8sLEbOPQyHLH6rsrMt/Delp4ovxDbtDN9lgkFxFIyy5LSA5fO5vuDgkiuorLP7vxaP8Ap4sT/wCQ3/8AtlACeVrNj/qZotTiH8M+IpR/wJRtb6bV+tPi16081Yb0SafOxwI7tdm4+ityrH2UmtKs/XJZYdFuJILVLpgvMci7htyNx2/xYGTtHJxjvQBoUVm6Fp9vp2lRpZzmeKQ+aJN3yndz8gHCr6AcfzrSoAKKKKACiiigAooooAKKKKACiiigAooooAKKKKACiiigAooooAKKKKACiiigAooooAKKKKACiiigAooooAKKKKACiiigAooooAKKKKACiiigAooooAKKKKACiiigAooooAKKKKAI4p4p1LQSJIqsVJRgQCDgjjuDWZqZOp3q6REf3W0SXrDtH2j+rkHP+yD6iqOmaTlbyfT5TZXqXs4Z1GVlBkLASL/Fw3XgjsRWzplgbC1KyyedcSuZbibGPMc9TjsAAAB2AA7UAWwAAABgDoBWfqGqS211Fa2Vo17OVMkkaOFKRjjOTxkngAkZ554NWb69i0+ykuZ8lUHCqMlieAoHck4A+tV9Js5beGS4vMG9um8ycg5C+iA+ijj35Pc0AUbXUba98UQvbOctZyLJG6lXjZXQ4ZTyD8/et6oTaW5vBdmCP7SqGMTbRvCk5K564yBxU1ABRRRQAVk38kdv4i0+4mdY4xb3CM7HAH+rbJP0Q1rVVvdNs9RaA30Cz/Z5PNjD8gNgjOO/Xv8AXtQAmn6naapE8llKZFRtrZQqQevQgHBBBB6EEEcVbrK1O3ltbhdVsULyxrtuIV6zxdcD/aXJI/Ed60be4iureO4t3EkUihkdehBoAyov+JHqIgPGnXcn7k9oJT/B7Kx5HocjuorZqK6tYb21ktrlA8Ui7WU1R0u6mimfTNQcvcwrujlP/LxF0D/UdG9+ehFAGnRRRQAUUUUAFFFFABRRRQAUUUUAFFFFABRRRQAUUUUAFFFFABRRRQAUUUUAFFFFABRRRQAUUUUAFFFFABRRRQAUUUUAFFFFABRRRQAUUUUAFFFFABRRRQAUUUUAFFFFABRRRQBl6Rxeauh/hvePxijP9a1Kwk1C00zXNVF7cxwiRopFDtgsSm3AHUn5O1WP7UvLvjS9NkKnpPeEwp+C4Ln8VH1oAbq8N19us7xIDd2tqWZ7dDh9/QOM8NgZ+XjrkZIAq/ZX1tqFv51nKJEB2txgow6qwPII9DzVL+ybq651XUppFPWG1zBH+YO8/wDfWPar1nY2thD5VjbxW8ZO4rGgXJ9TjqfegCeiiigAooooAKKKKACsb/kB6l6adeSfhbzMf/QXJ/Bj/tcbNR3EEV1byW9xGskUqlHRhkMDwRQBJVHU7Br2FHt3EV3bt5lvKR91vQ+qkcEeh9cVBpk8trcnSb6RpJY13W8znmeL3P8AeXgH14PfA1aAKmm366haeZsMU0bGOeFjzE46qf5g9wQehq3WTqUMlhdf2vZoz4ULdwoMmWMdGA/vLyR6jI64xpwzR3EKTQOskcihkdTkMD0IoAfRRRQAUUUUAFFFFABRRRQAUUUUAFFFFABRRRQAUUUUAFFFFABRRRQAUUUUAFFFFABRRRQAUUUUAFFFFABRRRQAUUUUAcrf3t1qupXMENzLa2NrJ5R8htrzOB8xLdQoJxgYOQearf2VCetxqB+uoT//ABdLp3/L7/1/3P8A6OerlMRS/sqH/n4v/wDwPn/+Lo/sqH/n4v8A/wAD5/8A4urtFAFL+yof+fi//wDA+f8A+Lo/sqH/AJ+L/wD8D5//AIurtcL8Yde1Pw38PJtQ0S8NndrcRIJgqtgM2DwwIoA63+yof+fi/wD/AAPn/wDi6P7Kh/5+L/8A8D5//i68j0bxrrOkfELTdLfxjb+L9PvLSaa4ENvGrWxRCw+ZPp3P4dK3bX43aVc6DJq50XVYrTKRW7NEP9KnZiPKjOcEjGSc+tAHf/2VD/z8X/8A4Hz/APxdH9lQ/wDPxf8A/gfP/wDF1xUXxh0iLS9Wn1rT77S7zSQhmsJlUyPvOE2YODkkemKwU+JGs6t8QY7P7LqOhWg0S4uZLO6gTeXCsyyqT14xxkDIwaAPU/7Kh/5+L/8A8D5//i6P7Kh/5+L/AP8AA+f/AOLrz7Svielh4N8OB4dS8Raxq8cjwxRQok0iqzAswB2qBjHGelUdZ+L95LJ4am8PaRfCK9vzb3kE0C+YWBAMK5PD85z0waAPT/7Kh/5+L/8A8D5//i6P7Kh/5+L/AP8AA+f/AOLrgLT4i2+iv4xvtbvr26g03UEt4bUwIrIzbsRx4PzZx1bHSrln8WbUtqNvrWh6jpF/ZWLX62lyF3TxKMkqfX2P9DQB139g2X2k3Gbvzyu0y/bZt2PTO7OOTUv9lQ/8/F//AOB8/wD8XXF6J8W7LWNb0mxl0TVLCHWEJsbq5RQkxAyQMHPtn6V6DQBS/sqH/n4v/wDwPn/+Lo/sqH/n4v8A/wAD5/8A4urtFAFL+yof+fi//wDA+f8A+LpRYzW/z2GpX0Eo5UyXDzIfqrkgj8j7irlFAGvomotqulR3MiCOYM0cqA5CujFWx7ZBI9sVk6vf3V5q0un2dw9rb2yr9oliwHd2GQgP8ICkEkc/MMYxVjwp/wAed8PS+l/pWcv/ACMGt/8AX2n/AKIipDIv7KiP3rnUGPqdQn/+Lo/sqH/n4v8A/wAD5/8A4urtFMRS/sqH/n4v/wDwPn/+Lo/sqH/n4v8A/wAD5/8A4urtFAGfJodpK8bySXrNE25GN9NlTgjI+f0JFP8A7Kh/5+L/AP8AA+f/AOLq7WR4l0zVtW0tbfQtbbRbkSBjcrbrMSuDldrcc8c+1AFr+yof+fi//wDA+f8A+LpkOh2lvGI4JL2NBnCrfTADJz/frx7wj4l8VR6Dq3i7xD4quL3TtCvpbafTksogblVCgHfxt5cHHtXXp8WUn0m3vbTwvrUzXk3l2cJhCmddoYyZPATnAPegDtf7Kh/5+L//AMD5/wD4uj+yof8An4v/APwPn/8Ai6861P4mRaz4Z0rUtJnv9Jdtdj0+5i8iOR92DujOTjaePmHPtVjUvjPZafcaqF8Patc2+j3jWt9dRIhjiw20NnPOT2oA73+yof8An4v/APwPn/8Ai6P7Kh/5+L//AMD5/wD4uuIn8crZ+OtWkN7d3GnWmgLqS2SwoExwdwfO7cQeh45p2jfF6w1XWNKs7jRdT0631eNmsry6RRHKVGWHB6e/07GgDtf7Kh/5+L//AMD5/wD4uj+yof8An4v/APwPn/8Ai689b446b5a3aaBq7aZNdC1ttQ8tRFM+cHBJ4/8ArGvT6AKX9lQ/8/F//wCB8/8A8XR/ZUP/AD8X/wD4Hz//ABdXaKAKX9lQ/wDPxf8A/gfP/wDF0f2VD/z8X/8A4Hz/APxdXaKAKY05ovmtdQ1CCQdG+2SSAf8AAXJU/iK3tA1KbULKVbwKLq1lMExQYVjgMGA7ZVlOOxJHas2pfDH/ACENZH/TxGf/ACEtAHQ0UUUhhRRRQAUUUUAFFFFABRRRQAUUUUAFFFFABRRRQAUUUUAFFFFABRRRQBxuncG9B6i/uf8A0ax/rVyn6jpF7a6jNe6VGlzFckPNbF9jK+ANyE8HIAypxyM55xVTfqg/5l7UPwkt/wD47TEWKKr+Zqn/AEL2of8Afy3/APjtJ5mqf9C9qH/fy3/+O0AWa5H4neFL3xn4Kk0jTXhSd54pMzsQuFbJ6A1uLq1w2qvpi6PeG9jhWdoPOttwjYlQ2PN6ZUirXmap/wBC9qH/AH8t/wD47QBk2/hHR9N025j0bSbGyuZ7dojJDAqE5XHJAzjNcLdfCjUbv4N6N4ZkntP7T0q5Nyu4sYJTvc7CcA4If0616h5mqf8AQvah/wB/Lf8A+O0eZqn/AEL2of8Afy3/APjtAHj5+Dup6l4e1ZLm10XRr2fyzZx2CuyqUYN87tyQcenFacPgrxrq/i4a94mk0mNhpE+nrDaO/BZWAY5HOS2T6V6Z5mqf9C9qH/fy3/8AjtL5mqf9C9qH/fy3/wDjtAHlNr8NvFHh+18KajocunT6volrLaTwXDsIZUdmYEMBnI3n0q/qvgvxpqOk+Hry61HT77W9L1M3zrKDHDt7RqVXJAx1PrXo3map/wBC9qH/AH8t/wD47S+Zqn/Qvah/38t//jtAHlup/CjVdTtPFOby1hudR1WLUtPYEsqsgbh+OM7j0zS3HgDxd4o1PUdZ8VSaZb3h0iXTrK3s3Yplwcu5I/2j69favUPM1T/oXtQ/7+W//wAdqK6vb6ysprq50DUEhgjaSRt9udqqMk4EvoKAOHHgDVBL8P2822x4bQi7+c/P8ir8nHPIPXFejVk6Prc2v6Na6rpOiahPZ3cfmQyboF3Ke+DKCPxq75mqf9C9qH/fy3/+O0AWaKr+Zqn/AEL2of8Afy3/APjtJ5mqf9C9qH/fy3/+O0AWaKr+Zqn/AEL2of8Afy3/APjtKIdauf3dvpLWjH/lreSx7V98RsxY+3GfUUAaHhPmxvWHRr6XH4ED+YNZy8eINbH/AE9of/IEVdHpenx6VpsVpEzSbMlpG6u7EszH3LEn8ay9X0i7/tA6jpQjkeRAlxbSNsEmOjK2DhgDjB4IxyMUhkFFV9+qjr4fvz9Jbf8A+O0eZqn/AEL2of8Afy3/APjtMRYoqt5mqf8AQvah/wB/Lf8A+O0vmap/0L2of9/Lf/47QBYoqv5mqf8AQvah/wB/Lf8A+O0eZqn/AEL2of8Afy3/APjtAHmtl8NdYt/hh4p8OvPaG71e/luYHDtsVWKEbjjIPynsam8X+Atb1bT/AAtDZ/YryDSYRHd6ddTvHDO2xVDZUZOCDwa9D8zVP+he1D/v5b//AB2jzNU/6F7UP+/lv/8AHaAPIrD4Sa9a+G4dNeXTVeLxGmq/uWYIIgMFVG3g+g/Wtef4b6vL4V8daas1p53iHUXurUl22qhcNh+ODgds16N5mqf9C9qH/fy3/wDjtVrbVri8u7u2tdHvJZ7KQR3EazWxMTFQwB/e+jA0AcDcfDbWJdT1S4Wa02XfhldJQF2yJgoGTx93jr19qmn+HWpTQeBI5Zbcx+HoXjvQrNlw0ar8nHPQ9cV6F5mqf9C9qH/fy3/+O0nmap/0L2of9/Lf/wCO0AfMUt3dt4c0rwfpmtWOpWUGsr9mtY7aVLw/OT+8VgAoBY/n7V9TVRWC7W4Nwvha7Ex6yA224/j5ual8zVP+he1D/v5b/wDx2gCzRVfzNU/6F7UP+/lv/wDHaPM1T/oXtQ/7+W//AMdoAsUVX8zVP+he1D/v5b//AB2jzNU/6F7UP+/lv/8AHaALFS+GOb/WSOn2mNfx8lD/AFFUwuszfJDok0Lno11PEqD6lGc/kK3dG0v+yrExvL508rmWeXbje5wOB2AAAA9AOvWgDQooopDCiiigAooooAKKKKACiiigAooooAKKKKACiiigAooooAKKKKACiiigAooooAKRm2oWwWwCcAcmlooA+bNKt/Hsf7S1zrM1sjXDWq3Nzpyzgstgz+WIx2LrhWxnkjrX0nXmlj/yc9qn/Ysxf+j69LoAKKKKACiiigAooooAKyfFX/Im61/14T/+i2rWrJ8Vf8ibrX/XhP8A+i2oAwPg7/yRzwz/ANeK/wAzXa1xXwd/5I54Z/68V/ma7WgAooooAKKKKACiiigAooooAKKKKACiiigAooooAq6lcT2mmXM9natd3EcTNFbqQDK2OFyeBk9zXz98G7HxtpPxd8SzaqI7yOW5WLWVilz5crgyJIoPULkqcdAfQV9F15p8OP8AkqHxJ/7CNv8A+iaAPS6KKKACiiigAooooAKKKKACiiigDF8VErohIJB8xelcT5j/AN9vzrtfFn/IDP8A10WuIrCe56OG+Ad5j/32/Ouf/wCE90IaDPrB1JhY28/2eWQo4KycfLtxnv6VvV4Zq2kSS/ES/wDBYQiz1PUV1JcdAvlOW/8AHsD8KUVc0qScbWPYD4o07+0dPsRes1zqMRmtkUMd6Yzuz249a1fMf++3514D4c1Kaew1TW72a4tf7A0dNNjliUM6SFiMqDgZxx7Zqzoeq6tpmv3FquqXFpHPoclxm8v/ALUEkx8srYGEPQ45wKfKQq3dHuvmP/fb86q3Or21ndW1tdXixT3bFYI3fBkI6geteQeANTvbTxhplrql1qHmX0DkOL8XVvdkAnfjqlbnxH0+Gfx34QknvLi3Wad42ZJ9gQAA5HoTnBPfily62K9pePMkd9puvWmryXiafdNK1lO1vOMMNki9Rz1/CiPXrSXXpdHS4c30MImePDYCE4Bz0714pd2FwmleOddtNVvrSfT9akMMdvMUQsZACWA68H9K6C61nUP+Ep1p11T7I3/CNxTJJIx8uKRtvz47cnrinyk+07o9a8x/77fnR5j/AN9vzrxv4d6ld2vjKysdSuNQWW8tGZQ18LuC6IBbzM5yh46fhWt8TptRk1/TLSwu2ki8l5JdOhvvsssvo4bvjHT26UuXWxXtFy81j07zH/vt+dHmP/fb868MTW5NVs/B9u3iHU7O2muLm3uriWcJJxt+UsOD1wGPrVa98Raxpmja5pWl6xc3mnw6tBbQ37T5dY3VyyiXtyqjPQc+tPlYvbLse+eY/wDfb86q6nq0OkabPf387x28C7pGALYH0HNeIT614h8P6L4ghtL9xbhYdgbUUu5rQswDHcvQEE/StbUhBomia9DovjG81Fv7LWY20kjSmNty/vBKOFzn7vXmjlD2qtsekXPjPSLW6062mv2E+poslrGFYl1boTxwPrV3SNcttd05L7TLh5bd2ZVYhlyQcHg89RXllppwufib4cuJbu8Mknh+O6Y+efvKuMf7pxkjuSfWsvTtXv8AUPD/AIS0y/1i6s7LUby5F3drOUdtrfKm89OtHKL2jvqv60PdfMf++350eY/99vzrkvARhTTr62tfEEuuwW920aSyqd0XT93vP38eo9a6uoZvHVXNLQXc67agsxG49T7GvQK890H/AJD1r/vH+Rr0KtqexwYr4kFFFFaHKFFFFAHmlj/yc9qn/Ysxf+j69LrzSx/5Oe1T/sWYv/R9el0AFFFFABRRRQAUUUUAFZPir/kTda/68J//AEW1a1ZPir/kTda/68J//RbUAYHwd/5I54Z/68V/ma7WuK+Dv/JHPDP/AF4r/M12tABRRRQAUUUUAFFFFABRRRQAUUUUAFFFFABRRXI+JPin4M8Js0es67bJOvW3ibzZB7FVyR+NAHXV5p8OP+SofEn/ALCNv/6JrnL/APam8H27lbLTtUvAOjeWiA/m2a4zw1+0F4e0DxT4j1c6Rqco1y4jnMeYx5OxduM559aAPqGivH9K/aZ8B6hIqXjX+nE954Nyj8UJr0vQvFGh+Jrbz9A1W1v4wMnyJQxX6jqPxoA1aKKKACiiigAooooAKKKKAMTxZ/yAz/10WuIrt/Fn/IDP/XRa4isKm56OG+AKqNpdi+qJqT2kLXsaeWlwUG9V9AeuOTXMeIfFesQ+LoPDnhfTra7vPsxu53upCiKmcADHcn+YrjfDPi/VdH8EtOq2xuLnV543l1K62x24AU465br0HpS5WaOpFOx6nHoOkxWl1axabapBeMWuIxENspPUsO9V7Lwj4e05lay0ayhZVZAywjO1uGBPcH3rzPWviBrmueA1vtOENnNb6otrPLbTOA/QqV4ztOTnPtW34r+IuteHL14HtdIja2t45JUmuiXncgFljUcgA5GWA6UcrF7SG52WmeE9A0W8a70rSbW1uGBHmRxgEA9QPT8Ktanoum6zHGmrWMF4sTboxMgbYfUelUZfEDHwI3iCCEBjYfa1ic8Z2btpNcTL8T9btfDtnqN/pVjanVXRLAyTkIBg75JD2UfLgehos2U5QirHoTaDpLWt3btp1sYb2Qy3MZiG2Zyc7mHc5FKNE0sTyTf2fbeZJALd2MQy0Q/gPqvHSvPLf4uTto14rWVrc6tDeRWkItZSYJzJnawY84+U/p+GpdeN9f8AD2h6pdeKdDjjltNgtpLaQmG5ZzgKCeRjPP40WYvaQZ0+leFNC0O6e40nSrW0mcYMkcYDY9M9h7CpdX8O6Rr6xrrOnW94I/uGVMlfoeorjk8c+INJ1I6f4p0yzinuLCa7s2tZGKlo0LlHz7L1FVY/iTry+Eo9au9Etk+3yRW+mxLMT5sjFgxb0XjiizDnhaxvax4AsdS1PQjBBaQ6Zphl8yyMI2yBwBgDp15rcg8N6LbaO+lQaXapYSHL24iGxz6kdzwOfauG8NX2u3HxiuofEUUdtOmkjMNvKXib51wwB784/CtbxB4r1+38br4c8O6baXcr2AuxJcSFAnzlTnHUcAfU0a7CTjbmsdDZeGND07T57Gy0q1itbjiaIRDEn+9nr+NR2fhLw/YWNxZ2ekWkVvdDE8YiGJB2B9R7Vx3/AAs2/n8J219BY2VreNePaXRvbkJDAy4yeu5s5HAz3qtH8WNRl8MwXtvpdtcXbasNOaOORtkuVyGQnkZ6c0WkHtKZ6Mmj6dHdQ3KWUCzwQ/Z4pBGNyR/3Aew9qrTeFtCuNJXTJtJtGskcusHlAKrHqR6Hk8iuIs9X8YP8WNPstVS1t1k08yTWkNwxjCbyC+Ohft6Yro/F/ii+0e+0vSdDtIrrVNUdliE7FY0VRks2OaLMfNFpto6DTtNstJsktNMtYrW3T7scShQPf61aryHxR401678EeI9PuLeCw1TSpYY7x4JWwYpGGGjPXJOAQex/CvRfCVnNYeE9PtrlVWVIRuCyNIOefvNyetJqw4zTdkdToP8AyHrX/eP8jXoVee6D/wAh61/3j/I16FWtPY48V8aCiiitDlCioZby2guILea4ijmuCRDG7gNJgZO0d8DnipqAPNLH/k57VP8AsWYv/R9el1ALG0XUGvltoRdtH5TXAjHmFM527uuM84qegAopAQcgEHHX2paACiis7V/EGj6BGkmuapZ6ckhwjXU6x7j7ZPNAGjRVOLV9Nntra5hv7aSC7cJbyLMpWZjnAU5+Y8HgelXKACuG+L2g6nrXw/vZPD11PbapZxtNCYHIMy7SJIiP4gy54PcCu5o6jmgDyf8AZ80DVNO+HdtqWu3NxLNeRgWkErHbbWy/cVV6DccsfXivWKzv7b0aGC1I1KyjiuZPItsTKFlcHGxOeTkYwKt2t3b31slzZTx3EEgyksThlYexHBoAmoopC6r95gOM8ntQAtFRWt1Be2sdzZzRzwSjcksTBlceoI4NS0AFFFFABRRRQAUUUUAFFFFAHzV+0P8AFrVrHXJPB3h64ksY4Y1a9uIm2ySFhkID2GCM465ryz4c6VomoWPinVPEmmtqqaTpwuo4PtLw7nMiryy89DXpvxl8A/8ACc+NtYu/CbJNr2mCNL7TNwEk8flqUlj9eDtI9hXj2heJNe+Ht/qFvHZRRS3UX2e6ttRtA4ZQwOCje4FAHoNj8NfD+u+KvDGo6dp95BoWpaXNql9p3mtLJEsJKsqtwxDNtA781cs/AfhPTvixf+FtV8NzXdnc276lp9w97LE0cHk+YIyo64YMpJ54rz+f4s+LJ5b2VL6O2ku7aO0DWsQiNvCjbgkW3GwZ6461EvxQ8Tf2hp1/NdR3F5p1nLZRXE0e92ikyCHJ5Y/McE9M0Ad/4P8AhtoPjbwlq2rw6Fc2E2otJBocMc8kqW7wxFmZ3PUMw2/N34FeP6Xq+p+HtUS90i8nsbyFuJInKsD6H/A1v2PxP8VaZDo0Gm6k9nb6OMW8EGUjf5txMig4fJ65qDSPC/iX4h+IZ5NG0p7ia6naSV4o9kMRY5JJ6KOelAH118F/iHN8RPBP2zUI1TULOX7PclBhZDgEOB2yD09c16HXlnwL0jSvDmg6noelXkd/PZXKi/u4jlJJyoLKvsowv1Br1OgAooooAKKKKACiiigDE8Wf8gM/9dFriK7fxZ/yAz/10WuIrCpuejhvgOU8QeC5tU8RW+u6PrM2j6hHAbeSSOFZBJHnOMHgH3+npWJF8JhaWtiLHXZUurG7luY55rZZQfMCggqTgn5ev6V6NXG6p8QINO8eL4c8nO62LmYq2RKeVXGMEEY5zgUk30NJRgtWUv8AhVyHw3f6U2tTu13fC+Fy0K7kkHqM4Ofwpt98Mbi9vtRuG8RSodVt0iviLOMtKyrt3K38AJGSo+maXwj8VNL1iy0+DWLhLfVLtzHsjicRhtxCruORkjHfvWzefETwzY602l3Oo7Z0kEUjCNjHG5/hZwMA0e8SlSauXV8PAeCR4ea5JX7F9k88Jg42bd23P9ayb/4fQ3nhfR9Mi1CSC60cq1rerGCQwHdDwQfT2rR8Z+J08J+GJ9UMXnupCxRnOHY9iQDjjPNZ7fE3w3bWFnPqF40El1bCdY/JckjO0gcc/MD+Az0oV+hcuS9mVZ/hu9/oU9rqmvXVzfyXKXMV4I1RYHTO3ZGOAOTkZ/lT/wDhXRv9J1O28R65d6pc6iEzPtEaw7OVKICQDnr61evPiN4ZsNXfTrq/KzRSCKRhC5jjc/ws4GAahTxnDZar4h/te7tlsNKaIDyYpDJGH/v8YOTj7tHvE2plO1+HNxJeyXniDxDPq1ytlJZ2rtbrGIFdSpbAPzNgnk1bu/h9bXXgSx8OtfSo9gyvb3iIAyOpJDbc+54zUlv8QtB1Vb6DR79Wu7e1kuEE0TqrBVzuHHzD6dqgtPiHpVnoGl3PiC+iFzfwtKn2aCQpJgkfKMZ/A0e8H7sk8P8Agm50nxRLr+p67Nqt7Na/Z3MkCxjGQQQFPA46fU1jeIPD+s6n8XEudKvLrSlXR9i38cAkTd5hyhzweDnHXgGujXx/4bbw22ujUALFZPKLFGDb/wC7txnNTaB400PxNdSW2j3bTTRRiSRGiZCozjnIHOe1Gu47QaUUznP+FUxW+n6WmnavJDfafPJcG6mt1mEzvjcShOOwx1x70+3+FyQQxpJrM0xTV01Uu8A3M4HKnBxz6gVu67440Lw7ei01O6cT7PMZIoWkMaf3m2g4H1qPVPiB4b0mG1kub/eLuLzoRBG0hMf94gDgfX0ovIXLSQ7UPCr3fjax8SWuovay20H2eWHyg6zR7ixGT93r1o8VeEv+Eilsby01CTTdS0+QvbXUaB9ueoKngg4rL1f4mabYaxoVvaFbu01QF2uEVjsTopAA5OQQR1GOazvEfjXxZov9oap/ZVlb6PY3AhRLtmWa6BONydv896LMHKFmXR8M0l8O61ZX+rzXWoa08b3V+0IB+RgygIDgDj17+1dvbxeRbRQg7vLQLn1wMU21n+1WcNwEZBLGr7W6rkZwampNs0jFLY0NB/5D1r/vH+Rr0KvPdB/5D1r/ALx/ka9CrWnscOK+NBRRRWhynnvjyRoviT4FkQ4ZX1BgfcW9YHh7xJ4yXTvBWvavr8V7b6/dpaz2C2Ucaoro5Vw4+bd8oJ7c9BXpmp+HdP1fVNO1C9R2uNN837OVcgDzE2Nkd+KqxeC9Hh0nRNOjil+z6HMk1kDKcqyggZPfhjQB5va+KfGkHgePxvd6/DcW8Wpm3fShZxqssH2ryPvj5hJzkEccDIPNatz421uL4b69qwu0F5Z6/JZQOYl+WIXSxhcYwTtJGetS+DfhNbWel2j+I2vHuIb+a9awF6zWpk852jkMY4JClT6ZHTNa998J/DeoX11PcHUPJurr7bJZpeusHn5BMgQHG4kUAUPhxaX0HjXx091qcl1H/aoXy2hRRu8mMhsgZ4BC46cZ616LWRp3hmw0rxBqWsWbXCT6mVa5jMxMTOoC7wnQNgAZ9q16ACvNvDenWWufFzxpda5bw3l3p721rZpcIH8i3aINlQem5i2T7V6TXMa/4B0nX9XTVjPf6bqSxeS15pt00Ekkec7WI4YfUcUAcPq1j4b0nXtJsvDExCx+MIXvLVc+VazNbyEqgwAoIwSBkAntVS38f+IP7f0i6h1i41Gy1DWVspEj0oR2Aid2UeXOwDswx15BIPavQ7P4feHrHT7CztrWQR2N9/aCO0rM8s+CC8jHlyQxzmsxfhD4dVII1udWENncC5soRfv5dm4bdmNeg5z1zwTQBzSeMPE1p42VNe1OfS4JNXNtBbzaar2Fxbl9qBblAWEpHPzEDdxil0vxh4mi8ZWsXiPU59O+06k9utlcaapsZ4izCMQ3KAnzCMH5zycjFdaPhjoY1QXPn6ibUXn28aabtvson3bt/l/73zYzjPai1+GOh2mpQ3KT6i1tb3RvINOe7Y2sMxJO5Y/YkkDOAe1AHnOgJe694p8AXs13DAinVHFvDZRLGDHMckALwWGASORjI5Jq94L1/wAR+K7bRNB0jVINAWLRjqNxPa2MRMjtO8aIsZGxVGwk4GTntXo+m+BtF0mbTZLOKVW0wXAtt0pO3z23SZ9cn8qz3+Fvh8WWnwWT6hp76fA9rFcWd40UrQs25o2YfeXJzz07UAcrq3inxKsmnaa3iJf7QSwaa5Xw7pwvXmk3lVcl12RxkL0yDuyOgrN0TU9a8T+L/A2vXmpeVLc6DeSzQJbpsYo8Ycc5I38E88Y46mu8k+Fnh3fbGx+3aasFqLJksbx4hPCCSEkwctySc5zyeafp/wANNB0waSLJ76P+yPNW0xdN8schBaI/3kyBwfSgDifBOueI/F1no+jaVq0Ph+O10KC+uJbSxiJlklZgqqhXYqAJyAO/apNM8X+LvFN34a0201aDTJrtdQjv7qK0WTzDbSKgeNWyAT75HJ4PFdc/wu0FbbT49Pn1LTJNPtfsUVxY3bRyPBnPlu38Qzz6itTTvBWiaTPpMun2zQnSLeW3tQHJAWQgvn+8SVByfegCj8OtY1PVtBvo9cuUu7zTdTubBrlYhH54jfAcqOASPSutrO0fQ7LQo7tNPR1W8u5LyXcxbMkhyxHoM9q0aACiiigAooooAKKKKAPkD48xa34X+M8/iLTbie0F0sbW13bsVwyoqsmR3GOnoRTbH4+f2naJafEXwrpniWNRt+0NGsc2PrgjP0xXRfETx/baB8XvEOgeK9KXWvDd28Mklq3DwP5KDzIz2OPzrDb4T+CPGK/afh542trd35GnaqdkiH0z1/Q/WgBP7c+A2q/NdeG9a0l26i3lLKP/AB8/ypSn7P0Xz7/EU2efL5GPbt/Osu8/Z0+IFsSbeytL5Oz292pB/PFUU+AfxHdgv/CPMvu1xHj/ANCoA6JfHPwZ0I79D8A3WpzL919Rm+Un3BZh+lYPir45eJtesG0vSUtvDulEbfsumpsLL6F+v5YrTtP2cPFu3zdcvdK0a3HLSXN0Dgfhx+tWzpvwp+Go8+9vz421qPmO2gwtqjf7R5BH4n6UAeofsw6LeaX4Cvbm/jMX9oXQnhRhhjHtChsehIOPpXtdeO/s9+J9R8Yad4i1fVmXzJL5VSNBhIkEY2oo7ACvYqACiiigAooooAKKKKAMTxZ/yAz/ANdFriK9F1XTxqdkbcyeX8wbdjPSsT/hDF/5/T/37/8Ar1lOLb0O2hVhCFmzla4XxDperD4mWGrWenSXdm2nPZySRuo8pmY8kE5xyK9k/wCEMX/n9P8A37/+vR/whi/8/p/79/8A16lRkjWVanJbnz5B4O1qP4e+FrD+zWF5Zautxcx7kyib2JYnODwR0rLuvA2txXmraVLpWo38F/qDXEcsGoLFbMjNnMikE7h/npz9L/8ACGL/AM/p/wC/f/16P+EMX/n9P/fv/wCvVWkZOVF9Ty/xpo13qXw7v9K02MzXL26pGhYAsVIPU49KwNI0TVLvxzoOrahpD21va6P9mk85kYxygkDoe45+hr2//hDF/wCf0/8Afv8A+vR/whi/8/p/79//AF6XLKxbqUm73PmfxJ4W8WarJrcDaXfTSS3/AJ0BguI4rVot3B2ZBd/c/jzWprPhLXbuHxt5GnOx1P7KbQb1Hmbcbu/GPevoT/hDF/5/T/37/wDr0f8ACGL/AM/p/wC/f/16dpdiOal3PD9a8M6pceKLG5tLEmCLw/NaMysoCyGNgqdfUj2qr4e8Kaxaap4Ilu9PZE020nS6JZT5Ttu2jrz17V71/wAIYv8Az+n/AL9//Xo/4Qxf+f0/9+//AK9K0iuele9z5q1Pw3qel6XPeXMNtDJF4mN9bW11cRxrdp2AJOMnHQ9s1t+B7251P4t+Iby7sUsZGsog8KTLLsPy43MvBYgZr2/Uvhvp+sWTWmqNHd27HJjlhDDPr161DpHwt0jQIXi0ZYrNJCC/lQ4LH3OcmnZ2JU6akmnoeI+P/D2rXXiue/03StRLyWojhvdMuQpdv7kqN/D9O2OtZt14T8UWeo2Oq3tle3kkumC2nTSblIHikB+6eMFSMZxxnP4/SP8Awhi/8/p/79//AF6P+EMX/n9P/fv/AOvRaXYblSbvc+f08Kavotr4MnstGlkGmXE8lzaJcrI0PmYx8xwD3Jx/9euq8Q6IdX8baDLdaZLeWNqsrvIZ1EUT4+UtGRljkDGCMV6t/wAIYv8Az+n/AL9//Xo/4Qxf+f0/9+//AK9K0hqpSStc5Slrqv8AhDF/5/T/AN+//r0f8IYv/P6f+/f/ANep5JGv1in3MXQf+Q9a/wC8f5GvQq5+w8LLY30VyLov5Zzt2Yz+tdBWsE0tTjrzjOScQoooqznMfxR4ltPCmhtqN7FNPmRIYbe3UNJPK52oig4GSTXE2fxB1NfG+tf2vo2q2UGnaNHcHStiTSSSGUgNGUJDZGB14wc4xXUeO/Dd34l0K3j0ueKDULC9hv7QzgmNpI2yFbHOCCRx61x2reBvGviO51zUb6703Trq/wBNhs4ILSeQhAk29lZ9oOHGQSOmaALut/E/ULbQ/EMCeHrvTtd07Sm1CGCaaCVTHkr5hKuR8p5KnnA4zWgPHupxaTph/wCEV1G8vp7AXlyqSQxxwp05kZ9pY9QoJOOuK5e1+FmtC91eSHT9B0a21XQp9La3sXdvKduVkZio8wk8HpgAdasaj8PPEmp3unXGpWWh6msWmR2X2W9nlaCzlUn98ibcPkYyDg8YzigD0fw5rtr4n8OWOtaeJFtr2ISIsowy+xAzyDxWnXM/DzQdQ8L+BdP0TVjbtPYq0Qe3YlXXcSG5AwcHp2rpqACiiigAooooAKKKKACiiigAooooAKKKKACiiigAooooAKKKKACiiigD5u+KnhXSviR8RNV0mwvYNO8WadsEMdy22PUITGrAA9nUkj6Y/DwrxD4L8R+E7podf0i6sipwJGjJRvo44P4GvUP2kPB2raV8QH8UwxyNp9+se24jz+5kVQu0kdOgIP8AhXO+Hvj3410O2W0u7qHWbNRt8nUY/M49N3X8yaAOIsvE2u6cALDWtQtgOghunUfoavP8QPGDrtbxPq5H/X7J/jXo3/C5vBep/N4g+F2lySn70lsypn/x3+tJ/wALM+FEfzxfC5S/XDzjFAHkd1qeo6nJ/pt7dXbk8ebKzk/ma7Dwn8HvFfir/STZf2VpijdLqGo/uYkXuRnlvw4966xvj5YaUp/4Q/4f6JpUn8MzoHYfkBXDeK/iZ4v8cEQ63qs0sDN8tpANkee3yr1/HNAH1F8DJNAh0PU9J8JO1xp+m3KwtesMG7lK5eT6ZwB7AV6nXkv7O3g3UvCfw/ll1mJoLjU5/tCwOMNGm0Bc+hOM4r1qgAooooAKKKKACiiigAooooAKKKKACiiigAooooAKQsFUsxwAMkntS1zvj29u7HwPqUmnQSz3ckJiiSFCzbm4zgemc0Aa9pq2nX8Imsr63uI/78cqsP0NLa6nY3s8sNneQXEkGPNWKQMUz0zjp0r5EXwt4kTO3RdSXPXFu4z+lel/A601nRfFl1b6hpl5bW13b/flhZVDqcjkj0Jq3GyA96oooqACiiigAooooAKKKKACiiigArhJvjF4Rt7mWCS6uBJE7IwFs3VTg/yru6+MdXuT/berOUUsL6VWz2XecVMm0NK59JL8ZPCD8LdXPr/x7NUw+LfhQjK3Nw30gY18rQyTST7XDIVICAckVsWl19mZxLMmfZhxWLqT6Gqgmj6Ub4reGFIBnuMnp/o7Vag+Ieg3EsUcT3BaX7gMJGa+cbW4Fxl4/nCDP06D+tdX4d2zXkHnFOG6OwHvUqpU57NaCcFY9tk8Z6TEpMjTADr+7qunxA0J7i3hEs2+4nSCPMRwXY4A/PvXn/im3jttOlu1lYwIpZipBArzfwxr8mqeNvD9unEX9pwMBn0cV2T5Y7GEbvc+qrif7PGG2NISwUKuMkk47kVH9qm/58Z/++o//iqL77kP/XdP/Qq818ffE7UfD/iW70PT7WNlWxkbzwSJY5Ps8sisM8EAxgfdIyeSDwZKPSvtU3/PjP8A99R//FUfapv+fGf/AL6j/wDiq8pvvitr2n2vnS2ukwwNdzWkMt3JICxih8wlsDGWOFAHc/hVRvjBrenTZuLBJDc3/FvcZRoIStv8ikYyQZWPc8dMcgA9g+1Tf8+M/wD31H/8VS/apv8Anxn/AO+o/wD4qvJLv4weIbGwE0+i2RNwsUkDq7BIUaWZCZSxA/5YjHIGXH4+qaBqMur+HdP1G5t/s0t1bpM8O7d5ZZQSM9/rQBP9qm/58Z/++o//AIqj7VN/z4z/APfUf/xVWa8v8Wzyp4pvAkrqAV4DEfwCubEV/YQUrXM6k+RXPR/tU3/PjP8A99R//FUfapv+fGf/AL6j/wDiq8f+0z/89pP++zSfaZ/+e0n/AH2a4f7TX8v4mH1nyPYftU3/AD4z/wDfUf8A8VSfapv+fGf/AL6j/wDiqksjmwtyf+ea/wAqmr1k7q51lb7VN/z4z/8AfUf/AMVR9qm/58Z/++o//iqs0UwK0d2zXCQyW0sRcEqWKkHGPQn1qzVWb/kJWv8AuP8A0q1QAUUUUAFFFFAEN3Z22oWclrfQR3FvKu14pVDKw9CDXkHif9mfwhrUrz6NLc6LM3O2E+ZFn/dbkfga9looA+Wb39lDXo5D9g8Q6fMmePOjdD+mapp+yt4vLYbVdJUeu+Q/+y19ZUUAfM+lfsm3RkB1vxNEqd1tLcsT+LEfyr1jwZ8FPBvgqZLmysDeXyci7vT5jKfVR0X8BmvQKKACiiigAooooAKKKKACiiigAooooAKKKKACiiigAooooAr309xb2byWdq13MPuxK4XcfqeBXj/jPU/ibaq2pXV3YaBp6HaqpcIck9ASQSx+le0VzHjHRdH8XWo8NapctDPKv2mHYQGG04yM9evT3ppgeI2vjTxtcwSyx+NbJVhGWEsqIcewKZP4Va0DxV8Q/EGoi00fxLa3VwvziF2RS4HXG5RmvTNG+DfhbStMurSeCS/e6TZJPO3zKM5+XH3eQOar6H8NfDXw61KTxFPqcwSFGCG6dQsYPXoOTjirugOn8L3/AIjuLfyvFOkR2lwo/wBdBMrxyfhnINdBWLb+MvDdxbxzJrunKJFDBXu41YZ9Rng1KPFPh89Nd0z/AMDI/wDGswNWisseJ9APTW9N/wDAuP8Axpf+El0I9Na0/wD8Ck/xoA06KzR4i0Q9NYsP/ApP8ad/wkGjHpq1j/4Ep/jQBoUVQ/t7SP8AoK2X/gQn+NKNc0k9NUsv/AhP8aAL1FUv7a0s9NSs/wDv+v8AjS/2xpp6ajaf9/1/xoAuV8davYvdavffZoiZTfTefkfw+bwR+Ga+uv7V049L+1/7/L/jXz7PMdUmuzaofKinkBeIDcQHOTnsKxquSXunRh6XtZ8t7HGx2yQMpNuweMkMR1weg+tXLO0tGB861kUkYB2j8Ca00XTrZCWjcybjncarnWrdHIW2QgdMisFWsj2P7Njs7lvR9tvNlrTciqflY8Nkjj9K3hqxVfLOl27RKeNykn+VZGhSyX2oSS2iLuCgGP8Ah/KuiuvtlntF5ZrHuGQfKxn8q1jXdrkSyuLdr/icb4njvLrRbtLCTYso+aJMhfpisD4caNqGm/E7QY9Sh2Bb6Mghgw5GRyOK9EnubNo2FxFtJGcqTUWnGJ/Gmhy2U6yRHUYdybACuT60nUvsc2IwMqcbroe+333If+u6f+hVyviX4laB4Y19tL1SK4a4W2e4LRorDasbybcFt2dsbc4xnAzzXVX33If+u6f+hVk6j4I8O6tqz6jqOmRz3Ui7XZnba42MnKg7SdrsucZwcV0nlnL6x8Q/D0fiS1+16RcTR6d9pke8Kj/R2W3jkO1c/NuSZR9amu/i3oVnlbvStUW4iZxcQfZkL2+3y8lvmxgiaM8E9a2ofhz4UggEMejxmPdIxDyO24yRiN85Y5BVVGD6DvT4fh94XhtzCmkxlWV1YtI7M+4oWyxOTzGnU/wgUAZKfFPQZWjjNjfj5hHd7rdcWRNw0C+b83eVWHy7umelY8Pxmjn8P2lydKltr+aNZTbzghHRo5WDRsM5G6EjkD+VdhJ4C8My30V4+kxGeKUzK25uXMhlywzhv3hLAHIBORiobb4beErSExQaLEqEg4MjtjCsoAJPAxI/A4+YnrQBT8MfE7RvE2tJo1uJUv8AyPMfgGPeFVnQHOeN/UgA4OM4rH8V3s0Xie7RPL2grjdCjH7g7kZrs9N8I6Ho+pNf6bp6W9wybCyu2AMAZCk4BIVQSBk45NLfeFtL1G9kurqJ2lkxuIkI6DHT8K5MVSnVgowfUyqxlONkeZ/2jcf9Mf8Avwn+FH9o3H/TH/vwn+Feif8ACE6J/wA8JP8Av61H/CE6J/zwk/7+tXm/UcR3/FnN7Cp3OIXxTrSqFW/cAcABV4/Sj/hKtb/6CEn/AHyv+Fdv/wAITon/ADwk/wC/rUf8ITon/PCT/v61X9Uxf8/4sr2VXucR/wAJVrf/AEEJP++V/wAKP+Eq1v8A6CEn/fK/4V2//CE6J/zwk/7+tR/whOif88JP+/rUfVMX/P8Aiw9lV7jPDV5cX9jYT3cpllbzgWI64Iro6zLXT7fTJrO2tFKxKshALZ64rTr1qcZRglLc6opqKTCiiitCgooooAKKKKACiiigAooooAKKKKACiiigAooooAKKKKACiiigAooooAKKKKACiiigClq+rWmhaRcalqMhjtrdd0jBSSB9K8G+IPjjS/E3iDTtS0HWjp8mnoRHK0MgcknPYYxxXV/EzxTJeXmu+GoGH2e00dppv9qQuhH5L/OvnytIx6iPdtA+M6JbyweI9WtpD5JWK4tbOTfv7EgjFefavqcXiG+jn17xm96iuD5bWsgUDPQADA/KuKoquVID6g8LeKvAvii+TTNJs7d7lYt22SyABA68kc11x0DRj10mx/8AAZP8K+Xvh7qNxo+oapqdk2y4tNMlkjYjODlf8a+n/D2rx6/4dsdVgGFuoVkx/dPcfgcis5Kww/4R3RD10ew/8BU/wpD4b0M9dF0//wABU/wrToqQMv8A4RjQT10TTf8AwEj/AMKT/hFvD566Fpn/AIBx/wCFatFAGR/winh09dA0v/wDj/wpP+ER8Nnr4f0v/wAAo/8ACtiigDGPg/w0f+Ze0r/wCj/wpD4M8MH/AJl3Sv8AwCj/AMK2qKAMQ+CvC5/5lzSv/AKP/CvnrVPEWkWf2mz0Z5raeGSWNlQALuDEEYxgKBxX1BXx7qQFtrGp5CSLNdTbhnAA8xjznvUyTeiNISUXdjHvpJpjGkkczE8bJVOfpUZS5LEGFiQcEAgkflVO0ttJmsdRnnVEQKFhwm9t/f5gRjA5GPxqBNL8PXOPJ1zyn/vSMQT+tZLCwZ3PNK3Wx1Xh+11NGuJILa7JZl5jiY8ehwK7Cx1HxBCqpNY3lxEp/wBXLA7D9RXJ+HNChjt2WLxo1rlxgR3zqGH4Kau6/YfYtCupY/HsrXKLujVdSkJJ7ADaKHh7PRlxzNqNnBP7zR8S3d7LayzposlucZwsTAA/iKf4StLmG48N3U80Z87UYVaHkOh3ZII6dfWsrQri61SSwW58Q3NsXti7TPfyOAQ2AGyOG78cGukt9EsIfEGj6pHrw1G+fVrdW2ocH58EsSBzjimqfI77mVfFvERUHoke6333If8Arun/AKFVW/t7lJ5L1tZaztIxG7xtGmxFQlnyxGQGXgnsBkYq1ffch/67p/6FXnHjnwR4q1/xZd3Wk3ca6fc6bLamOe9kCAtDKnEajGSzqcksOM4yBWx556FYyLaw2tnd6kt3dyozpI+1GmUHJIUcYAZent61erxXXfAXizStKu20u7uJreLzFtoIr6Z5gJBaDAblh80cxODwGyOpFej+BtI1PRPD722sSZka6llih+1Pc/Z4mbKx+Y4DNgdz60AdHRRRQAVhah4u07Tb+S0uBN5kZG7amRyM+vvW7XnfibRby78R3U0Pk7GK43Top+6B0JzXJiqlSnBOmtbmVWUoq8Tf/wCE80j0uP8Av2P8aT/hPNI9Lj/v2P8AGuM/4RzUPS3/APAmP/Gj/hHNQ9Lf/wACY/8AGvO+t4r+X8Dn9rV7HoGl+KLDV7z7NaCXzNpb51wMD8a2a4Hwnps+ma39ovXt44vKZc+eh5OPQ1232+z/AOfuD/v4K9LDVZThepozopybjeRYoqOK4hnz5MscmOuxgcVJXVe5qVZv+Qla/wC4/wDSrVVZv+Qla/7j/wBKtUAFFFFABRRRQAUUUUAFFFFABRRRQAUUUUAFFFFABRRRQAUUUUAFFFFABRRRQAUUUUAFFFFAHz7rGja1/wAJh431S+065is5rK5WOd4yEYArtwfoteR19tzQRXMDw3EayxSKVdHGQwPUEVh/8IL4V/6F7Tv/AAHX/CrUgPkCivr/AP4QXwr/ANC9p3/gOv8AhR/wgvhX/oXtO/8AAdf8KrnEfNfgexudQi1+3sIJLi4fS3VI41yzEyJ0Fe+fCO01Cw+HlrZ6vazWs8EsiiOZSrbS2QcfjXS6Z4d0fRpXl0rTLWzkddrNDEFJHpkVpVDlcYUUUVIBRRRQAUUUUAFFFFABXxjquu2tt4h1NJ7naReTAebDkD94e4Oa+zq8rvP2evB19fXN1cy6g0lxI0rDzVwGZtxx8vqaNegHjWh3vh+5s7iS+eyZGIEaqPldx2O7pwat/wDCJ+G73a4nsvn/AIfJPy+2VNeoS/s1+CptvmT6p8oAGJkA/IJTD+zP4LzlLvV4znqlwo/9kpqTQnFM82j8EeGUm2SSaefcpMAP1rSHws8K6lbG4ttS06Ap1AkkXJ+jGu4H7NnhRT8ura8Pb7Wv/wARTv8Ahm3wl31TXSPe7X/4ijmfZBZHNeDNO0G00mQanf2MTxzN5ZkXcceoyRxW9dP4bWHSl0aaCe5bWrLLxxgf8thnpVt/2c/B8pjM15q8nlqFUNcrwP8Avmug074S6Fpf2MWlxeLHZ3Edwke5MF0bIz8uTyKjUvQ7G++5D/13T/0KvP8AxBd+MoPiNPa6Lc3KWN2LKON2sjNDApMwmcHpuGEzk/xDsK9DuYDPGFV9jKwYNjPIOaZ5N3/z9r/35/8Ar1RJ5VL4z8dsnlf2feW4h2x3lyNKdzEftEis8a4/eYjEfTI+bNXvBmq+MX8ezw65b3i6RdqJEnktGXdKIIsqVJPlLneeCctkZ459H8m7/wCftf8Avz/9ejybv/n7X/vz/wDXoAs0VV8m7/5+1/78/wD16Xybv/n7X/vz/wDXoAs15Z4vUnxXeYB6p2/2BXpXk3f/AD9r/wB+f/r0021yTk3MZP8A1xH+Nc2Joe3go3sZVIc6seO7T/dP5UbT/dP5V7F9luP+fiP/AL8D/Gj7Lcf8/Ef/AH4H+NcH9mf3/wAP+CYfVvM8d2n+6fyo2n+6fyr2L7Lcf8/Ef/fgf40fZbj/AJ+I/wDvwP8AGj+zP7/4f8EPq3mcl8OwRJqGRjiP/wBmruKqi3ul+7dIPpCP8aXybv8A5+1/78//AF69KhS9lTUL3sdMI8kbCTf8hK1/3H/pVqqyW0v2lJZ5xJsUgAJt649/arNbFhRRRQAUUUUAFFFFABRRRQAUUUUAFFFFABRRRQAUUUUAFFFFABRRRQAUUUUAFFFFABRRRQAUUUUAFFFFABRRRQAUUUUAFFFFABRRRQAUUUUAFFFFABRRRQAUUUUAFFFFABRRRQAUUUUAFFFFABRRRQAUUUUAFFFFABRRRQAUUUUAFFFFABRRRQAUUUUAFFFFABRRRQAUUUUAFFFFABRRRQAUUUUAf//Z)"
      ]
    },
    {
      "cell_type": "markdown",
      "metadata": {
        "id": "6fpt4pxdiEaQ"
      },
      "source": [
        "In this assignment, we get the pre-trained CNN model for CIFAR10. But, the original train dataset is unknown in the real case.\n",
        "\n",
        "For Membership Inference Attack, we would like use some tricky methods to attack the pre-trained model to access the information whether a specific data sample belongs to the train dataset of a pre-trained model.\n",
        "\n",
        "Here we would like to use another neutral network named membership attack model to solve this problem."
      ]
    },
    {
      "cell_type": "markdown",
      "metadata": {
        "id": "p7VIJdiIjYct"
      },
      "source": [
        "![figure2.JPG](data:image/jpeg;base64,/9j/4AAQSkZJRgABAQEAkACQAAD/4RDcRXhpZgAATU0AKgAAAAgABAE7AAIAAAAGAAAISodpAAQAAAABAAAIUJydAAEAAAAMAAAQyOocAAcAAAgMAAAAPgAAAAAc6gAAAAgAAAAAAAAAAAAAAAAAAAAAAAAAAAAAAAAAAAAAAAAAAAAAAAAAAAAAAAAAAAAAAAAAAAAAAAAAAAAAAAAAAAAAAAAAAAAAAAAAAAAAAAAAAAAAAAAAAAAAAAAAAAAAAAAAAAAAAAAAAAAAAAAAAAAAAAAAAAAAAAAAAAAAAAAAAAAAAAAAAAAAAAAAAAAAAAAAAAAAAAAAAAAAAAAAAAAAAAAAAAAAAAAAAAAAAAAAAAAAAAAAAAAAAAAAAAAAAAAAAAAAAAAAAAAAAAAAAAAAAAAAAAAAAAAAAAAAAAAAAAAAAAAAAAAAAAAAAAAAAAAAAAAAAAAAAAAAAAAAAAAAAAAAAAAAAAAAAAAAAAAAAAAAAAAAAAAAAAAAAAAAAAAAAAAAAAAAAAAAAAAAAAAAAAAAAAAAAAAAAAAAAAAAAAAAAAAAAAAAAAAAAAAAAAAAAAAAAAAAAAAAAAAAAAAAAAAAAAAAAAAAAAAAAAAAAAAAAAAAAAAAAAAAAAAAAAAAAAAAAAAAAAAAAAAAAAAAAAAAAAAAAAAAAAAAAAAAAAAAAAAAAAAAAAAAAAAAAAAAAAAAAAAAAAAAAAAAAAAAAAAAAAAAAAAAAAAAAAAAAAAAAAAAAAAAAAAAAAAAAAAAAAAAAAAAAAAAAAAAAAAAAAAAAAAAAAAAAAAAAAAAAAAAAAAAAAAAAAAAAAAAAAAAAAAAAAAAAAAAAAAAAAAAAAAAAAAAAAAAAAAAAAAAAAAAAAAAAAAAAAAAAAAAAAAAAAAAAAAAAAAAAAAAAAAAAAAAAAAAAAAAAAAAAAAAAAAAAAAAAAAAAAAAAAAAAAAAAAAAAAAAAAAAAAAAAAAAAAAAAAAAAAAAAAAAAAAAAAAAAAAAAAAAAAAAAAAAAAAAAAAAAAAAAAAAAAAAAAAAAAAAAAAAAAAAAAAAAAAAAAAAAAAAAAAAAAAAAAAAAAAAAAAAAAAAAAAAAAAAAAAAAAAAAAAAAAAAAAAAAAAAAAAAAAAAAAAAAAAAAAAAAAAAAAAAAAAAAAAAAAAAAAAAAAAAAAAAAAAAAAAAAAAAAAAAAAAAAAAAAAAAAAAAAAAAAAAAAAAAAAAAAAAAAAAAAAAAAAAAAAAAAAAAAAAAAAAAAAAAAAAAAAAAAAAAAAAAAAAAAAAAAAAAAAAAAAAAAAAAAAAAAAAAAAAAAAAAAAAAAAAAAAAAAAAAAAAAAAAAAAAAAAAAAAAAAAAAAAAAAAAAAAAAAAAAAAAAAAAAAAAAAAAAAAAAAAAAAAAAAAAAAAAAAAAAAAAAAAAAAAAAAAAAAAAAAAAAAAAAAAAAAAAAAAAAAAAAAAAAAAAAAAAAAAAAAAAAAAAAAAAAAAAAAAAAAAAAAAAAAAAAAAAAAAAAAAAAAAAAAAAAAAAAAAAAAAAAAAAAAAAAAAAAAAAAAAAAAAAAAAAAAAAAAAAAAAAAAAAAAAAAAAAAAAAAAAAAAAAAAAAAAAAAAAAAAAAAAAAAAAAAAAAAAAAAAAAAAAAAAAAAAAAAAAAAAAAAAAAAAAAAAAAAAAAAAAAAAAAAAAAAAAAAAAAAAAAAAAAAAAAAAAAAAAAAAAAAAAAAAAAAAAAAAAAAAAAAAAAAAAAAAAAAAAAAAAAAAAAAAAAAAAAAAAAAAAAAAAAAAAAAAAAAAAAAAAAAAAAAAAAAAAAAAAAAAAAAAAAAAAAAAAAAAAAAAAAAAAAAAAAAAAAAAAAAAAAAAAAAAAAAAAAAAAAAAAAAAAAAAAAAAAAAAAAAAAAAAAAAAAAAAAAAAAAAAAAAAAAAAAAAAAAAAAAAAAAAAAAAAAAAAAAAAAAAAAAAAAAAAAAAAAAAAAAAAAAAAAAAAAAAAAAAAAAAAAAAAAAAAAAAAAAAAAAAAAAAAAAAAAAAAAAAAAAAAAAAAAAAAAAAAAAAAAAAAAAAAAAAAAAAAAAAAAAAAAAAAAAAAAAAAAAAAAAAAAAAAAAAAAAAAAAAAAAAAAAAAAAAAAAAAAAAAAAAAAAAAAAAAAAAAAAAAAAAAAAAAAAAAAAAAAAAAAAAAAAAAAAAAAAAAAAAAAAAAAAAAAAAAAAAAAAAAAAAAAAAAAAAAAAAAAAAAAAAAAAAAAAAAAAAAAAAAAAAAAAAAAAAAAAAAAAAAAAAAAAAAAAAAAAAAAAAAAAAAAAAAAAAAAAAAAAAAAAAAAAAAAAAAAAAAAAAAAAAAAAAAAAAAAAAAAAAAAAAAAAAAAAAAAAAAAAAAAAAAAAAAAAAAAAAAAAAAAAAAAAAAAAAAAAAAAAAAAAAAAAAAAAAAAAAAAAAAAAAAAAAAAAAAAAAAAAAAAAAAAAAAAAAAAAAAAAAAAAAAAAAAAAAAAAAAAAAAAAAAAAAAAAAAAAAAAAAAAAAAAAAAAAAAAAAAAAAAAAAAAAAAAAAAAAAAAAAAAAAAAAAAAAAAAAAAAAAAAAAAAAAAAAAAAAAAAAAAAAAAAAAAAAAAAAAAAAAAAAAAAAAAAAAAAAAAAAAAAAAAAAAAAAAAAAAAAAAAAAAAAAAAAAAAAAAAAAAAAAAAAAAAAAAAAAAAAAAAAAAAAAAAAAAAAAAAAAAAAAAAAAAAAAAAAAAAAAAAAAAAAAAAAAAAAAAAAAAAAAAAAAAAAAAAAAAAAAAAAAAAAAAAAAAAAAAAAAAAAAAAAAAAAAAAAAAAAAAAAAAAAAAAAAAAAAAAAAAAAAAAAAAAAAAAAAAAAAAAAAAAAAAAAAAAEppbW15AAAFkAMAAgAAABQAABCekAQAAgAAABQAABCykpEAAgAAAAMyMgAAkpIAAgAAAAMyMgAA6hwABwAACAwAAAiSAAAAABzqAAAACAAAAAAAAAAAAAAAAAAAAAAAAAAAAAAAAAAAAAAAAAAAAAAAAAAAAAAAAAAAAAAAAAAAAAAAAAAAAAAAAAAAAAAAAAAAAAAAAAAAAAAAAAAAAAAAAAAAAAAAAAAAAAAAAAAAAAAAAAAAAAAAAAAAAAAAAAAAAAAAAAAAAAAAAAAAAAAAAAAAAAAAAAAAAAAAAAAAAAAAAAAAAAAAAAAAAAAAAAAAAAAAAAAAAAAAAAAAAAAAAAAAAAAAAAAAAAAAAAAAAAAAAAAAAAAAAAAAAAAAAAAAAAAAAAAAAAAAAAAAAAAAAAAAAAAAAAAAAAAAAAAAAAAAAAAAAAAAAAAAAAAAAAAAAAAAAAAAAAAAAAAAAAAAAAAAAAAAAAAAAAAAAAAAAAAAAAAAAAAAAAAAAAAAAAAAAAAAAAAAAAAAAAAAAAAAAAAAAAAAAAAAAAAAAAAAAAAAAAAAAAAAAAAAAAAAAAAAAAAAAAAAAAAAAAAAAAAAAAAAAAAAAAAAAAAAAAAAAAAAAAAAAAAAAAAAAAAAAAAAAAAAAAAAAAAAAAAAAAAAAAAAAAAAAAAAAAAAAAAAAAAAAAAAAAAAAAAAAAAAAAAAAAAAAAAAAAAAAAAAAAAAAAAAAAAAAAAAAAAAAAAAAAAAAAAAAAAAAAAAAAAAAAAAAAAAAAAAAAAAAAAAAAAAAAAAAAAAAAAAAAAAAAAAAAAAAAAAAAAAAAAAAAAAAAAAAAAAAAAAAAAAAAAAAAAAAAAAAAAAAAAAAAAAAAAAAAAAAAAAAAAAAAAAAAAAAAAAAAAAAAAAAAAAAAAAAAAAAAAAAAAAAAAAAAAAAAAAAAAAAAAAAAAAAAAAAAAAAAAAAAAAAAAAAAAAAAAAAAAAAAAAAAAAAAAAAAAAAAAAAAAAAAAAAAAAAAAAAAAAAAAAAAAAAAAAAAAAAAAAAAAAAAAAAAAAAAAAAAAAAAAAAAAAAAAAAAAAAAAAAAAAAAAAAAAAAAAAAAAAAAAAAAAAAAAAAAAAAAAAAAAAAAAAAAAAAAAAAAAAAAAAAAAAAAAAAAAAAAAAAAAAAAAAAAAAAAAAAAAAAAAAAAAAAAAAAAAAAAAAAAAAAAAAAAAAAAAAAAAAAAAAAAAAAAAAAAAAAAAAAAAAAAAAAAAAAAAAAAAAAAAAAAAAAAAAAAAAAAAAAAAAAAAAAAAAAAAAAAAAAAAAAAAAAAAAAAAAAAAAAAAAAAAAAAAAAAAAAAAAAAAAAAAAAAAAAAAAAAAAAAAAAAAAAAAAAAAAAAAAAAAAAAAAAAAAAAAAAAAAAAAAAAAAAAAAAAAAAAAAAAAAAAAAAAAAAAAAAAAAAAAAAAAAAAAAAAAAAAAAAAAAAAAAAAAAAAAAAAAAAAAAAAAAAAAAAAAAAAAAAAAAAAAAAAAAAAAAAAAAAAAAAAAAAAAAAAAAAAAAAAAAAAAAAAAAAAAAAAAAAAAAAAAAAAAAAAAAAAAAAAAAAAAAAAAAAAAAAAAAAAAAAAAAAAAAAAAAAAAAAAAAAAAAAAAAAAAAAAAAAAAAAAAAAAAAAAAAAAAAAAAAAAAAAAAAAAAAAAAAAAAAAAAAAAAAAAAAAAAAAAAAAAAAAAAAAAAAAAAAAAAAAAAAAAAAAAAAAAAAAAAAAAAAAAAAAAAAAAAAAAAAAAAAAAAAAAAAAAAAAAAAAAAAAAAAAAAAAAAAAAAAAAAAAAAAAAAAAAAAAAAAAAAAAAAAAAAAAAAAAAAAAAAAAAAAAAAAAAAAAAAAAAAAAAAAAAAAAAAAAAAAAAAAAAAAAAAAAAAAAAAAAAAAAAAAAAAAAAAAAAAAAAAAAAAAAAAAAAAAAAAAAAAAAAAAAAAAAAAAAAAAAAAAAAAAAAAAAAAAAAAAAAAAAAAAAAAAAAAAAAAAAAAAAAAAAAAAAAAAAAAAAAAAAAAAAAAAAAAAAAAAAAAAAAAAAAAAAAAAAAAAAAAAAAAAAAAAAAAAAAAAAAAAAAAAAAAAAAAAAAAAAAAAAAAAAAAAAAAAAAAAAAAAAAAAAAAAAAAAAAAAAAAAAAAAAAAAAAAAAAAAAAAAAAAAAAAAAAAAAAAAAAAAAAAAAAAAAAAAAAAAAAAAAAAAAAAAAAAAAAAAAAAAAAAAAAAAAAAAAAAAAAAAAAAAAAAAAAAAAAAAAAAAAAAAAAAAAAAAAAAAAAAAAAAAAAAAAAAAAAAAAAAAAAAAAAAAAAAAAAAAAAAAAAAAAAAAAAAAAAAAAAAAAAAAAAAAAAAAAAAAAAAAAAAAAAAAAAAAAAAAAAAAAAAAAAAAAAAAAAAAAAAAAAAAAAAAAAAAAAAAAAAAAAAAAAAAAAAAAAAAAAAAAAAAAAAAAAAAAAAAAAAAAAAAAAAAAAAAAAAAAAAAAAAAAAAAAAAAAAAAAAAAAAAAAAAAAAAAAAAAAAAAAAAAAAAAAAAAAAAAAAAAAAAAAAAAAAAAAAAAAAAAAAAAAAAAAAAAAAAAAAAAAAAAAAAAAAAAAAAAAAAAAAAAAAAAAAAAAAAAAAAAAAAAAAAAAAAAAAAAAAAAAAAAAAAAAAAAAAAAAAAAAAAAAAAAAAAAAAAAAAAAAAAAAAAAAAAAAAAAAAAAAAAAAAAAAAAAAAAAAAAAAAAAAAAAAAAAAAAAAAAAAAAAAAAAAAAAAAAAAAAAAAAAAAAAAAAAAAAAAAAAAAAAAAAAAAAAAAAAAAAAAAAAAAAAAAAAAAAAAAAAAAAAAAAAAAAAMjAyMDoxMDoxNyAxMzoxNDo0MgAyMDIwOjEwOjE3IDEzOjE0OjQyAAAASgBpAG0AbQB5AAAA/+ELGGh0dHA6Ly9ucy5hZG9iZS5jb20veGFwLzEuMC8APD94cGFja2V0IGJlZ2luPSfvu78nIGlkPSdXNU0wTXBDZWhpSHpyZVN6TlRjemtjOWQnPz4NCjx4OnhtcG1ldGEgeG1sbnM6eD0iYWRvYmU6bnM6bWV0YS8iPjxyZGY6UkRGIHhtbG5zOnJkZj0iaHR0cDovL3d3dy53My5vcmcvMTk5OS8wMi8yMi1yZGYtc3ludGF4LW5zIyI+PHJkZjpEZXNjcmlwdGlvbiByZGY6YWJvdXQ9InV1aWQ6ZmFmNWJkZDUtYmEzZC0xMWRhLWFkMzEtZDMzZDc1MTgyZjFiIiB4bWxuczpkYz0iaHR0cDovL3B1cmwub3JnL2RjL2VsZW1lbnRzLzEuMS8iLz48cmRmOkRlc2NyaXB0aW9uIHJkZjphYm91dD0idXVpZDpmYWY1YmRkNS1iYTNkLTExZGEtYWQzMS1kMzNkNzUxODJmMWIiIHhtbG5zOnhtcD0iaHR0cDovL25zLmFkb2JlLmNvbS94YXAvMS4wLyI+PHhtcDpDcmVhdGVEYXRlPjIwMjAtMTAtMTdUMTM6MTQ6NDIuMjIwPC94bXA6Q3JlYXRlRGF0ZT48L3JkZjpEZXNjcmlwdGlvbj48cmRmOkRlc2NyaXB0aW9uIHJkZjphYm91dD0idXVpZDpmYWY1YmRkNS1iYTNkLTExZGEtYWQzMS1kMzNkNzUxODJmMWIiIHhtbG5zOmRjPSJodHRwOi8vcHVybC5vcmcvZGMvZWxlbWVudHMvMS4xLyI+PGRjOmNyZWF0b3I+PHJkZjpTZXEgeG1sbnM6cmRmPSJodHRwOi8vd3d3LnczLm9yZy8xOTk5LzAyLzIyLXJkZi1zeW50YXgtbnMjIj48cmRmOmxpPkppbW15PC9yZGY6bGk+PC9yZGY6U2VxPg0KCQkJPC9kYzpjcmVhdG9yPjwvcmRmOkRlc2NyaXB0aW9uPjwvcmRmOlJERj48L3g6eG1wbWV0YT4NCiAgICAgICAgICAgICAgICAgICAgICAgICAgICAgICAgICAgICAgICAgICAgICAgICAgICAgICAgICAgICAgICAgICAgICAgICAgICAgICAgICAgICAgICAgICAgICAgICAgICAKICAgICAgICAgICAgICAgICAgICAgICAgICAgICAgICAgICAgICAgICAgICAgICAgICAgICAgICAgICAgICAgICAgICAgICAgICAgICAgICAgICAgICAgICAgICAgICAgICAgIAogICAgICAgICAgICAgICAgICAgICAgICAgICAgICAgICAgICAgICAgICAgICAgICAgICAgICAgICAgICAgICAgICAgICAgICAgICAgICAgICAgICAgICAgICAgICAgICAgICAgCiAgICAgICAgICAgICAgICAgICAgICAgICAgICAgICAgICAgICAgICAgICAgICAgICAgICAgICAgICAgICAgICAgICAgICAgICAgICAgICAgICAgICAgICAgICAgICAgICAgICAKICAgICAgICAgICAgICAgICAgICAgICAgICAgICAgICAgICAgICAgICAgICAgICAgICAgICAgICAgICAgICAgICAgICAgICAgICAgICAgICAgICAgICAgICAgICAgICAgICAgIAogICAgICAgICAgICAgICAgICAgICAgICAgICAgICAgICAgICAgICAgICAgICAgICAgICAgICAgICAgICAgICAgICAgICAgICAgICAgICAgICAgICAgICAgICAgICAgICAgICAgCiAgICAgICAgICAgICAgICAgICAgICAgICAgICAgICAgICAgICAgICAgICAgICAgICAgICAgICAgICAgICAgICAgICAgICAgICAgICAgICAgICAgICAgICAgICAgICAgICAgICAKICAgICAgICAgICAgICAgICAgICAgICAgICAgICAgICAgICAgICAgICAgICAgICAgICAgICAgICAgICAgICAgICAgICAgICAgICAgICAgICAgICAgICAgICAgICAgICAgICAgIAogICAgICAgICAgICAgICAgICAgICAgICAgICAgICAgICAgICAgICAgICAgICAgICAgICAgICAgICAgICAgICAgICAgICAgICAgICAgICAgICAgICAgICAgICAgICAgICAgICAgCiAgICAgICAgICAgICAgICAgICAgICAgICAgICAgICAgICAgICAgICAgICAgICAgICAgICAgICAgICAgICAgICAgICAgICAgICAgICAgICAgICAgICAgICAgICAgICAgICAgICAKICAgICAgICAgICAgICAgICAgICAgICAgICAgICAgICAgICAgICAgICAgICAgICAgICAgICAgICAgICAgICAgICAgICAgICAgICAgICAgICAgICAgICAgICAgICAgICAgICAgIAogICAgICAgICAgICAgICAgICAgICAgICAgICAgICAgICAgICAgICAgICAgICAgICAgICAgICAgICAgICAgICAgICAgICAgICAgICAgICAgICAgICAgICAgICAgICAgICAgICAgCiAgICAgICAgICAgICAgICAgICAgICAgICAgICAgICAgICAgICAgICAgICAgICAgICAgICAgICAgICAgICAgICAgICAgICAgICAgICAgICAgICAgICAgICAgICAgICAgICAgICAKICAgICAgICAgICAgICAgICAgICAgICAgICAgICAgICAgICAgICAgICAgICAgICAgICAgICAgICAgICAgICAgICAgICAgICAgICAgICAgICAgICAgICAgICAgICAgICAgICAgIAogICAgICAgICAgICAgICAgICAgICAgICAgICAgICAgICAgICAgICAgICAgICAgICAgICAgICAgICAgICAgICAgICAgICAgICAgICAgICAgICAgICAgICAgICAgICAgICAgICAgCiAgICAgICAgICAgICAgICAgICAgICAgICAgICAgICAgICAgICAgICAgICAgICAgICAgICAgICAgICAgICAgICAgICAgICAgICAgICAgICAgICAgICAgICAgICAgICAgICAgICAKICAgICAgICAgICAgICAgICAgICAgICAgICAgICAgICAgICAgICAgICAgICAgICAgICAgICAgICAgICAgICAgICAgICAgICAgICAgICAgICAgICAgICAgICAgICAgICAgICAgIAogICAgICAgICAgICAgICAgICAgICAgICAgICAgICAgICAgICAgICAgICAgICAgICAgICAgICAgICAgICAgICAgICAgICAgICAgICAgICAgICAgICAgICAgICAgICAgICAgICAgCiAgICAgICAgICAgICAgICAgICAgICAgICAgICAgICAgICAgICAgICAgICAgICAgICAgICAgICAgICAgICAgICAgICAgICAgICAgICAgICAgICAgICAgICAgICAgICAgICAgICAKICAgICAgICAgICAgICAgICAgICAgICAgICAgICAgICAgICAgICAgICAgICAgICAgICAgICAgICAgICAgICAgICAgICAgICAgICAgICAgICAgICAgICAgICAgICAgICAgICAgIAogICAgICAgICAgICAgICAgICAgICAgICAgICAgPD94cGFja2V0IGVuZD0ndyc/Pv/bAEMABwUFBgUEBwYFBggHBwgKEQsKCQkKFQ8QDBEYFRoZGBUYFxseJyEbHSUdFxgiLiIlKCkrLCsaIC8zLyoyJyorKv/bAEMBBwgICgkKFAsLFCocGBwqKioqKioqKioqKioqKioqKioqKioqKioqKioqKioqKioqKioqKioqKioqKioqKioqKv/AABEIAOAB+wMBIgACEQEDEQH/xAAfAAABBQEBAQEBAQAAAAAAAAAAAQIDBAUGBwgJCgv/xAC1EAACAQMDAgQDBQUEBAAAAX0BAgMABBEFEiExQQYTUWEHInEUMoGRoQgjQrHBFVLR8CQzYnKCCQoWFxgZGiUmJygpKjQ1Njc4OTpDREVGR0hJSlNUVVZXWFlaY2RlZmdoaWpzdHV2d3h5eoOEhYaHiImKkpOUlZaXmJmaoqOkpaanqKmqsrO0tba3uLm6wsPExcbHyMnK0tPU1dbX2Nna4eLj5OXm5+jp6vHy8/T19vf4+fr/xAAfAQADAQEBAQEBAQEBAAAAAAAAAQIDBAUGBwgJCgv/xAC1EQACAQIEBAMEBwUEBAABAncAAQIDEQQFITEGEkFRB2FxEyIygQgUQpGhscEJIzNS8BVictEKFiQ04SXxFxgZGiYnKCkqNTY3ODk6Q0RFRkdISUpTVFVWV1hZWmNkZWZnaGlqc3R1dnd4eXqCg4SFhoeIiYqSk5SVlpeYmZqio6Slpqeoqaqys7S1tre4ubrCw8TFxsfIycrS09TV1tfY2dri4+Tl5ufo6ery8/T19vf4+fr/2gAMAwEAAhEDEQA/APpGiiigAooooAKKKKACiiigAooooAKKKKACiiigAooooAKKKKACiiigAooooAKKKKACiiigAooooAKKKKACiiigAooooAKKKKACiiigAooooAKKKKACiiigAooooAKKKKACiiigAooooAKKKKACiiigAooooAKKKKACiiigAooooAKKKKACiiigAooooAKKKKACiiigAooooAKKKKACiiigAooooAKKKKACiiigAooooAKKKKACiiigAooooAKKKKACiiqFhrdhqd/fWVnK7XOnuEuY3heMoTkjG4DcDg4IyD60AX6KrafqNtqlmLqxkMkJZkDFGXlWKnggHqDVmgAoqO3uYLuATWk0c8TEgSRuGU4ODyPcEVWsNRGozXXkJ/o9vKYRLu/1jrw+B6A/Ln1DenIBdorLl1xIvFVtof2aZpLi1kuhOCuxVRlUg85zlxjjHWtSjpcAoqrpupWmr2K3mny+dbuzKr7SMlWKnGe2Qee9N1W/Ol6dJetEZYoPnmCnlYx95gO+Bzj2NAFyikR1kjV0YMrDKkHgiuKl8Q+IvEerXtp4O+wWWn2E7W02qX8TTebMpw6RRKy5CngszDnIAOM1MpKCvIFrsdtRXF/2b4//AOhu0b/wQv8A/JNH9m+P/wDobtG/8EL/APyTWX1in3K5WdpRXF/2b4//AOhu0b/wQv8A/JNH9m+P/wDobtG/8EL/APyTR9Yp9w5WdpRXF/2b4/8A+hu0b/wQv/8AJNH9m+P/APobtG/8EL//ACTR9Yp9w5WdpRXF/wBm+P8A/obtG/8ABC//AMk0f2b4/wD+hu0b/wAEL/8AyTR9Yp9w5WdpRXF/2b4//wChu0b/AMEL/wDyTR/Zvj//AKG7Rv8AwQv/APJNH1in3DlZ2lFcX/Zvj/8A6G7Rv/BC/wD8k0f2b4//AOhu0b/wQv8A/JNH1in3DlZ2lFcX/Zvj/wD6G7Rv/BC//wAk0f2b4/8A+hu0b/wQv/8AJNH1in3DlZ2lFcX/AGb4/wD+hu0b/wAEL/8AyTQ1n8Q4F8yLxHoN4y8iCbSJIVf23rOxX67T9KPrFPuHKztKKw/CviT/AISPT5zcWjWGo2M5tr6zdwxhlAB4YfeUhgyt3BHTkVuVvuSFFFFABRRRQAUUUUAFZ0GrrP4nvdHELBrS0guWl3cN5ryqFx7eST+IrRqjDcac3iC8t4VQalHbQPcMI8MYmaURAtjkbllwM8ZPTPIBXt7/AFmTWWt7jREhsQ7BbsXisSoztOzbnnjjPGaNQv8AWbfUEi0/REvLYgbrhrxYyvPPylTnH1pV1CW78US2Fu+yCxhSS4IAJd5M7U9gApY9+V985uueJvsus6JbaXfWUoutR+yXUPDvjY5OCG+UgqAcg9e1G7S7htfy/wCHNfVrvU7SOM6Tpa6izEh1a5EOweuSDmnS3WoroouItOWS/wBik2f2gABiRkeZjHHPOOcU8arYG9FmLyH7QSVEW8biQMkAdyByR2qjpHirS9a1DUrSyu4Hk0+cwuBKCWwiszAdcAtjPTigC3pl1qNzZPJqenLYzhiFhW4EoYYGDuAGOcjHtUGk3+sXc7rq2ipp8arlXW8Wbcc9MBRj61btNTsb6R47O7hndFDMqOCQp6HHocHB6HFJfatp2ltCupX1taGdisQnlVPMIGSBk88UAVBf6yda+znREFhvx9s+2rnbjr5e3P4Zo1a/1m0uETSdFTUIimWka8WHac9MFTn61KfEOjC2iuDqln5MyGSOQTqVZAcFgc/dB4J6CpbnV9Os5xDdX1vDIyhwjyAHaTjd7DPGelADdVutRtbVH0rTl1CYvhomuBDtXB5yQc84GPehLrUTov2h9OVb/YT9j+0AjdngeZjH44p76tp8d39le9t1n3BDGZBkMei/U9h1NQReItFmvvscOrWT3PnGDyVuFL+YBuKYzncBzjrQA7SbvUruGRtW0xdPdWwiLcibcPXIAxUOm3+s3N88WpaIllbhSVnW8WUsc8DaFGMjJ/Cs7VPE3l+J9AstMvrKeC+upbe5iXDuNsMj5BDcYZADwevaunoDrYyZr/WU1oW8OiJLYb1BvDeKpCkDcfL25454zzin6ve6vaPENJ0dNRVgd5a7EOw9uoOasXerafYSrFe3sEEjKXCySAHaOrY9PfpWTZ63cjxjrdhfz24sbO1t7mKTZsKCQyBtzFiD/qxzx1oA07+61GDTUmsdOW7ujt3W5uBGFz1+cg5x9OaLW61GXSGnutOWC9CsVtBcBwSM7RvxjnjnHGadHq+nS28s6XsBjhYJK3mD5GOMA+hORwfUetNGt6aykrewkq5jKhvmDABipXrkAgkdgaAI9IvNVu/O/tfSU07bjy9t0Jt/XPQDGOPzqO0v9Zl1ZoLvREt7MFgt0LxXLAdDs25GfrxWjbXMN5bR3FpMk0Mq7kkjYMrD1BHUVg+HdfnuLfVW1u4t1NnqctnG6IYw6qFKjBJy3PbrR1t/XT/MOl/6/rQu3t/rMOqJDZaIl1aEruuTeKhXPX5CpJx9eal1e81S0WI6RpSaiWJ8wNdCHZ0x1Bznn8qyvE3iNtP0nTtT0m8s3tJdQt7eaRxvVo3lCNhgwCkZPJz0rci1XT5rea4ivbd4YM+dIJV2x4GTuOeOOeaOl/66f5h1sR3F1qMejLcW+nLNfFFJtDcBQGONw34xxzzjnFGnXWo3GnvLqGnLZ3IJ2wLcCQMMcHcAMZ+lY3inxK1n4SvdT8P3lpLNZsm8OvmDBYDBAYEEhsg/jzWi+oy2nimGwuH3wX8LyW5IAMckeNye4IbcO/yt7YAHaTfavdySDVtHTTkUAoy3azbz6YCjFcj8R57Oy8SeF5dU1q/0mwubiWC7eDUJbaNkETMofawC/Nj5+CPUVq+OYL6SbR5bVnFrFcSG6CyYBBiYLkZ+b5sfSpbjw5darfeHNUh1T7LHpaBxb/Zg/mlk2tliRjKkj260dQ6M4DXdbWH4d3Vy3im6shFqwi0LUJdReKS4t/MiDMcsBOq5kwXDAqM+9bPicvo/g22vvCut3eo6bfX0X22+m1eWREg2sGZZ1DmJS4UMyDAycbeo9Ooo6fd+FvztqH/B/H/LoeP2esainhfUDFravo66rbxy3mn6hNfGztmA83bdSICwBxlhuKBjyMcWfCOpeFf+Ek8awReJTJpvlWr/AGqbV33CMKVZluC+8oGIG8NwTjNergYGBwKAMDAo7/12/wAvxYHm3hDxN9u+G2sx+G9Yi1nWLFr420ZvftUwUSyeRuJYsQQFwSeRjmpvCv8AwjGq3C22m+JtY1O9uLA/bIv7VuGKHK5ZwG/0eTPAA2HG4Acceh0Yx070ddQ/z/r7uh5j8KpdFsIINKtru+m1lRdC6tn1CedLULOR88bOVjY5GDtBbk+tW4dQ1DTfhDZPpz+VezXCW01wQD9naS52SyHPGVLMee/WvQ8VSsdNWwmu/Jf/AEe4kM3kleEdvv4Pox5x6lvXg7XD0PM7zVTYan4qv/D9xJNc28Frp1pNNK0wiBZTLNliflHnqfQmM+9Wr3WUsrrxULPUL66ttO0lVgQXcjGScK7vLuDZH/LNSQcZyPWvTgqjoo6Y6dqAijooHGOnb0pNXVv6/rcadnf+un+R53CBoWk+FfD+n3ksGmvKY7++Nw2D5UO4qkhPyhnH8JH3XxitLwTqKajoGrzXNzNPC93cMiTuzeTAGaNUy3I+WPcQem73rsiqlQpUYHQYqpqmnjUtPksjJ5UU/wAs+1eXQ/eUHtkcZ9CfrRP3r+Yo6W8v+CZ3gjzR4B0H7Rnzf7Og3Z6/6sVi/C//AJJ5ZHuZ7on3JuZM10n9u6ZB4ki8OmXyr97T7VDCUIV4w207T0JBxkDkAg1znwv/AOSd2P8A12uf/SiSufGO6v5jpq2h1tFFVNVkvItKuH0tI3vNmIRIpZdx4BYAgkdzgivNNi3RXGjWPEjePZPDgvNK2rpa3on/ALPkzuMhTbt8/pxnrW7pmsxyW1pBqlxbRanIirLAjbf3u3LKoJJ9TjJOKfLpcV9bGrRWcPEOjG+NkNWsvtQl8kw/aF3iTGdmM53Y7daE8Q6PJcJBFqdrJK7BVRJlYkk4HT34+vHWlZjNGis2TxDpEaTu2pW2IEaSTEoOFU4Y++DwcdDxRoGuWniLRLXUrCWN0niSQqkgYxllB2nHQ80WdrgaVFcn4k8Sal4f8UaQrfZpNGvJRDdExMJYCxCI+/djG9lB+XvS+K/EWo6Zr2g6bpP2ZRqF4ILiW4iaTYpSRhtAZef3Z61Si3ZrqJ6X8lc6uiqkuq2EF19mmvYEmyAY2kAIJ+6D6E9vXtWZ4t15dG8PalNa31nBqFvaPPFHcENnAJGV3A4JGOtSUld2N6isyPXLKDTbSbU7y3t5J7dZiHcLxgZbB6KCevQVUttVvX8eXukyvC9mmnw3UO2Mh1LO6kFskEfID0HWq5Wnb+tCFJOPN/WpvUUUVJRwOj3D2/xq8RrGcLNHZB17N+7YZ/QV6PXmen/8ls17/dsf/Rb16ZXr0vgRi9wooorQQUUUUAFFFFABVGHTrWLxBeajG5N3cW0EEqbhgJG0pQ46jJkfnvj2q9XOzSadonjC+1TVNXsbQX1jbW8cNxMsbfuXnYt8x5B84D8DQBHZ20ieLfEtt5hhkvoYJ4JB1A8sxEj/AHSgP/Ah61z0WjazZaB4L0z+xZ5pdEvYjdyxSRbWVIpEMikuCdxYN68nPNdvqF1pNr9n1DUru1thGSsVxNOIx8w5XJIBBAzj2B7VNHqmny6eb+K+tnswpY3CzKY8Dqd2cYGD+VC0d/T8Ngeqt6/itTz650HxC0tvcppRFxb6+9+1vbtDHC0fzqrg5DM7KVLFjn73A4B17XT9dsJvFEdvp0Mx1C5kuoGncGKXNsiKh5yPnXByOn1FdRY6vpuqK7abqFreCMgObedZNuemcHimW2vaRe3bWtnqtlcXC53QxXCM4x1+UHPFK3u8vy/L/JDv73N/XX/NnHaDoms6d4o0e7NhN9mi0j7DOZGhjWBt8bbVRD90BWAxn+tbPjWxvb9dFFjpst+LbVIbqYRvGuxEzk/Oy5PI4Ga2Jte0i3vhZXGq2UV2xCi3e4RZCT0G0nPOeKdfazpel7P7T1K0s/Mzs+0TrHux1xkjPUfnVX1Xk7/jf8ybb+at+Fjlrrw1cweLtTvFt7ibTdS0+K2ENo0S+UUMm5CGx8reZnI75z2NRab4Zn0q91q3vNHGqWGpQ2whjeVZFQRRCPyXL4JAK7g2Dnce/B7GfVNPtbIXlzfW0NqwBE8kyqhB6fMTjmi31TT7uza7tL62ntlzmaOZWQY6/MDjiktP6/r+vmPrf+v60OFufDOtHwfrnhxLdnudRv5Z4dQEieWiSShw553BkHGAP4RjjpfsdBvrjU/F/wBosZbJtSkU2V/I0TYItliDjaxZSDuIyBwfeuosda0vVC40zUrO8MeN4t51k256ZwTjpTYte0ifUDYw6rZSXisym3S4QyAjqNuc5GDn6Umk1byt+X+Q07O/zONi0zV4I/A1t/YU/wDxJZQl28ckWxALZ4ty5cEqSwPTOO2eK7PTL+e+e+W5smtGtbpoFDSq/mqFVlkG3oCG6HkUl1r2kWN0tte6rZW07AFYprhEY56cE5pbvUtK0dA19e2disrkgzSrGHbv1IyaptttslJJf15nOzaJcQ+Ldfub3TP7X0/WbSCJUyhCeWGVonVyPlO7dkZHLZ7Zzdb0fXLjUfEhstAjmivdOtLaETtC8L7HfzAFLZ4V8ruABI5xXcPqmnx6f9vkvrZbPaG+0NMojweh3Zxg5os9U0/Ubdp9Pvra6hVirSQTK6ggZwSD1wR+dIf9fl/kefXXh7WJdY1ctpl9dWWoixxcfa4oZ0MTtuddrDa65VgMYIH4VIPDOsSXCLdz6yyRTSvbarBLDHexqUiAWQD5JASGHKk4Rc+tdxY67pOpyNHpuqWV26jcy29wkhA9SAaP7e0g6h9gGq2X2zdt+z/aE8zPptznNAEfhyC+tfDtlDquz7ZHHiXYiqCc8HC/KDjGccZzjiuMj0fXi8wfRWiik8RPfNK5gkljh2fLJECzKG3AA55AY4BPTt77XdI0yVYtS1SytJGXcqXFwkZI9QCelS3uqafpsKzajfW1pEzbVeeZUUnGcAk9eDR9rm/rdP8AQOlv62a/U8+j8N6//Yt3ZtpjEL4ij1KLzJ4y0sX2gSt3xkAdDj5j6c1N4m8Jax4jv9Zv7RWskntrOKK2kdQbloJzKxbBIAIOwZ988V3a6pp76f8Ab1vrZrPaW+0CZfLwOp3ZxiksdW07U42fTb+1vEQ4ZreZZAp9Dg0LRLy/yS/QHq2+/wDnf8zjPEehXt/oOtSafpN9PqF/DbwYnuIQziNy3TcEAXJ5zk59ADW1qYe98ZeHFRGRrZZ7uZWxlFMflgHBIyWk9f4T6Vq2mvaRf3LW9jqtlczqCWihuEdgBwSQDmof7T0G01qWFtRsY9SnKI8T3K+a3HyLtJyOuQB/eJ70Acv8VI7++stJ0uwv7jTku7pvNubYfOgSNmABPABPFZ1l8MdcfT7dx8S/EyBolIVXjwOOn3a6LxrrdtaTaXpbFWuL+VyihxlVRCxbHUjoPxFdHpv/ACCrT/rin/oIoA4H/hV+u/8ARTvE/wD33H/8TR/wq/Xf+ineJ/8AvuP/AOJr0eigDzj/AIVfrv8A0U7xP/33H/8AE0f8Kv13/op3if8A77j/APia9HooA84/4Vfrv/RTvE//AH3H/wDE0f8ACr9d/wCineJ/++4//ia9HooA84/4Vfrv/RTvE/8A33H/APE0f8Kv13/op3if/vuP/wCJr0eigDzj/hV+u/8ARTvE/wD33H/8TR/wq/Xf+ineJ/8AvuP/AOJr0eigDzj/AIVfrv8A0U7xP/33H/8AE0f8Kv13/op3if8A77j/APia9HooA8L8QfCzxHqfjrRNOg8X+IblbMG+l1a627bQZ2hImCgmRsHIyAAMkHgV3vwtGPh1YAknEtzye/8ApEldvXE/C/8A5J3Y/wDXa5/9KJK5MV8CLjudbRRRXnmhxiWmqj4tyawdGuhp7aUtkJ/NgxvExbO3zN23Bz0z7Vl6loOvTzTzR6YRKuvxXyxWzQpHLCjr+8JJDNIVXncR0wO2fR6KpSatbp/nf8xPW/n/AJW/I4u0tJbbxD4m1XX9LNtZzQQyLdO8bKBFEQxG1i4xk4OAcVi+HLaWyXSodW0/VNOmfTP7IsLpxCYlBXcM7JWcsdgwWVRx0BJr01lDqVcBlYYIIyCKpW+i6baTRyW9nEjRZEWF4iyMEIOi8emKOZa36/5NfqGvT+tv8jktA8L3Vvomj2GoWlx9s0u0e3WZ508lSYjGWTb8zBuDhgMdTyBnb8F2+oWPhbT9P1K1+zNZWcNuVZgSzqmGOQSNuQMfjXQUU3Nyvfr/AMH/ADCyVvL+v0OW8TaTN4gu7jSpdOuPsVzp8sBvg8WyORirKQN+/IK5zt6gVi3eleI54/CVxe6W91qFrfpeam1vNEFTEDx4G5xk8r04616HRSjJxSX9b3B6/wBd1Y4G98O6wPD/AIr0WO1a5l1q5mltrzzFCIsqqBvydwMeOwPAGPQMu/D+sWOj+MbJbSbVZtZiY2s6ug3Ztli2NuYYwyk+mG9civQaKOZ2t5W/L/IfW/nc4C08P6kmrT3t5aXrW2oaTb2j28UkO+Fow4aNskja2/OVJ5znHFaWjaVe2HjXzP7Nmi09NGt7JJzOjqHjZyV+9vPDAZK811tFN1G3f+uv+ZPKkren4W/yQUUUVBR55p//ACWzXv8Adsf/AEW9emV5np//ACWzXv8Adsf/AEW9emV69L4EYvcKKKK0EFFFFABRRRQAVVvtMs9RiZLy2il3IU3PGGKg+hIq1RQBgS+DdLnjCTebIgOQr7SB+G2hfBulrB5K+aIsEeWNu3B68ba36KAOfh8F6Vbgi3EkQbrs2rn8lpI/BOkRSmSJHSQ9XUICfx210NFAHPP4J0iSYTOjtKCCHIQtx0520s3grSrnb9oWSXb03hGx+a10FFAGA/g3S5IRFJ5rxjGEbaRx0420R+DdLiiMUXmpGeqLtA/LbW/RQBz8PgrSbbP2dZIt3XYEXP5LSL4J0hJzMiOspJJkAQNk9edtdDRQBxHi7wdpQ8J6xcsrvNFYTsrsFJBEbEc7c1m/Dfwpp2qfCvw1PeiSVn0+Jzv2sASo9RXY+L/+RH13/sHXH/otqyfhR/ySLwv/ANgyH/0EUAXz4N0toPJbzTFjHlnbtx9NtEXg3S4EKQebGpOSqbQCfwWt+igDnofBOkW7FrdHiJGCUCLn8lo/4QnSPP8AO2P5uc+ZhN2frtroaKAOem8E6RcMGuEeVgMAuEYgfitOm8G6XcIEn82VQcgPtIB/Fa36KAMAeDdLEHkjzRFjHl/Ltx9NtJD4M0u3Ui3EkQJyQm1c/ktdBRQBz0XgnSIJDJCjxueCyBAT+O2hvBOkPP5zI7S5B8whN2R05210NFAGCfB+nNIsjNMXUEKxK5H0O2tuCJYLeOFCSsahQT1wBin0UAFFFFABRRRQAUUUUAFFFFABRRRQAUUUUAFcL8N50tdGu/DtwwTUtHvbiO4hJw2x5neOQDqVZGBB+o7V3VYHiTwVofilo5tTtMXkK7Yb2CRoZ4x6CRCG2+2cVlVp+0jYadma1Feft8I7fcdt/qJHYnWrwf8AtSk/4VHB/wA/+of+Du9/+OVy/VX3L5z0GivPv+FRwf8AP/qH/g7vf/jlH/Co4P8An/1D/wAHd7/8co+qvuHOeg0V59/wqOD/AJ/9Q/8AB3e//HKP+FRwf8/+of8Ag7vf/jlH1V9w5z0GivPv+FRwf8/+of8Ag7vf/jlcj8QPA0nh1fDQsdT1KNtS1+10+TGsXbbo5N24cvx06jmj6q+4c57fRXn3/Co4P+f/AFD/AMHd7/8AHKP+FRwf8/8AqH/g7vf/AI5R9VfcOc9Borz7/hUcH/P/AKh/4O73/wCOUf8ACo4P+f8A1D/wd3v/AMco+qvuHOeg0V59/wAKjg/5/wDUP/B3e/8Axyj/AIVHB/z/AOof+Du9/wDjlH1V9w5z0GgkAEk4A6mvPv8AhUcH/P8A6h/4O73/AOOUj/B+ylUpczXNzEfvRXOq3UsbexRnII9iKPqj7hzlbwxexa18Tda1qwYS2E1zBbW8ynKzeSmHdT3XcxUHvtNeqVhaF4Zh0fyyPLHlLsiiiXakYxjgfSt2u2MeVJGYUUUVQBRRRQAUUUUAFFFFABRRRQAUUUUAFFFFABRRRQAVRu9ZtLLVrHTrhpBc35cQARMVbapZssBgcDvV6uC8S67FpvjG+1KVfOHh/RJJY4QeZJpctgfRIOvo9K9v68hpX2O9JwM1R0jWLTXLE3entI0IlkhJkjZDuRirDDAHhgR+FchF4k1LTdWu49T1AXP2HRRd3MAjQA3LB3CJgZACRNwSeCCTWDaazrfg7R4NL09jqEyaXbvL5qLshvLq4CryADjLuxBPOByM0+tv66/5fkLpf+un+a/E9P1fVbXQ9IudT1FnS1tUMkrJGzlVHU4UE1ajcSRq65wwBGRg81wHieW7XR10rWL9JF1C+toXR3QvFCuZZmfaqgbkifjBA9Tnj0EdOKP6/r7wCiiigAooooAKKKKACiiigAooooAKKKKACiiigAooooAKKKKACiiigAooooAKKKKACiiigAooooAKKKKACvOPiZ/pXjj4daaOWk1prvb6iGIsT+G6vR683vT/AGz+0hpkC/PF4f0OW5Y9klncIF+pQZ+lAHpFFFFABRRRQAUUUUAFFFFABRRRQAUUUUAFFFFABRRRQAUUUUAFFFFABRRRQAUUUUAFFFFABVWTS7CW6kuZbK3eeWLyZJGiBZ0/uk9x7VaooAzhpWjaaJbwWVlahYiJZ/LVMRjk7m9OvWksLPRbrRwNMgsZtNu1Dj7OqNFMuBg8cMMAc+wqHxf/AMiPrv8A2Drj/wBFtWT8KP8AkkXhf/sGQ/8AoIoA6FtF0x4UifT7Vo0k85VMSkB8Y3dOuOM9au0UUAFFFFABRRRQAUUUUAFFFFABRRRQAUUUUAFFFFABRRRQAUUUUAFFFFABRRRQAUUUUAFFFFABRRRQAUUUUAIzBVLMQFAyST0rzb4R51y78UeN3U7Nf1IpZsR961gHlxn2yd35Vc+LmuXVr4ag8N6Ic634ml/s60Gf9WjD97KfZUJ57Eg112gaNbeHfDtho9gMW9jbpBHxyQoxk+56n3NAGhRRRQAUUUUAFFFFABRRRQAUUUUAFFFFABRRRQAUUUUAFFFFABRRRQAUUUUAFFFFABRRRQAUUUUAY/i//kR9d/7B1x/6Lasn4Uf8ki8L/wDYMh/9BFa3i/8A5EfXf+wdcf8AotqyfhR/ySLwv/2DIf8A0EUAddRRRQAUUUUAFFFFABRRRQAUUUUAFFFFABRRRQAUUUUAFFFFABRRRQAUUUUAFFFFABRRRQAUUUUAFFFFABUF9fW2m2E97fzpb2tvGZJZZDhUUDJJNTMyopZyFVRkknAAryW7nl+NPiAafY708B6ZPm8uQSP7XmQ8RJ6xKeSe/bsQAXvh7aXPjPxPdfEnWYnihmRrXQLWQYMNrnmUjs0h5+nqCK9NpscaQxJFCixxooVUUYCgdAB2FOoAKKKKACiiigAooooAKKKKACiiigAooooAKKKKACiiigAooooAKKKKACimTTRW8LzXEiRRINzu7BVUepJ6Vz5+IvglSQfGOgAjqDqkP/xVAHR0Vzf/AAsbwR/0OPh//wAGkH/xVH/CxvBH/Q4+H/8AwaQf/FUAdJRXN/8ACxvBH/Q4+H//AAaQf/FUf8LG8Ef9Dj4f/wDBpB/8VQB0lFc3/wALG8Ef9Dj4f/8ABpB/8VR/wsbwR/0OPh//AMGkH/xVAFzxf/yI+u/9g64/9FtWT8KP+SReF/8AsGQ/+giuV+JPi/Tr/wAP3Fx4S+IOgeclrLFNpUuoWxjvUZSCA27csgH3TnGeCME1mfB7xTZad4V02bxV490K1jisEtrbRVv7dRAoA/eSsTuMhx0yAoOMZ6AHtdFc3/wsbwR/0OPh/wD8GkH/AMVR/wALG8Ef9Dj4f/8ABpB/8VQB0lFc3/wsbwR/0OPh/wD8GkH/AMVR/wALG8Ef9Dj4f/8ABpB/8VQB0lFc3/wsbwR/0OPh/wD8GkH/AMVR/wALG8Ef9Dj4f/8ABpB/8VQB0lFc3/wsbwQenjHQP/BpD/8AFVv2t3b31rHc2U8VxBINySwuHVh6gjg0AS0UUUAFFFFABRRRQAUUUUAFFFFABRRRQAUUUUAFFFFABRRRQAUUUUAFVdS1Ky0fTpr/AFS6itLSBd8s0zhVQe5Ncj4n+KWk6LqJ0XRIJ/EfiFshNM00b2Q+sr/djA755HpWXYfDzV/FuoQaz8V7uO78p/MtfD9qf9Ctj2L/APPVx78deooAoyT6x8aZzBZfatF8BqcS3BBjuNYH91O6Q+p6n8wPUdN02z0jTbfT9Mto7W0tkEcUMYwqKO1WFVUQIihVUYAAwAKWgAooooAKKKKACiiigAooooAKKKKACiiigAooooAKKKKACiiigAooooAKKKKAPM/FcSeKfiLJo2pqJtJ0azguTZvzHcTzNIAzr0YIsfAPGWJ7Cr40uwVQFsbYAdAIV4/Sqc3/ACVzxJ/2D9P/AJ3Fa1c1R+8e1hYr2SZV/s2x/wCfK3/79L/hR/Ztj/z5W/8A36X/AAq1RUHVZFX+zbH/AJ8rf/v0v+FH9m2P/Plb/wDfpf8ACrVFAWRV/s2x/wCfK3/79L/hR/Ztj/z5W/8A36X/AAq1RQFkVf7Nsf8Anyt/+/S/4Uf2bY/8+Vv/AN+l/wAKtUUBZFX+zbH/AJ8rf/v0v+FH9m2P/Plb/wDfpf8ACrVFAWRV/s2x/wCfK3/79L/hR/Ztj/z5W/8A36X/AAq1RQFkVf7Nsf8Anyt/+/S/4Uf2bY/8+Vv/AN+l/wAKtUUBZFX+zLD/AJ8rf/v0v+FYli9v4I+IGmf2ZGLbTNeM0N5ZxDbGJkj8xZ1UcBsIytjrkE8iulrkvFv/ACNXhL/r9uP/AEllq4N8xzYmKdJnsAIIyOQaKgsv+Qfb/wDXJf5VPXSeIV7y/s9PjWS/uobZHYIrTSBAWPQZPeoTrmlLam5bUrQQK/lmUzrtDYztznGcc/Tmuc+IUaXcei6d9lN1Le6lGjRrjcYUPnS9SBgiIA/XHes6/wDCOo6lp2pteWqvPrerxSSRF1P2W0XZGwPOCxiQg4zy+OaFr/Xp/n+APT+vX/I7Jdf0h4mkTVLNkVxGWE6kBiNwXr1xzj05qr4h8R2Oj+Hrq+OoWsTraPcQF2DCQBcggZG4HgcHuKydU8OSN46j1dLWeS1GntCqWUixMJiw3FjlTyiooYHIC4yOM4mo+GNYNvrFumkmZNQurJAsUyFIrGIR7olLEEnIl4wM7s0t1/Xe3/B9BrR/16/8D1Ox0rUryeLS7e9uLH+0GtBLfwKxEittXOxMnA3HnPYj1q4db0sLMx1K0C24JlPnriPBwc88c8fWuO1bQfEF5q2sXNjbR2tzNpBt7S4WUbUmdCZGBzncXWJQcYATPtV680i4Hg+8tNC0QWl5HpBsraaVoxJ93AQEE8A5PJAzjr1pybd2t/8Ah/8AgfeKK2T/AK2/zf3F3SfFsOueG7DUbOaxt579wIYZ7gNld4445LbCDjsSBW1LqdhBeJaz3tvHcPjbC8oDHPTjOecHHrXJ3uh38t54cW20tVtLCTLKZFyixjbAH56Dcz/LnlFFVE8L6vdWc+mXMTRvd66dQvdQZ1IeFJg8Spg7s7UjTBACgN7Zel7f1bT/AILFra/9df6+Z2J1/RxM0R1SzEiyeUyeeuQ+QNpGeuSB+IrQrzq58LaiLHUzBpgDahrUTSRI6BvscG3YAc/xGPPXI8wn1r0OLf5SedtEm0btvTPfFJaq/wDWyY3vYdRRRQAUVzOtfEjwb4d3DWPEunQSL1iE4eQf8AXLfpXOf8LltdT48HeFfEXiHd9yeGyMNufrJJjH5UAek1HcXENpbvPdTRwwxjLySMFVR6kngV5zj4t+Jup0fwVaN6f6fdr/ACjqSD4LaJdzpdeMtT1bxXdKdw/tO7byUP8AsxLhQPY5oAfqHxj0aW9fTvBdje+L9RU4Melx5hjP+3OfkUe4zVQ+FvH3jg7vGmtL4b0puukaHJmZx6S3B/IheCK9F0/TrLSrJLPS7OCztoxhIbeMRov0A4qzQBjeGvCOheD9N+w+HNNhsYTy5QZeQ+rufmY+5JrZoooAKKKKACiiigAooooAKKKKACiiigAooooAKKKKACiiigAooooAKKKKACiiigAooooA82m/5K54k/7B+n/zuK1qyZv+SueJP+wfp/8AO4rWrmqfEe5hf4K/rqFcT8QdRurOCG6sLgxnR2TULiJWwZkDbSnuNnmH6gV21YaeH5Jl1I6rJY3sl4f3bGyIES7doU5clhxngjqai9nddDeSuuXuR654gmsZNE/s+2e6i1G6WMvGyfdMbOANxHJ2/wD16Vtcu/8AhNY9JFhN5H2Lz2cNH1Lhcn5s4HI4znPTvVSx8I3tpoGjWE2qx3E2jzLJbzG2KhlVWQKw3nPytjII6Crz+H5v7Ytr+K/YPHaLaTFlJaRQ4fcDngnBB69fbmvdUvK7/LT8TP32rvey/PX8BzeJraO/it5re4iWa7NnHLIm0NKAT0PJU44YAimp4itr4lILW7mtZLprL7TEhKlxkMflOQoII3cDI/Gs2XwVPJhl1JPPTUDfLcvbbpSSThGO7kKGwMY6DjjnR0vQbnRreW00++RbRrh50EkG50LsXZc7gCu4ntnBxnvSVra/1t/wR3nf+vP/AIBneC9Yd9C0yy8q7vZmSQzXAdXEIEjBfMZm3ZI6YBJwa2vEkH2jw7er5s0TCJirwTNGynHBDKQaxtD8GXOg3VlPZ6lbq0avHeBLIqLtC25c/vOGUlsNz97pW/rFnc6hpU1rZ3EVtJKu3zJYTKAD1+UMv86JWYQ5lGzMDQtTu5vCclhdTu2qWcz6dNKT85ZekmfUx4fPvUPgvWBB4N8PxTPc32o6lbmUCSYyO+ANzlnPAGR+YwK1k8OPFrF7qkV2i3V5bpE6+STF5i5Bk27s5K4XGeg6mqOk+DZtJs9GCahHLeaRC9vHMbcqssTAZVl3k5yoOQfwp3Wt+tv1/WxPLJNW6X/T9DR/4SmwMaBVlNy12bIWoA8zzgNxXrjhRuznGKxtP1uPStU8Sz3/ANqWNL23jit5JPMbfJGgCpliBuZvUDntV1fByJLHeJdf8TJNQbUDOY/kZ2TyyuzP3dnHXPAOahn8GTX9xqkmoX0L/bbmC7iEduR5MsQULnLHcvy8jjOTyKSt/Xyv+o3z/wBfO1/wIvEWsLdwJFEZ7W8sdTshIiykZWSVRnKnDKRuGD6HiuxrndR8OXd/ZJDHeWlqy3MM58uy+X904cDAcHJI5JPToO56EZwM8nvgUaWt5/oilfmu+36sWuK8eX9rpeueF73ULiO2tobu4aSWRsKo+yy12tcX46srbUde8L2l9BHcW813cLJFIuVYfZZeopw+JGeJ/hSN/wAE/Fzw9rWlz3Oqa5oel24m8uxhuNRiSd4VUDfIhb5SWDEDg4xmunX4geDW+74t0I/TUof/AIqub8F/Cbw/o+jzWmraLouqQGcyWMtxp8ckyQsoISR2XLFWLAHn5cVvt8NvA7dfB2g/hpkI/wDZa6jwiG68VfD651C3vrvxB4ckurbPkTSX8BeLPXad3FWD8R/BC9fGOgD/ALicP/xVNX4a+Bl6eDtB/HTYT/7LUi/DzwWv3fCGgj6aZD/8TQBC3xN8Cr18Y6F+GoRH/wBmqGT4r+AYh83i/SD/ALt2rfyNaC+BPCK/d8K6IPpp0P8A8TU0fhDw1Ccw+HtKjP8As2MY/wDZaAOdl+Nfw6h+/wCK7I/7gdv5LVRvj38OA22HxA1w/ZIbG4cn8o67mLR9Mg/1GnWkf+5Ao/kKtqiouEUKPQDFAHnP/C7vD8v/ACD9G8S6h6fZdHlOfzxR/wALZv7jjTvht4ylJ6fabBbcH8WavR6KAPOP+Ey+JV7/AMg/4ZJaqekt/rUQ/NFBNG74zX3RPB2lRn+8bieRf5LXo9FAHm//AAgnj7Uv+Q58TbmJD1h0rTYrfb9JDlqX/hR/hu758Ran4g8Q+o1PVZGB/BNtej0UAc7ovw+8I+Hdp0bw5p1rIvSUW6tJ/wB9nLfrXRUUUAFFFFABRRRQAUUUUAFFFFABRRRQAUUUUAFFFFABRRRQAUUUUAFFFFABRRRQAUUUUAFFFFABRRRQAUUUUAebTf8AJXPEn/YP0/8AncVrVH4v8N6sNfi8TeGIYru6FuLW90+SQRfaogxZGRzwHUs2N3BDEZHFcw3jW7jYpL4N8RK6nDLstuD/AN/qwnFuV0erhq9ONNRk7WOrork/+E4uP+hP8Rf9+7b/AOPUf8Jxcf8AQn+Iv+/dt/8AHqjkl2On6xS/mOsork/+E4uP+hP8Rf8Afu2/+PUf8Jxcf9Cf4i/7923/AMeo5Jdg+sUv5jrKK5P/AITi4/6E/wARf9+7b/49R/wnFx/0J/iL/v3bf/HqOSXYPrFL+Y6yiuT/AOE4uP8AoT/EX/fu2/8Aj1H/AAnFx/0J/iL/AL923/x6jkl2D6xS/mOsork/+E4uP+hP8Rf9+7b/AOPUf8Jxcf8AQn+Iv+/dt/8AHqOSXYPrFL+Y6yiuT/4Ti4/6E/xF/wB+7b/49R/wnFx/0J/iL/v3bf8Ax6jkl2D6xS/mOsork/8AhOLj/oT/ABF/37tv/j1H/CcXH/Qn+Iv+/dt/8eo5Jdg+sUv5jrK5Lxb/AMjV4S/6/bj/ANJZaX/hOLjt4P8AEP8A3xbf/HqgsbTV/EPia31bV7MWSWqPHYaeJBJIGfAaSRl+XdgbQBkAFueaqEXc58RXpum0nc9fsf8AkH2//XJf5Cp6jt4zDbRRk5KIFJ+gqSug8kKKKKACiiigAooooAKKKKACiiigAooooAKKKKACiiigAooooAKKKKACiiigAooooAKKKKACiiigAooooAKKKKACiiigAooooAKKKKACiiigAooooAKKKKAM3xDqv9h+HNQ1QIkhs7d5gjuVD7QTjIB9PSpLeCO+sra41GyhS5kiVpEIDbGIyVyRzg1534jsry/m1ZdU026vJZ9Zt44tls0ghsY9j/IcY+chwccktz04d4mtL/UJNdGpafdzSXF3aWtoI4GkFtafu2lkUgYBJMgJHOVHYUR1V/T9P89e1mD0dv6/rT53O3d9JXxDFo4sEa4ktnuiwiXaiKyryeuSW44/hNXv7MsP+fOD/v2K4gWt2viPxJrFnoJTVWs0jsC8AG0rAX3b8YJMkmzg5O30FM8M2T2/jDSyLC9ZbfSBFLeSwOnnzyHdK7swGSDGBzzmXjvQtdP66/5WB6K/9dP8zs72HR9OtWub6K1ghXALugAyeAPck8AdTUNg+j6k7rbafIuwZJuNPlhB+hdAD+FUvFtvdfa9KvoZpYre0lczPFb+cYyy4WTZg5A5BIGRvz0Bq1oF/FeTTLH4jttXKqCY4hGGi9yF5H40LUGS6uNJ0XRrzU7yzi8izhaaQJECxCjOAPWrEdjp8kCSNZQx7lDFXRQVz2NYnxAsBqmhWlnJZG6hl1C388iEymOIOGc4AJ5C7eP71Z0fhm01XxyZLvR2hsYdKAMUiYTzJiFKDHHyLEOB0Lk9TQtf68r/AI7A9P687HX/ANmWGcfY4M/9cxUAsrb7dJE2mQLbrGrCf5eWJOV29RgYOfevO9P0+8iuNAW80q8ku49VnuLuRYHxEqb47eEOR9wAoRzjCZPXmS90m6m0Txesem3hnurgQWyMjEHH7pHIx82WZ5S3QAqT0o9P62/zD1/rf/I9H/szTySBaW+R1+QcVDa2VtNGxuNMgt28xlRflbeoPDceo5x2zXHf2a2ma3raWuk3UlrbaTFBEkSEfaygaRiW/jLFlTuT89VbLw091D4OsbqzuJFt2kmu5ZEYIQisSMfwh5ZB8p6qmMYo6/15/wCQun9dv+CegjTNPYZFpAR6hBQNMsCMi0gI/wCuYrzyyttTl0CwhmsLu2sbjW5LnUoVgbKwsZJFiCAZK7hErYGDlh0zXRfDhEl8MzanFF5Meq3095HHt27Iy+2MY7fIqn8aFr/Xp/wfuG9P69f8vxOhOm6eCAbS3BPT5BzR/ZlhnH2SDPp5YrjNZsNQ1LxxBdW8UrQx3MFtNaXNu2GiRvM+0RTKw8vk4IOQ+zBFO8MaVO179r18Xk2qtqNxK4+zYWNQzrGDIRygjK7VUgHPQ80LVX/roD0/r1OjsH0nUb/UbW3sEzp8ywSu0S7Wcor4X1wHGfesrWtdl8ORXt5BoqLFa3ENvGm0CS+MhUfuiO43EYI5Knp1pvw805LHTLmRtJ+w3VzcS3E7GARHLyuVjHAJCrtHp6d6273y5PEmmRy29xIUjmkjkWAtFG2FGWforYLADvlqO39eodzVooooAKKKKACiiigAooooAKKKKACiiigAooooAKKKKACiiigAooooAKKKKACiiigAooooAKKKKACiiigAooooAKKKKACiiigAooooAKKKKACiiigAooooAKKKKACiiigAooooAKKKKACiiigAooooAKKKKAM/UdFttUmjlnkuUaON4v3M7RhkfG4HB/2Rz1HYjJq3a20FlaRWtpEsMEKCOONBhUUDAAHpipaKACiiigAooooAKKKKACiiigAooooAKKKKACiiigAooooAKKKKACiiigAooooAKKKKACiiigAooooAKKKKACiiigAooooAKKKKACiiigAooooAKKKKAP/Z)"
      ]
    },
    {
      "cell_type": "markdown",
      "metadata": {
        "id": "0OWsnEyYj526"
      },
      "source": [
        "The basic idea is that we would like use another Attack Model. As the figure above shown, for a given specific data, we feed the data to the Target Model to get the probility prediction. Then we use the probability prediction as the feature vector and the data class label as the input to feed into the Attack Model. Finally, the Attack Model will output the probability about wheter this given data belongs to the train dataset of the Target Model"
      ]
    },
    {
      "cell_type": "markdown",
      "metadata": {
        "id": "2vMEphdxuC-h"
      },
      "source": [
        "**2.1 Define Membership Attack Model**\n",
        "\n",
        "We would like to use a simple dense neutral network as the attack model. The input of the attack model is the 10-dimensional probability output from the pre-trained model for the data sample and the class label of the data sample. The output for the attack model is the probility of this data sample belongs to the train dataset"
      ]
    },
    {
      "cell_type": "code",
      "execution_count": null,
      "metadata": {
        "id": "2ap9S7BEuCI1"
      },
      "outputs": [],
      "source": [
        "class MIA_Model(nn.Module):\n",
        "    def __init__(self):\n",
        "        super().__init__()\n",
        "        self.fc1 = nn.Linear(11, 64)\n",
        "        self.fc2 = nn.Linear(64, 1)\n",
        "\n",
        "    def forward(self, feature_vectors, labels):\n",
        "        # feature vector represents 10-dimension probability outputs from the pre-trained model\n",
        "        # label represents the data sample label\n",
        "        x = torch.concat((feature_vectors, labels[:, None]), dim=1)\n",
        "        x = F.relu(self.fc1(x))\n",
        "        x = self.fc2(x)\n",
        "        return torch.sigmoid(x)\n",
        "    \n",
        "    def predict(self, feature_vectors, labels):\n",
        "        outputs = self.forward(feature_vectors, labels).squeeze()\n",
        "        return (outputs > 0.5).long()"
      ]
    },
    {
      "cell_type": "code",
      "execution_count": null,
      "metadata": {
        "id": "pTuYYty4Am0q"
      },
      "outputs": [],
      "source": [
        "membership_attack_model = MIA_Model().to(device)"
      ]
    },
    {
      "cell_type": "markdown",
      "metadata": {
        "id": "N06G7X0hNilD"
      },
      "source": [
        "**The question is how could we train this attack model. Since we do not know the train dataset for the pre-trained model in the real case, thus we could not generate the dataset to train the attack model.** \n"
      ]
    },
    {
      "cell_type": "markdown",
      "metadata": {
        "id": "VmrUkXf7QhLR"
      },
      "source": [
        "# **3. Train the Attack Model**\n",
        "\n",
        "In the real case, we could only obtain the model structure  of the Target Model. Here we use the pre train model as the Target Model. Assume we could obtain some unsensitive images data or we could synthesis some images data, which has the same distribution with sensitive train dataset. We define these unsensitive dataset as the known dataset.\n"
      ]
    },
    {
      "cell_type": "markdown",
      "metadata": {
        "id": "jJEd6H5IplXo"
      },
      "source": [
        "![figure3.JPG](data:image/jpeg;base64,/9j/4AAQSkZJRgABAQEAkACQAAD/4RDcRXhpZgAATU0AKgAAAAgABAE7AAIAAAAGAAAISodpAAQAAAABAAAIUJydAAEAAAAMAAAQyOocAAcAAAgMAAAAPgAAAAAc6gAAAAgAAAAAAAAAAAAAAAAAAAAAAAAAAAAAAAAAAAAAAAAAAAAAAAAAAAAAAAAAAAAAAAAAAAAAAAAAAAAAAAAAAAAAAAAAAAAAAAAAAAAAAAAAAAAAAAAAAAAAAAAAAAAAAAAAAAAAAAAAAAAAAAAAAAAAAAAAAAAAAAAAAAAAAAAAAAAAAAAAAAAAAAAAAAAAAAAAAAAAAAAAAAAAAAAAAAAAAAAAAAAAAAAAAAAAAAAAAAAAAAAAAAAAAAAAAAAAAAAAAAAAAAAAAAAAAAAAAAAAAAAAAAAAAAAAAAAAAAAAAAAAAAAAAAAAAAAAAAAAAAAAAAAAAAAAAAAAAAAAAAAAAAAAAAAAAAAAAAAAAAAAAAAAAAAAAAAAAAAAAAAAAAAAAAAAAAAAAAAAAAAAAAAAAAAAAAAAAAAAAAAAAAAAAAAAAAAAAAAAAAAAAAAAAAAAAAAAAAAAAAAAAAAAAAAAAAAAAAAAAAAAAAAAAAAAAAAAAAAAAAAAAAAAAAAAAAAAAAAAAAAAAAAAAAAAAAAAAAAAAAAAAAAAAAAAAAAAAAAAAAAAAAAAAAAAAAAAAAAAAAAAAAAAAAAAAAAAAAAAAAAAAAAAAAAAAAAAAAAAAAAAAAAAAAAAAAAAAAAAAAAAAAAAAAAAAAAAAAAAAAAAAAAAAAAAAAAAAAAAAAAAAAAAAAAAAAAAAAAAAAAAAAAAAAAAAAAAAAAAAAAAAAAAAAAAAAAAAAAAAAAAAAAAAAAAAAAAAAAAAAAAAAAAAAAAAAAAAAAAAAAAAAAAAAAAAAAAAAAAAAAAAAAAAAAAAAAAAAAAAAAAAAAAAAAAAAAAAAAAAAAAAAAAAAAAAAAAAAAAAAAAAAAAAAAAAAAAAAAAAAAAAAAAAAAAAAAAAAAAAAAAAAAAAAAAAAAAAAAAAAAAAAAAAAAAAAAAAAAAAAAAAAAAAAAAAAAAAAAAAAAAAAAAAAAAAAAAAAAAAAAAAAAAAAAAAAAAAAAAAAAAAAAAAAAAAAAAAAAAAAAAAAAAAAAAAAAAAAAAAAAAAAAAAAAAAAAAAAAAAAAAAAAAAAAAAAAAAAAAAAAAAAAAAAAAAAAAAAAAAAAAAAAAAAAAAAAAAAAAAAAAAAAAAAAAAAAAAAAAAAAAAAAAAAAAAAAAAAAAAAAAAAAAAAAAAAAAAAAAAAAAAAAAAAAAAAAAAAAAAAAAAAAAAAAAAAAAAAAAAAAAAAAAAAAAAAAAAAAAAAAAAAAAAAAAAAAAAAAAAAAAAAAAAAAAAAAAAAAAAAAAAAAAAAAAAAAAAAAAAAAAAAAAAAAAAAAAAAAAAAAAAAAAAAAAAAAAAAAAAAAAAAAAAAAAAAAAAAAAAAAAAAAAAAAAAAAAAAAAAAAAAAAAAAAAAAAAAAAAAAAAAAAAAAAAAAAAAAAAAAAAAAAAAAAAAAAAAAAAAAAAAAAAAAAAAAAAAAAAAAAAAAAAAAAAAAAAAAAAAAAAAAAAAAAAAAAAAAAAAAAAAAAAAAAAAAAAAAAAAAAAAAAAAAAAAAAAAAAAAAAAAAAAAAAAAAAAAAAAAAAAAAAAAAAAAAAAAAAAAAAAAAAAAAAAAAAAAAAAAAAAAAAAAAAAAAAAAAAAAAAAAAAAAAAAAAAAAAAAAAAAAAAAAAAAAAAAAAAAAAAAAAAAAAAAAAAAAAAAAAAAAAAAAAAAAAAAAAAAAAAAAAAAAAAAAAAAAAAAAAAAAAAAAAAAAAAAAAAAAAAAAAAAAAAAAAAAAAAAAAAAAAAAAAAAAAAAAAAAAAAAAAAAAAAAAAAAAAAAAAAAAAAAAAAAAAAAAAAAAAAAAAAAAAAAAAAAAAAAAAAAAAAAAAAAAAAAAAAAAAAAAAAAAAAAAAAAAAAAAAAAAAAAAAAAAAAAAAAAAAAAAAAAAAAAAAAAAAAAAAAAAAAAAAAAAAAAAAAAAAAAAAAAAAAAAAAAAAAAAAAAAAAAAAAAAAAAAAAAAAAAAAAAAAAAAAAAAAAAAAAAAAAAAAAAAAAAAAAAAAAAAAAAAAAAAAAAAAAAAAAAAAAAAAAAAAAAAAAAAAAAAAAAAAAAAAAAAAAAAAAAAAAAAAAAAAAAAAAAAAAAAAAAAAAAAAAAAAAAAAAAAAAAAAAAAAAAAAAAAAAAAAAAAAAAAAAAAAAAAAAAAAAAAAAAAAAAAAAAAAAAAAAAAAAAAAAAAAAAAAAAAAAAAAAAAAAAAAAAAAAAAAAAAAAAAAAAAAAAAAAAAAAAAAAAAAAAAAAAAAAAAAAAAAAAAAAAAAAAAAAAAAAAAAAAAAAAAAAAAAAAAAAAAAAAAAAAAAAAAAAAAAAAAAAAAAAAAAAAAAAAAAAAAAAAAAAAAAAAAAAAAAAAAAAAAAAAAAAAAAAAAAAAAAAAAAAAAAAAAAAAAAAAAAAAAAAAAAAAAAAAAAAAAAAAAAAAAAAAAAAAAAAAAAAAAAAAAAAAAAAAAAAAAAAAAAAAAAAAAAAAAAAAAAAAAAAAAAAAAAAAAAAAAAAAAAAAAAAAAAAAAAAAAAAAAAAAAAAAAAAAAAAAAAAAAAAAAAAAAAAAAAAAAAAAAAAAAAAAAAAAAAAAAAAAAAAAAAAAAAAAAAAAAAAAAAAAAAAAAAAAAAAAAAAAAAAAAAAAAAAAAAAAAAAAAAAAAAAAAAAAAAAAAAAAAAAAAAAAAAAAAAAAAAAAAAAAAAAAAAAAAAAAAAAAAAAAAAAAAAAAAAAAAAAAAAAAAAAAAEppbW15AAAFkAMAAgAAABQAABCekAQAAgAAABQAABCykpEAAgAAAAM4OAAAkpIAAgAAAAM4OAAA6hwABwAACAwAAAiSAAAAABzqAAAACAAAAAAAAAAAAAAAAAAAAAAAAAAAAAAAAAAAAAAAAAAAAAAAAAAAAAAAAAAAAAAAAAAAAAAAAAAAAAAAAAAAAAAAAAAAAAAAAAAAAAAAAAAAAAAAAAAAAAAAAAAAAAAAAAAAAAAAAAAAAAAAAAAAAAAAAAAAAAAAAAAAAAAAAAAAAAAAAAAAAAAAAAAAAAAAAAAAAAAAAAAAAAAAAAAAAAAAAAAAAAAAAAAAAAAAAAAAAAAAAAAAAAAAAAAAAAAAAAAAAAAAAAAAAAAAAAAAAAAAAAAAAAAAAAAAAAAAAAAAAAAAAAAAAAAAAAAAAAAAAAAAAAAAAAAAAAAAAAAAAAAAAAAAAAAAAAAAAAAAAAAAAAAAAAAAAAAAAAAAAAAAAAAAAAAAAAAAAAAAAAAAAAAAAAAAAAAAAAAAAAAAAAAAAAAAAAAAAAAAAAAAAAAAAAAAAAAAAAAAAAAAAAAAAAAAAAAAAAAAAAAAAAAAAAAAAAAAAAAAAAAAAAAAAAAAAAAAAAAAAAAAAAAAAAAAAAAAAAAAAAAAAAAAAAAAAAAAAAAAAAAAAAAAAAAAAAAAAAAAAAAAAAAAAAAAAAAAAAAAAAAAAAAAAAAAAAAAAAAAAAAAAAAAAAAAAAAAAAAAAAAAAAAAAAAAAAAAAAAAAAAAAAAAAAAAAAAAAAAAAAAAAAAAAAAAAAAAAAAAAAAAAAAAAAAAAAAAAAAAAAAAAAAAAAAAAAAAAAAAAAAAAAAAAAAAAAAAAAAAAAAAAAAAAAAAAAAAAAAAAAAAAAAAAAAAAAAAAAAAAAAAAAAAAAAAAAAAAAAAAAAAAAAAAAAAAAAAAAAAAAAAAAAAAAAAAAAAAAAAAAAAAAAAAAAAAAAAAAAAAAAAAAAAAAAAAAAAAAAAAAAAAAAAAAAAAAAAAAAAAAAAAAAAAAAAAAAAAAAAAAAAAAAAAAAAAAAAAAAAAAAAAAAAAAAAAAAAAAAAAAAAAAAAAAAAAAAAAAAAAAAAAAAAAAAAAAAAAAAAAAAAAAAAAAAAAAAAAAAAAAAAAAAAAAAAAAAAAAAAAAAAAAAAAAAAAAAAAAAAAAAAAAAAAAAAAAAAAAAAAAAAAAAAAAAAAAAAAAAAAAAAAAAAAAAAAAAAAAAAAAAAAAAAAAAAAAAAAAAAAAAAAAAAAAAAAAAAAAAAAAAAAAAAAAAAAAAAAAAAAAAAAAAAAAAAAAAAAAAAAAAAAAAAAAAAAAAAAAAAAAAAAAAAAAAAAAAAAAAAAAAAAAAAAAAAAAAAAAAAAAAAAAAAAAAAAAAAAAAAAAAAAAAAAAAAAAAAAAAAAAAAAAAAAAAAAAAAAAAAAAAAAAAAAAAAAAAAAAAAAAAAAAAAAAAAAAAAAAAAAAAAAAAAAAAAAAAAAAAAAAAAAAAAAAAAAAAAAAAAAAAAAAAAAAAAAAAAAAAAAAAAAAAAAAAAAAAAAAAAAAAAAAAAAAAAAAAAAAAAAAAAAAAAAAAAAAAAAAAAAAAAAAAAAAAAAAAAAAAAAAAAAAAAAAAAAAAAAAAAAAAAAAAAAAAAAAAAAAAAAAAAAAAAAAAAAAAAAAAAAAAAAAAAAAAAAAAAAAAAAAAAAAAAAAAAAAAAAAAAAAAAAAAAAAAAAAAAAAAAAAAAAAAAAAAAAAAAAAAAAAAAAAAAAAAAAAAAAAAAAAAAAAAAAAAAAAAAAAAAAAAAAAAAAAAAAAAAAAAAAAAAAAAAAAAAAAAAAAAAAAAAAAAAAAAAAAAAAAAAAAAAAAAAAAAAAAAAAAAAAAAAAAAAAAAAAAAAAAAAAAAAAAAAAAAAAAAAAAAAAAAAAAAAAAAAAAAAAAAAAAAAAAAAAAAAAAAAAAAAAAAAAAAAAAAAAAAAAAAAAAAAAAAAAAAAAAAAAAAAAAAAAAAAAAAAAAAAAAAAAAAAAAAAAAAAAAAAAAAAAAAAAAAAAAAAAAAAAAAAAAAAAAAAAAAAAAAAAAAAAAAAAAAAAAAAAAAAAAAAAAAAAAAAAAAAAAAAAAAAAAAAAAAAAAAAAAAAAAAAAAAAAAAAAAAAAAAAAAAAAAAAAAAAAAAAAAAAAAAAAAAAAAAAAAAAAAAAAAAAAAAAAAAAAAAAAAAAAAAAAAAAAAAAAAAAAAAAAAAAAAAAAAAAAAAAAAAAAAAAAAAAAAAAAAAAAAAAAAAAAAAAAAAAAAAAAAAAAAAAAAAAAAAAAAAAAAAAAAAAAAAAAAAAAAAAAAAAAAAAAAAAAAAAAAAAAAAAAAAAAAAAAAAAAAAAAAAAAAAAAAAAAAAAAAAAAAAAAAAAAAAAAAAAAAAAAAAAAAAAAAAAAAAAAAAAAAAAAAAAAAAAAAAAAAAAAAAAAAAAAAAAAAAAAAAAAAAAAAAAAAAAAAAAAAAAAAAAAAAAAAAAAAAAAAAAAAAAAAAAAAAAAAAAAAAAAAAAAAAAAAAAAAAAAAAAAAAAAAAAAAAAAAAAAAAAAAAAAAAAAAAAAAAAAAAAAAAAAAAAAAAAAAAAAAAAAAAAAAAAAAAAAAAAAAAAAAAAAAAAAAAAAAAAAAAAAAAAAAAAAAAAAAAAAAAAAAAAAAAAAAAAAAAAAAAAAAAAAAAAAAAAAAAAAAAAAAAAAAAAAAAAAAAAAAAAAAAAAAAAAAAAAAAAAAAAAAAAAAAAAAAAAAAAAAAAAAAAAAAAAAAAAAAAAAAAAAAAAAAAAAAAAAAAAAAAAAAAAAAAAAAAAAAAAAAAAAAAAAAAMjAyMDoxMDoxNyAxMzo0MToxOQAyMDIwOjEwOjE3IDEzOjQxOjE5AAAASgBpAG0AbQB5AAAA/+ELGGh0dHA6Ly9ucy5hZG9iZS5jb20veGFwLzEuMC8APD94cGFja2V0IGJlZ2luPSfvu78nIGlkPSdXNU0wTXBDZWhpSHpyZVN6TlRjemtjOWQnPz4NCjx4OnhtcG1ldGEgeG1sbnM6eD0iYWRvYmU6bnM6bWV0YS8iPjxyZGY6UkRGIHhtbG5zOnJkZj0iaHR0cDovL3d3dy53My5vcmcvMTk5OS8wMi8yMi1yZGYtc3ludGF4LW5zIyI+PHJkZjpEZXNjcmlwdGlvbiByZGY6YWJvdXQ9InV1aWQ6ZmFmNWJkZDUtYmEzZC0xMWRhLWFkMzEtZDMzZDc1MTgyZjFiIiB4bWxuczpkYz0iaHR0cDovL3B1cmwub3JnL2RjL2VsZW1lbnRzLzEuMS8iLz48cmRmOkRlc2NyaXB0aW9uIHJkZjphYm91dD0idXVpZDpmYWY1YmRkNS1iYTNkLTExZGEtYWQzMS1kMzNkNzUxODJmMWIiIHhtbG5zOnhtcD0iaHR0cDovL25zLmFkb2JlLmNvbS94YXAvMS4wLyI+PHhtcDpDcmVhdGVEYXRlPjIwMjAtMTAtMTdUMTM6NDE6MTkuODgwPC94bXA6Q3JlYXRlRGF0ZT48L3JkZjpEZXNjcmlwdGlvbj48cmRmOkRlc2NyaXB0aW9uIHJkZjphYm91dD0idXVpZDpmYWY1YmRkNS1iYTNkLTExZGEtYWQzMS1kMzNkNzUxODJmMWIiIHhtbG5zOmRjPSJodHRwOi8vcHVybC5vcmcvZGMvZWxlbWVudHMvMS4xLyI+PGRjOmNyZWF0b3I+PHJkZjpTZXEgeG1sbnM6cmRmPSJodHRwOi8vd3d3LnczLm9yZy8xOTk5LzAyLzIyLXJkZi1zeW50YXgtbnMjIj48cmRmOmxpPkppbW15PC9yZGY6bGk+PC9yZGY6U2VxPg0KCQkJPC9kYzpjcmVhdG9yPjwvcmRmOkRlc2NyaXB0aW9uPjwvcmRmOlJERj48L3g6eG1wbWV0YT4NCiAgICAgICAgICAgICAgICAgICAgICAgICAgICAgICAgICAgICAgICAgICAgICAgICAgICAgICAgICAgICAgICAgICAgICAgICAgICAgICAgICAgICAgICAgICAgICAgICAgICAKICAgICAgICAgICAgICAgICAgICAgICAgICAgICAgICAgICAgICAgICAgICAgICAgICAgICAgICAgICAgICAgICAgICAgICAgICAgICAgICAgICAgICAgICAgICAgICAgICAgIAogICAgICAgICAgICAgICAgICAgICAgICAgICAgICAgICAgICAgICAgICAgICAgICAgICAgICAgICAgICAgICAgICAgICAgICAgICAgICAgICAgICAgICAgICAgICAgICAgICAgCiAgICAgICAgICAgICAgICAgICAgICAgICAgICAgICAgICAgICAgICAgICAgICAgICAgICAgICAgICAgICAgICAgICAgICAgICAgICAgICAgICAgICAgICAgICAgICAgICAgICAKICAgICAgICAgICAgICAgICAgICAgICAgICAgICAgICAgICAgICAgICAgICAgICAgICAgICAgICAgICAgICAgICAgICAgICAgICAgICAgICAgICAgICAgICAgICAgICAgICAgIAogICAgICAgICAgICAgICAgICAgICAgICAgICAgICAgICAgICAgICAgICAgICAgICAgICAgICAgICAgICAgICAgICAgICAgICAgICAgICAgICAgICAgICAgICAgICAgICAgICAgCiAgICAgICAgICAgICAgICAgICAgICAgICAgICAgICAgICAgICAgICAgICAgICAgICAgICAgICAgICAgICAgICAgICAgICAgICAgICAgICAgICAgICAgICAgICAgICAgICAgICAKICAgICAgICAgICAgICAgICAgICAgICAgICAgICAgICAgICAgICAgICAgICAgICAgICAgICAgICAgICAgICAgICAgICAgICAgICAgICAgICAgICAgICAgICAgICAgICAgICAgIAogICAgICAgICAgICAgICAgICAgICAgICAgICAgICAgICAgICAgICAgICAgICAgICAgICAgICAgICAgICAgICAgICAgICAgICAgICAgICAgICAgICAgICAgICAgICAgICAgICAgCiAgICAgICAgICAgICAgICAgICAgICAgICAgICAgICAgICAgICAgICAgICAgICAgICAgICAgICAgICAgICAgICAgICAgICAgICAgICAgICAgICAgICAgICAgICAgICAgICAgICAKICAgICAgICAgICAgICAgICAgICAgICAgICAgICAgICAgICAgICAgICAgICAgICAgICAgICAgICAgICAgICAgICAgICAgICAgICAgICAgICAgICAgICAgICAgICAgICAgICAgIAogICAgICAgICAgICAgICAgICAgICAgICAgICAgICAgICAgICAgICAgICAgICAgICAgICAgICAgICAgICAgICAgICAgICAgICAgICAgICAgICAgICAgICAgICAgICAgICAgICAgCiAgICAgICAgICAgICAgICAgICAgICAgICAgICAgICAgICAgICAgICAgICAgICAgICAgICAgICAgICAgICAgICAgICAgICAgICAgICAgICAgICAgICAgICAgICAgICAgICAgICAKICAgICAgICAgICAgICAgICAgICAgICAgICAgICAgICAgICAgICAgICAgICAgICAgICAgICAgICAgICAgICAgICAgICAgICAgICAgICAgICAgICAgICAgICAgICAgICAgICAgIAogICAgICAgICAgICAgICAgICAgICAgICAgICAgICAgICAgICAgICAgICAgICAgICAgICAgICAgICAgICAgICAgICAgICAgICAgICAgICAgICAgICAgICAgICAgICAgICAgICAgCiAgICAgICAgICAgICAgICAgICAgICAgICAgICAgICAgICAgICAgICAgICAgICAgICAgICAgICAgICAgICAgICAgICAgICAgICAgICAgICAgICAgICAgICAgICAgICAgICAgICAKICAgICAgICAgICAgICAgICAgICAgICAgICAgICAgICAgICAgICAgICAgICAgICAgICAgICAgICAgICAgICAgICAgICAgICAgICAgICAgICAgICAgICAgICAgICAgICAgICAgIAogICAgICAgICAgICAgICAgICAgICAgICAgICAgICAgICAgICAgICAgICAgICAgICAgICAgICAgICAgICAgICAgICAgICAgICAgICAgICAgICAgICAgICAgICAgICAgICAgICAgCiAgICAgICAgICAgICAgICAgICAgICAgICAgICAgICAgICAgICAgICAgICAgICAgICAgICAgICAgICAgICAgICAgICAgICAgICAgICAgICAgICAgICAgICAgICAgICAgICAgICAKICAgICAgICAgICAgICAgICAgICAgICAgICAgICAgICAgICAgICAgICAgICAgICAgICAgICAgICAgICAgICAgICAgICAgICAgICAgICAgICAgICAgICAgICAgICAgICAgICAgIAogICAgICAgICAgICAgICAgICAgICAgICAgICAgPD94cGFja2V0IGVuZD0ndyc/Pv/bAEMABwUFBgUEBwYFBggHBwgKEQsKCQkKFQ8QDBEYFRoZGBUYFxseJyEbHSUdFxgiLiIlKCkrLCsaIC8zLyoyJyorKv/bAEMBBwgICgkKFAsLFCocGBwqKioqKioqKioqKioqKioqKioqKioqKioqKioqKioqKioqKioqKioqKioqKioqKioqKv/AABEIARwB5wMBIgACEQEDEQH/xAAfAAABBQEBAQEBAQAAAAAAAAAAAQIDBAUGBwgJCgv/xAC1EAACAQMDAgQDBQUEBAAAAX0BAgMABBEFEiExQQYTUWEHInEUMoGRoQgjQrHBFVLR8CQzYnKCCQoWFxgZGiUmJygpKjQ1Njc4OTpDREVGR0hJSlNUVVZXWFlaY2RlZmdoaWpzdHV2d3h5eoOEhYaHiImKkpOUlZaXmJmaoqOkpaanqKmqsrO0tba3uLm6wsPExcbHyMnK0tPU1dbX2Nna4eLj5OXm5+jp6vHy8/T19vf4+fr/xAAfAQADAQEBAQEBAQEBAAAAAAAAAQIDBAUGBwgJCgv/xAC1EQACAQIEBAMEBwUEBAABAncAAQIDEQQFITEGEkFRB2FxEyIygQgUQpGhscEJIzNS8BVictEKFiQ04SXxFxgZGiYnKCkqNTY3ODk6Q0RFRkdISUpTVFVWV1hZWmNkZWZnaGlqc3R1dnd4eXqCg4SFhoeIiYqSk5SVlpeYmZqio6Slpqeoqaqys7S1tre4ubrCw8TFxsfIycrS09TV1tfY2dri4+Tl5ufo6ery8/T19vf4+fr/2gAMAwEAAhEDEQA/APoqy/48Lf8A65L/ACqeoLL/AI8Lf/rkv8qnoAKKKKACiiigAooooAKKQsB1NV5r6KEHcw/OgCzTTIq9TXOan4ts7FMyzogzgbmxk+lZqX3iDWWzpmmyRxHpPeEwp+RG8/8AfOPegDtBMh6MKcCD0rkJdJ8T2SiWG4s9Q4y0SBoWHsuSwb8StRw+LWsplg1iCawmY4C3KbQx9Fb7rf8AASaAO0orMtdZt7gDDj86vpMjjg0ASUUUUAFFFFABRRRQAUUUUAFFFFABRTWdV6mqdxqcEAO5x+dAF7NMMqL1IrlNQ8ZW0MwgiYyzt9yGJS7t9FGSfwFQww+J9WbclvHpsJ/5aXZy+PURqf0JU0AdiJUboRT81xs1t4n0pt3kxanCP47U7H/GNj/JifapLDxjbyT/AGectDcKMtDMpRx7lWwf0oA66iqVvqcE4G1x+dW1dW6GgB1FFFABRRRQAUUUUAFFFFABRRRQAUUUUAFFFFABRUbzIg5NULrWre3By4/OgDSJA60wzxjqwrjp/F5u52ttJhmvp1OClshfaf8AaPRf+BEVJBpHia//AHlzcW2mL1VGBnf8QCoH4FqAOvWRW6GnZri5D4k0ds3Vl9ugH/LayO449TGfm/Bd1W9N8X2l2xj8wCROHjbhkPoVPIP1oA6miqkGoQzAbWH51ZDq3Q0AOooooAKKKKACiiigCCy/48Lf/rkv8qnqCy/48Lf/AK5L/Kp6ACiiigAooooAKp316lpEzyMFAGSSelXK43xzLjTZIzyr4Ug9wTQBE/iS81SQpoVnPfc48yIYjH/bQ4X8ASfapofCur6gQ+s6mtqh6wWQ3N+MjDH5L+NdgAFUBQAB0A7Vy/xF1vWtA8Hy3vhu0a5uxNGjFYDOYY2bDyCNSC+0c4FAGppnhrSdIfzLOzTz8YNxKTJKf+Btk49s4rVrxWx+K+urbaasM9l4ikm1oWLLZ2zW9xJGYWcK8UhAifcvXJGAfStrUPjpo1h4e0/V5NJvzFdpK8iM8UbQ+VIY3X5nG9twOFXJI5oA9QqOaCK5haG4iSWNxhkdQwYe4NeYaz8XZJNZsLTw7ply1k2vW2lXOpzIvkktgyRqN24MARzjGQamHxs0/wCym8bQdUWxuLa5udOuSI8XyW/Mm0bsqQoLDdjIFAHT3Xgiw3GTSJptLk7LA26L6eWeAP8Ad21ReDxNoxzJbpqUI/5aWhw+PUxsf5FjVPTPjDomseII9I061upriW+jtIyAuGDRvIZRz9xfLYH3FegUAc3pHiaC/lMBYpOv34ZAUdfqpwR+Irolbcua5rxeRHf6HIAN/wBrZd2OcGJ+M/hXQWhzbqfagCeiiigAooooAKKKKAErI1fXLfS4DJcSpGo43OwArXc/IfpXHSuJfHmlxyAMFaVhkZwfLbn9aAIRqOu60f8AiU6dKIj0uLrMMf6jcfqFI96t2/gqW5IfXtUmn9YLXMKfi2S5+oK/Sutrz74oeKde8OTaSmkE2VhcGU3uqDT3vfsxUDYpjUggMSct7UAdrp+k2GkwmPTbOG2VuW8tACx9SepPuauV41b/ABk1Szms57yyg1uy/sB9Su5NG+6hS4aNpMyFSFCrymMhjjtXRXfxk0Sy8VWejz2l0kV20KR3bNGBmWPep8vdv24OC2MA8UAeh1Uv9MsdUg8nUbSG5jByBKgbB9R6H3FeWj42g6za3tzpV5p/h19JudQElzGpkulRkEbR4Y4zkjacdV7GtlPi/ZQXS2muaHqGk3QuraCWK4MZ8pLgN5cpKsRtyu09wSKANm48FtbkvoWpzWp7Q3GZo/zJ3j/voj2qqb7XtGP/ABNNOkeIdZ7QmZPyA3D/AL5x703wX8UdM8cXtvbaZZXcTyWT3knnBR5IExiCtg/eYqWHtXb0AY+ka3b6pCJLaZJVzglGzg+lbFcnIwi+IV2qALvtIGbAxk7pBn9BXVqflH0oAWiiigAooooAKKKKACiiigAooooAazbVzXO6z4lg09xEX3TP9yJAWd/oo5P4VvXJxAxrmPC7+b4u1tmAJW3tgD6fNPQBVSLxNrRzFbLp0Df8tbw/Nj1Ea8/gxWtC18DWW4SaxcT6nJ3SU7Iv++F6j2YtXT15H8QfH/ibw54wubaG4tdH0y3hie0uL3TpZre+dvvq8yf6rHTp70Aer29vDaQLDawxwxIMLHGoVVHsBUteXaZ8WLhPFd7p2r6ZLLYtrMOmWuoWm0wxtLEjIrEtlskn5gMAY9aUfHfQUn1SK606+gNjbtOi7o3eYCVYgu1WJRi7rgNjg5oA9QqhqWiabq6gajZxTMv3JCMOn+6w5H4GvOLL4u3ya5rdpqugXiXEd5Z2WnaSAguGllhZ2DPu2Y+UtuzgDFWLj45aLaWTzXelajDLHFPvt2Cb1nhmSJ4ODy+ZFIxwQaAOhn8H3tmS+hao+0dLe9G9foHHzD6ndVcazqujtt1vT5oIx1uI/wB7F9dw+6PdgtanhPxjZeMY76bS4ZRbWkyQid8bZWMayHbg9g4B966GgChpupRahbpLBIsiMMhlOQfxq/XJeF3xd6hGuAq391gD/ru9dbQAUUUUAFFFFAEFl/x4W/8A1yX+VT1BZf8AHhb/APXJf5VPQAUUUUAFFFFABXE+Ov8AjxP+8v8AMV21cX45UmwYjsw/mKAO0rG8U+HrDxLops9Ummto45EnjuLeYxSQSIcq6t2IrZrjfi4rP8IfEyxqWY2D4CjJNAFfTfht4esNStNRk1K8vdSN6t+Ly6uleS5dYmjUHjBUK5wABVO7+CPhq6hWL7VqUKfZ57aTy51BkjllaVlPy9nYnjHHByK8fshrUHibw+tvaTzTeFJpdNskdTidil1Kp+hQW4rbg+IPi2PQb6fRdevNac6HFdX8ktkudLumnRZFUBR91GkO05+5mgD0yP4S+H/7aS6i1DUgtvfw6ibFboeT9pQDErJjqwHP1OMVJpPwq8OaTqiMlze3UdvDPHZ6fc3G+KzjnyJPLXGQDkjknjivH/8AhJda0vUvEV1oGvXN7ZXurWUVxrskaxMYRbNg7vLKqNwC79mOPeu3+GF/rGrfEK11DX5VubqXwsoa5SNkWUC9lCtgqvJUA9BnqODQB1nhv4U+GPC2saXfaaJzd6ZZyW0BllDEo8jOWYY5bMjDPocV3FecWGmmw/aMvJUmu5kuvDnnN58rOqMbrG1M8KMAfKK9HoA5Lx3OLeTQ5GR3H24jCDJ/1T1oQeIIoLVWltLtUGMuUGB+tVPGS77rQxjP+mt/6KeruqqF8NTccheKTLjZtJm2ORRSL9wfSlpkBRRRQAUUUUANf7h+lcb/AM1B03/tr/6LNdk/3D9K44qR8QNMJ6fvf/RbUAdnXNeKvClh4gu7C7n1S90m/tS6W91Y3PlOQ+Ayc5DA4HGK6WvHvj9ZXd8nhj+zw5uLa5ubqLYD/rIrdpUH4sgFAHTWXwr8LWttc2FpLcfvdJl0qcfaAzmOWQyO7ZGd5Zic9Paov+FN+HRq0d99o1DEdzBdfZzMpjaWJAisRtycqMEZxycYrx/TNb1qz1vXvEdrLdaXH4gnsp7y8EO97GzluZxvAIIyI1jHQ43Vvjxz4iktrG3vPE15aaC+pX8MPiAWStJdxxohgUjZj5mZxkAbtuKAO8svgz4XEBR7zUtQszZS2MEM93vjhgkIOxOOMEZBzn64FTL8JPD17oer2F/f6jqj6oIYri9ubkPMiwtmNFYDC7T7Z5Oa8Y0fxd4x0Xw54c07S706ZFFpkMllFKh23krTuHUgROz8YXaCpGc16t4OMEHw98cvqz3Fra/2zqzTSW+RIse45KcdcZx70AdX4X8E6F4Y1PVNR0NWEmpmMTZcMq+WpAC46dST7mulrx74FPplxca7e6KUsbW4W3EWjqXZrdUVlEshIC+Y/U7fTnNew0AcPqV6tp8Rpw0U0hNlAf3a5/ilrpbXWoprqK2a3uIWkzsMigA4Gex9qxLhN3xEuTjP+hQf+hS1r3oA1jSsDrI//oDUmXGz0NeiiimQFFFFAHD+I/iR/wAI/wDEvQvCP9iXd1/ayhvtkZ+SLLFemOcbctyMAg03RviWNW+JWueEv7CvYf7JhaX7WeVmwVGAuOM7vl5OcV3JUFgSASOhx0oCgMWAGT1OOtAHF/DP4if8LG0m+vRo1zpX2S5MGyc7t/Gcg4HI7jtXa0gUL90Ac54FLQAUUUUAQ3X/AB7t9K5Xwn/yNmu/9cLX/wBCnrqrrm3b6Vy/hVSvizXc97e1/wDQp6AOurifEfw50bxHrV3NPqupWUmpQrHf2lpebEvI1GBvQg9sjIxxXbV4B8Wbu/0H4yDxPpsM0sumaHEu2NSdwle4iA/B3jP4UAemQfDnw3JEfsck3k/2tBqgWKYFVmhRVRRx93Cjjr71jJ8D/CdpYyw3F3qD232WS1VZblQsMbSLINp2jBDqGDHnPXNeX+G7zU/Bekf8I/Prl34d0mHUNTD6hBAJGmuIvLEcZLKcA8n/AGulN8beLPE+t+EL208U6jdaVcPotlLa6ZHZjbqTOczMx2kqVwDgEYoA9ePwi0QQ3U0+q6vJfz3MN4dTluwZ4pYUZVdW24HysQQQRipU+FfhVbLRhM08502/bUY7macM9zPIwZmkbHzbiFOBj7orzO/8YeMb3xbr2mXF9sgD39s2lup/49Vhby5FURZBPDby+DnGK6LxIL+P9n7wSdNtvPvo5NIaGFyVDONmAx7DOAT2oA9J8H+EdM8EeHY9G0QSC2jkeTMrbnZmOSSePYfQCtyuP+F2sXmueBYLvV7ue41TzpI75J4xG0EythogoHCjjHqMHvXYUAcFoOprbapqaG2uJCuoXPMaAg/vn9TXZafqEeoRymNJIzE+x1kABBwD2J7EVzfhmP8A0/UWK9dQuf8A0c9bWkf8fuqAD/l6H/oqOkUrNM1aKKKZIUUUUAQWX/Hhb/8AXJf5VPUFl/x4W/8A1yX+VT0AFFFFABRRRQAVj67pS6nZSQMWXeuNy9R7itikIz1oA5Jdc17S2231rFqUI/ji/dS4+n3WP/fNadh4s0i/kWFp/stw3Agu18tifQZ4b8Ca1ZLaOQfMorkvE9x4c07bBq80QaY48rbvOM9SB0HuaaTewHZYHXApAirnCqN3XA61xq6JqekfNomoTQRjkQOfMi+m1ug/3SKsQeLL+zYJrelsQOs9kdw+pQ8j8C1IDqvLTbt2LtxjGOKUADoBXPT+NNNCD7DHdX0pH+rhhZdvsxfAU+xOfaqL3/iTVjiIxaXCe0Q82T/vphgf98/jQB1F5fWmnwGe/uIbaMfxyuFH5msCfxkkxKaJp8983aWQGGL8yNx/Bce9RWfhGH7QLm7L3Nx/z2ncyP8Amen0HFb8GmwwgbUFAGDb2ep6rewXWsTJiBi0UEEe1EJBGSTkk4J7ge1auuJt0CdR/dH861FjVegrO8Q8aHcf7tJ7FQ+JGkv3R9KWmr9wfSnUyQooooAKKKKAEIyK53WdKuJLqG8sJjBc27Fo3Chgcgggg9Rg+31ro6QqD1FAHKReKtRsW2a1pfmqOs9kf1MbHI/AmtvTde0vVztsbuOSQDJhb5ZF+qHBH5VYms4pFO9Rj3rjL4eG9T11dISaOW+5K7FJ2sBnAYdGxz17U7Ngd2VUggqMEYIxSbE2hdq4HQY6Vxy2/iHRv+PG/a6hX/lhegyDHs/3h+JP0q5beM0jYJrWnz2Ld5YwZovzA3D8VA96QHTFFOMqPl6cdKMD0Fc3c+MonJTRrGe/ftIQYov++mGSPdQaptF4i1j/AI/L37HC3/LGyGzj0Ln5j9RtoA6HUNa0vSMfbrqKF2+7GOXf6KOT+ArFl8VX962zRdLZVPS4vflH1CDk/iVqbTvClnZkssS72OWc8sx9STyfxrbisooh8qigDG0nTLkXst/qM5nuplVWbYFVVXOAAO3J65PPWrt+P+J1pfs7/wDoDVqBQOgrL1A/8TrS/wDro/8A6A1JlR3NWiiimSFFFFABRRRQAUUUUAFFFFADZF3IRXL32m6hZajJf6PcCGaRFSRHjDpIFLFcjg8bm6Eda6qmlA3UUAcvB4wntW2a5pckQHWe0zKn1K/eH4Bq3dP1XTtWjL6fdQ3AH3gjfMvsR1H40XNlbtGzShVUDktwBXFKnh7X9bltNNmLXkCllmiBTocHbIMdCR0PenZsD0BkRhhlUjOcEUpRSQSoJHQkVxyyeJdHOIrldRhH/LO7HzfhIvP5hqvW3jS0xt1S0urCQesZlRvoyZ/UA0gOj2Lu3bRnGM4pcD0rlZ/Fl5dsU0TS3I7T3hKL9Qg+Y/Q7arnRdV1fnWdQmljPWCL91F9Nq8kf7xNAGzf+KdI0+RoTcfaLgdYLVfMcH3xwv4kVltrmu6m23T7OPToT/wAtJ/3sv/fI+UH8WrSsPDlpZRqkMKIq9FVQAK1Y7aOMfKooAzND0v8As+3Ks7yu7vI8j4yzMxZicYHUnpUukDF7qv8A19D/ANFR1p4x0rM0g5vdU9rof+io6TKjszUooopkhRRRQBBZf8eFv/1yX+VT1BZf8eFv/wBcl/lU9ABRRRQAUUUUAFFFFAFe+imnsJorWYwTOhVJQAShI4OD6V5Pc+FvO1a+tLQy3C2Nq7Xdw53PczuhAUnvgc4HfFeo63qcWjaLdX8/3YIy2P7x7D8TgVR8J6XJp+hqbzm6uXaec/7bnJH4Zx+FXFuKuMv6Pvl0Oxa4Rlla3QurDBB2jIINUvEl7ZaLo019druC4VEA5dzwFHuTW3jFZ+q6Na6ubY3ibxbSiaMEnAYA4P61Ol9RHn3gzWrp9Ye2111kWecwq20AQT43eWCOqkHAz3GO9empCiDgVxvhjR7S+k1xbmJXC6szgH1UIV/LA/zxXbYqp2voNhRRRUCCsLxZrOj6Tpaprl99lW5bZEqo0kkhHJCooJOB1wK3a4rx3cNpeteHtWto2e6gmkgRftVvCJVkC7ov3zDJYouCvI2+9AJ21On0bWdP13TI77SLpLq2clQ6Z4IOCCDyCD1B5q9XFfD/APtKH7ct9pNzELy4lvJr6W6t5FklJVdgWJjjAUD/AICcnJrtaACiiigAooooAKKKKAMbxNpcur6X9mS+ls4d26dojgug6rnsD6ivPNA0eVbuz1iztnW1bUo0tolUnbANyFz9dxOT2xXb+NLl30+HRrV9t1qsnkKQcFExl2/Bc/mK3rS0jtLOKCNQqRqFUAdMCtFJqIyRo1YciuS8b6kmk2CQWSq2o3ZKwKRnaByzn2ArsKxdW0S0nupNUkTNzHbNCjEk7VPPT61CtfURzvw/1X+0bVbTUW8248rz4JnUK00WcHIHG5TwcdiD3ruljVegrlPA2k2jeFdCvTEPPhtgUbuu4fN+ddbTla+g2FFFFSIK5jxH4q8OaHrFqms6mILmFTN5SRPIVQgrufaDtXrycdDXT15v4mvrzRfHGonRo3a51LTAHX7ZaLgpu2zBJWDfIpbP8J/A0Bex6Jb3EN1bR3FtKk0MqB45EOVdSMgg9wRUlc74HiuLPwvaabNpNxpsVhDHbwC4uIpmlRVADZjJH8q6KgAooooAKKKKACiiigAooooAKKKKAOa8Z6VHqOnrLf3ksOn2oaW4hRtomAHAY9ce3fNct4R0W9s9V0fUpbdk+2STO6BeLeNk+RT0x91fxrpPFT/2pqen+HoW/wBe4uLnHaFCDj/gTYHfjNdQkaoqgD7owKvmajYYjRI45Feb/EHXDaStYaVI0L26rNeTxqCY1JwqjPG4nB+lel4riPG+h2dr4Z1W6ijAlvJI2mYn73zKPw4ohbm1BGp4TvF1HTnS7RVv7R/KuVUYBOMhh7MMH8x2rogoXoKp2em21rcSXUMSrNMiq7gckDOB+pq7UvcQUUUUgEZlRCzkKqjJJ4AFct4d8X+GdT1i4tNJ1Zbi5u3M0amNkEoVVUmNiAHAC5ypNdDqMEd1pd1bzRmSOWF0dAwUsCpBGe31rynRb/Vr1fDZg0u51aHQzL9nEOpWB89whiBYo/8AAkm0gYBJBNA7nr9FNQlo1Z12MQCVJzg+lOoEFFFFAEFl/wAeFv8A9cl/lU9QWX/Hhb/9cl/lU9ABRRRQAUUhOKieYLQBNmkzVJ71V71Uu9ags7SW4nkCxxIXYk9ABmgDL10nXfFlhoqLvtrQi8uzjjI/1aH8ctj2rrANqgDoK47wYSbW41e7Ty7vVJPPkUnlV6Iv4Lj8c11K3KnvVS7AWaQng1Wa6Ud6ge/UZ5qQMfwWNs2vZQoTqkhOR1+VcH8v89q6muI8IXqrca58wOdTc8DH8KV1aXat3qpbgXKKjWQGpAakArzL4u2A1C40uAXWn2zS2V/C8l7DJL5cTRoXkUIPk27Q3mEjaQBzur02vNPi6dNL2C6kLlUWxvZbh7e5WHzLVREZYMFG3mRvKAUbTwTkY5ANn4Y+RJ4ZubuC+gvHvL6Seb7PbPbpFIQoKiN/mXoGOepYnvXZVyHw4njuNH1JmtHtb0alL9uRroXA87Ck4cKoIClFxgY247ZPX0AFFFFABRTWbFQvOF70AWM0hOBk1Qe+Ve9YXinxC9jorpZ4a8umFvbrn+NuM/gMn8KaV2AaGDrviy+1uRc29t/odmSOGAPzuPq3Gf8AZrrawtBgt9H0W2sLbiOFAo9/etUXAx1obuwLFVdS50y5AGT5bcDvxSPdqveqN/fr9hmG4fcP8qQEHgUBfA2kAKV/0ZMgjGDiugrkPA98q+CdJXcDi2TtjtXSpdBu9VLdgWqKYr5p9SAV414/hEfj2+u0vNJhWFLOWRbqwnunL5kjEfyD/loshXyxkkAnAGa9lryHxvJbr8QLiS2iuTdRm2jjhXUEgSa7eOUJMQY2KiKLzG35xlR8pxmgD0TwdbW9l4H0S2srwX1vDYQpFdKMCZQgwwHYEdu1bVYfgmSym8B6HJpUElvZPYQtBFI25kTYMAt3Pv361uUAFFFFABRRRQAUUUUAFGaYz4qCS5Ve9AFnNNllSGF5JGCogJJPYVQbUFHeub8X6qbq0g0S2IMuqSeS/P3YcZkb/vnj6sKaV2Bb8HxvqNxfeIrmMq9+4FuGHKwLwn58t+NdXWbYvDa2cVvAAscSBVA7ACrX2gY60N3YFjNcv8Qhu8G3I2GQb48qByR5i5/Stt7xV71y3jy+V/CN0u8DLR84z/GtOPxIEdnGf3a/Sn1mQ36mNee1Wo7gN3qQLNFNVs06gCjraJL4f1COYoI2tZA5d9igFDnLdh79q8c8BWcX/CZaGL3WNLWcIl5Db2mmTQPI32V4QNzgKu9F3lcAsIwwGK9j1x7ePw9qL30TTWy2spmiXq6bDuA9yMivIfBU1nF4v0WC5gu7qV7gObuTU0m23TWRMabVjXesdsoXdxhpTkNndQB7ZRRRQAUUUUAQWX/Hhb/9cl/lU9QWX/Hhb/8AXJf5VPQAUUUUAQyvtFY99eiMHmtK7bCGuF8U6xbaTYTXmoXCW9vEMvI5wBQA+91vYT81c1rl++rWqWnn7IWlVph/fQHJX8cCvK9f+MluXc6Rp1xcxg8Tyny1PuOCf5VzP/C29VZiy6fb7Ryfmbj8aNgPpmx1oBVVW4AwK24NUDL1r5m0X4zwrMq6pp8sS93gffj8DivYdA8RWetaal5plytxA3AZT0PoR1B9jQB2d1qwRT81Yl1r20n5q43xn490rwxGF1C4LXDjKW8Q3Ow9cdh7mvLNT+L947k2ukGOMn5WnkPP4Af1oA9t0S9OnSXpaYN9puWnGBjbkAY/SussNY8wj5q+WYPi/qMbgzafA49Fdl/xrvfCHxd0fULuK1v/ADNOmkICmYgxsfTd2/ECgD6Ns7rzFHNaaHIrldHnLqvNdPAcqKAJq4r4jafLqEGm+VaX1yYZmlX7HptrdlHGNrET/dI5wV5612tcB8SrCPWdS0DSJo7GJbySYLfX1s06xOAu2NVDKNz5OCTjCHqcUAR/D7WbyXVZtJvoNZtTD57AXumwW8U53RktmIYDAueO+4nJI49DrhfhlZWQ0iaWGysllsbqeyivbKJo47lMqWdVYnAJAB5IyhwcV3VABSGlpG6UAVp5NqmsLUNREWea0tQk2oa8w8deMdM8MWvnardCMvkRxqMvIfYf16UAbN3r21j8361gzXjXfiK2vppg0VtGwii9Hbq35cfnXjesfGKUykWWkyKhPytcPtJ/AD+tZSfFvVEYPJp8BQnjDMM/jQB9QWet78fNWsmpgp1r508PfGTTpZkj1W3mscnHmg+Yg+uOR+Vet2mppc2aTW8qyxSKGR0bIYHuDQB0V3rGzPzVhX2ueZDJGH+8pFed+LvinpOkXj2UBkv7xDtaO35Cn0Lev0zXn178XdSMpEelxRe0rsT/AEoA998P6idN0e0sWlDmCMJuAxnArrNP1XzMfNXyxZfGG8ikH2nTI3XPPlylT+oNepeBPiVo/iO6W0hle3vT0t5xgt67T0P86APeLWfeo5q8pyK5/SpdyCt+LlaAH15r460y5uPFa3dtY6rM62nkiaz0axuVCNuDJ5k3z4IJBXpz7mvSq8n8daRba7421BLttG03+zdNS6FxqNk85uY8tuOQ6gIhwDjJy30oA6r4ea5PrmiGS7i1K3ljigBtr+0SAx5hU5TYAGVjk9sHIwBgV11c/wCCobdvCmnahDpiaZNfWcEs1uoI2ERKoXnngAAZ5wK6CgAooooAKKKKACkY4FLTJOFoAp3U+xTXO6hqnl55rT1OXahrx7x58Q9J8N3BtbiV571hkWtuNzgep7CgDrrjX9rH56yLW7J8Ry6nPNvJiWKFcf6tc5P5n+QrxDUfjBeNMwt9KWIdvOkJP5ACq8Hxd1KGQG402Fh1wrspx+OaAPqKz1nfj5q0DqY2da8I8KfFnSNSuo7W98zT7iQgL533GJ6AN/jivSptQWK2aSWRURFLMzHAA9SaANm81rZn5q5nX746tpklmJgm9lO4jOMMD0/CvNvEPxg05LiSDR7efUnXq6fKn4Hkn8q46b4uamZDt0+BMHkMzEj+VGwH0laa7naC3610en6kJMc18s6Z8ZJYpB9u0slB95oJeR+BH9a9k8BeN9K8UQltLucyRgGSBxtkT6j09xxQB7Fby71FWxWPp0m5BWuv3aAGXW77HNs3bvLbGxQWzjsDwT9a8Wtpb/wnNavBpXiOKAm4UeT4f0+PyS8LM0iiPknMakjgHaM54B9k1JmTSbt0tzdMsDkQD/lqdp+X8en41454U0PT4tX8PXD2+h6hF4hinSS2s7GSF7NPJfzDuLnKg/um3AHLDvxQB7RbOJbSGQMXDIrbmXaTkdSO30qWmoixxqkY2qoAUDsBTqACiiigCCy/48Lf/rkv8qnqCy/48Lf/AK5L/Kp6ACiiigDPvT8hrwb496ZdazodlaWEmbj7QZUts4M+1TkD1YA5A74Ne9Xoyhrwj47aS+radpkFncrBqAuWe1Vn2eawXlA3Zscj6Y70AeS+GvHaaF4XTw/r6XtzDDdzStYzrvhKm3cRoyMw4E5VyMY4z1rdTx58O4La0SLQpObZIr1BYxIsxEtvJhgGww/dy8n+8Pw4m88Ta3aSfY/EunQ3kkfy41C2/eD/AIFwT9eaq/8ACQ6YeT4ast3tI+PyzQBsWfi3TbbxtLqWn2HkWt5pDWk1vBaoMzvZ+WxRRwoM3zfLg4zxziu4+DGl3ekR6il+xilnWKUWrH5o1+YBmHYn064H0rza28Vak8gt/D2l2tnM/ANnbbpT9CcmvUfhFpF1p97q51e4MmqTrFJPEz72iX5tu8/3jycdhj1oA4H4naPev4u1HVYt11aNLsaRPm8hlAGxv7vqPUEVvaZ8S9AutAs7Dxjb3urta6X5C/aVEyCbzpmJAZxgmN4lD/eGzA4qp4ys9b07xnq2seGJ5ZYvO23ccPzNEwA4dO6nqDjHPtXKv4rS4Y/2joOmzyfxOsRjYn32mgDqvFHjLwdeeFL3TfDmmGynurW2ViLCJFMkchJ5DFh8rH5sknGK57VZ7rxxcaHBpVrJJPZaYlpcN5SxxqyySNuyOAu1hycdDVMeI9Pj5g8N6eG/6aF3H5E1ft7nxP4sga0s1Wz0xRmYxIILeNe5du4HuTQB9U/D35fCWkqLj7UFtI1E/wDz0woG78eteh233RXnnw5hgi8GaOlpIZYFs4ljkIxvUKMNjtnrXodsPlFAFivN/izHq8h0waNHqMrCG6KCyult1iuAqeTK7M6hgrZGwk5DMcfLXpFeefFOKOa40ZIdNtNV1A+f5Fncaa14WXCb2C+Yirj5csx/iAHXkA1fh5fXV5pN99vlbzBfSGO2lu0uJbaMhSEdlJH3ixAycKVHauurz74YaZbw21xf2dnpdk8sssV/Dbaa9rMkylcIwZ22gDJwMg7gR7+g0AFI33aWkb7tAGNqZ+Q18q/HHR7++8ZPqNiXuY7WCNJYo+Xt+pDbeu056+oNfVepLlDXzD8W9L1VviFPqnhe5kN9bW8YuLeBsSqmCQ4X+JT0I5wR70AZSfEzRNSWwj8VQXWq+RHYxO95CtwYwgk+0FN7cF28nJ/iCnPQVZk+IHw/F3Gsfh4y2S3YfyZbGIqkbm387Ym7CsRHLjHTcMY7cJN4tmmkK6zo2n3Uw4Z5Lfy5M+5XFRf8JFpq8x+GrHd/tu7D8s0AbWka5bSfDG/8MWbX9xqd9cho7RbRXhVN6NkMGBEh2feIbAG0Y3E16f4BtZdL+HMlpc3WZbfzhI0bbvJPUqD3K5/PNeQ2mt+I9azp/h6zW1R+GTT4PL4/2n6gfU16/wCAtOhsPhtc2zXC3PlmcXEkJyu7HzBT3x0z3IoA8QktNV8Ka5b3nmTQsjiSC9t3IEin+JHHqD+vNemXfxK8CavfSXutaPNfXL6rNP5t3arMwgMjtGMl/uqjKvl8qMZ578M7eI/ClsBbSfbdGm+aKQp51vKp74P3T6jg1SPiWxmObnw5pzN3MQaPP4A0AdZqPjXwxP4o8PXGlreaZp2mXN0XNtZQrMscjllKYOM4bAz9zqKoBJ/FPxMm8R2LPb6cL1J2vJIfJCgFcDG5suSMfeJJOT1NYS+KLaA5s/D2mxv2aRGkI/M1taVDr/iLULHUdfnktdHtrhGUuvlxsdwwkacZY9OBx3oA+v8ARz8i10kP3RXO6QmFWujhHy0ASV5L43OtR/EKWa0tNYuYFhgVWttRS2jWJlkWZAryKC3KsHAJDKORivWq8i+IEIk8b3LafoVhrU6WsRu/N0Nr57dfm25YyqBkZO1QT3PagD0Lwbcz3fgrR5b28ivbs2cX2ieGUSK8mwbjuHB57jrW3XMeANNtdN8KWg0oacNNnghltvsFu0QfMS7nbcxJJIzk84wDkjNdPQAUUUUAFFFFABUcp+WpKZKPloA53Vj8jV8f+K7TVdF+IV34ksZ7iS3/ALQkcXlqx3REOQ0bEcqQMrzjI9jX2Fqq5U18jeJLDXNM8U6zq/hK5luLSS9mFykHzNC+87lkj9M5wcYIxQBuR/ErwXqXiia/8TaTLqEL3N1KZLiyjmlZGuAYoyWbhVh3rgHgkY6AjE1fxl4RvvDcljDo5e6ayEC3MtshkR0gtkj2vuLKoaOfgdmHrxzMniszMf7Q0PTJ5P4mNvsYn3wRTR4nt4jm28PaWjdi8ZfH5mgDodbubHxtoWg2nh7TJoL/AE+2jg1C7liURyKkMabzJn5QpVht6Ec9SRXpPiOD7Z8I0tY78L51rBGlzIdokJK43HsG4H4815In/CT+KrUid/sWkR/NLIVEFvGvrxjd9OTXrfiSysrn4Nw27XXkWklrbLFcSDheU2FvQZxn0yaAPI/Cer6h8PfGH2jUBf2I8maKVISVZ90bBO4DAOVPXtkV2kfjv4bXEkEuo+H5JJWsWS5layjklaZhHuYuz/OxZZD5jDd8/UduLub7xX4ZiWz1WH7TZgfuxdRCeFh22vzx9DVE+JbR+ZfDumFvVUZR+QNAHYWHj7wx/wAJVq95q2nSXNjqWl2toIUtY1EUsfk5cpnawUxlgD97ABwKf8G9EvbPx3Y6ldlrSCYSRwJINrXJ2EnC/wB0AZz0zgVyEHiu7SQJo+kafbTHhWhtd759ic13vwy0rVR8SNM1TxXdSJeTrILW2nbMrjy2yxX+FAM+mSRQB9SaWfkFbifdrF0xcIK2k+7QBW1bzf7FvfszyRzfZ5PLeJdzK204IHc57V5B4Iutbs/EGjRXov8ATLNpt0g1LWI5lk3Wp8yML5jMzGVFkXIG0b+mcH2DVBD/AGPefaXSOHyH8x3ztVdpyTjBxj0rxHw7pFtqOraVb3fh3RLKKVHbS7i48OPClzIIX2fN5xJ4+fa4BIUkcgEAHvFFNQMI18wqXwNxUYBPtTqACiiigCCy/wCPC3/65L/Kp6gsv+PC3/65L/Kp6ACiiigCrcpuU14d8fNFg1bSdLs3vI7O7kuWNo8zbY3kC/cZv4cjofUAd693dcivOvi58Nv+Fh+FVsra4W2vrWXz7Z3+4WwQVb2IPXtxQB8s3uq+NfDQFjr1tLJEnCpqFuJkI9mI5H0NUP8AhMQTk+H9FLev2X/69dJd2XxU+H+60uINSW1Tgfu/tMBHscMAPyrOPxF8TbsNp2nGX+8dLTd/KgCGy1/xdrbfY/D1o0IfgpptoE/NgMj869V+Cvh4aTe6zbXd2lzqpWJ7tIn3rBkvtUsOC/Un04rz+1l+KXjcCz0+DUmgfgrbwfZoce7AKMfU1738HvhRP4B0e6k1WdJtT1AqZhGcpEq5woPc/McmgDxXxt4f1Z/H2sar4LuZZbqCcrd2tu+J4SAOQvV0IweM85HauSuPGWrpIY9b02xupV4b7ZZAP+OMGvYvix8F/EUvimfxX4IkeWWch5reOTy5UcDBZDkZBx0znPrXmVz4u+IejH7NrltcSFONupaeHP5suT+dAGKvjORG/wBE0PR4X7MtpuP6mtJLHxh4vtfN1WeSx0aL5pLi5HkW0a+oGBuPoACadF8QvF0rhdOsbWGU9Da6Wm7/ANBNb+i/DL4kfEm/hk8QNe2tjuy1xqBKhR/sR9SfwA96APoz4d29svgfRfsBdrX7FF5LOMMybRgn3IruIVwtZegaJBoWh2Wl2m7yLOBIIyxySqqAM+/FbCjAoAdXIeOtI1O/fTrvQbW6bULUyBLq1vo7d4kYLuUh1ZXVto4I4Kg119YviXRNF1ezjk8QWpuIrYkpiR125xn7pGegoAyPhq2dBvkmtrmC/j1GZL77VcrPLJMAuWZlAXlduABgACuxqho2iaboGnCy0azjtLbcX2J3Y9WJPJJ9TV+gApD0paKAM68j3Ka+YvjB4cvNT+JEtx4YuyNZtbeMvZrJsldMEh4z/F3BUc8D1r6olj3CvCvjX8G9V8U6tF4l8KTD+0YohHLbM+wyBSSrI3ZucYOO1AHgt34s8R2kht/ENjDcyLwRqNkN4/HANVh4y2nMWgaKj/3ha5/ma3rrXviZ4a/0TWoL8onG3ULMTL+DMpz+dVF+InihmxbafYRyf3otLTd/6DQA22l8b+L4Ta2MU0diR+88mMW9ug9WbAGPqa9n+HWl2Nn8LLqG2uBfQwGdZp4+FkYD59nt2B74z3rzCy8L/FP4kSJDPFqAs2Iy90Db26j124AP4A19JeCvh5beEvAsPh5pTdZR/tEuMeYz/ex6DnA+lAHyuuleKPDdudQ8LXU1/o03zLPajzEI9JI+drDuCKzpPGlw7H7foukzyd2kswrH8sV3XiP4Q+Pvh7qs134QkvLywLEpNYufMC9g8Y6n6Aiuan8feM7dzHq1nDNIvB+26Yhb8cqDQBlxeM78MF0vSdMtpD0NvZAt+Gc1uadomvahq1hrfjm6ntLKO4jMKXTbZJ23DCRR9Rk4ycAAc1Bb+OPHd+3kaNamJ34A0/TVVj+IXNdx4B+C3i/xJ4mtNd8dyXFta28qzbLqQtPNtOQuM/KMjnOPpQB9JafBsUVsxjC1BDDtAqyBigBa878aaLr/APb1zqPhm01KPzrZVuZbDU4YftG3OBskRsMASAwIPPtXolc3r3hTw1rWrRSa3p/2m5nXylPmyAEAE4IDAetAFnwXLZzeBdDl0qD7PZPYQtBCX3mNCgwpbuR69626itLWCxs4bSzhSC3gQRxRRrhUUDAAHYAVLQAUUUUAFFFFABTXGRTqQ0AZF9DvU18ieI/Depz+M9a1bwHeSTTx3swurOCXbcQOHIb5f40J5BGeuD0r7Lli3Cvm/wCJ/wABtcfxNd+JPA03mPdStPLaiXy5I5CcsUboQTk4yMUAeRXXizxJbOYtasYZpF4IvrBd38gaii8ZasXAsNN0+KQ9DBYKW/ka35tT+LGhf6PfW+sELxi5s/OH/fRU/wA6ZH4m+KN83lWdtqKs3H+jaYEP5hKAKcmheKtftxf+LrybTdJj+Zp78+WoHpHFwWb0AFey+KbLS5fgbAbp5LXTpbS1VZSNzRKSgRiO+Dgn2zXDeHfgf478a6nFd+MZ7ixtM5eS8l3zMPRUycfjivobXPAGna34Ek8LPvhszbpBGynLR7MbD74Kj60AfJzab448J2wbT3mu9Lb5o57Qi5tnHr0IH4gVmv4z1Hd/pOlaXJJ3MlgoNdlqnwo+JvgC8kfQDd3VrklZ9MkJ3D/aj65/A1kv4s+JsDbLm2vS4/57aWC35lKAMyz8SeL9SYW+hWjRM3AGn2QU/mBkV3Pws8Nz6T8UNNn8UXobWroS+VZeb5ksY8tizynJ28DAXrz7Vz8J+Lnin/RrW31ry34IjgNun4kBRXrvwd+B9/4V1oeJPFVwj6kEZYbaNt4jLDBZm7nBIwOOetAHtNlFtUVor0qKKPaKnFAEF7Atzp9xBJCJ0liZGiY4EgIxtz2z0ry3Q7DVNH8ZeHbXxHZ6p9j82SLTBdarFPFbSCByOEjVmbyw6gsTgZ716vLGs0LxyDKOpVhnqDXNaJ4N8K6fqzXulaWkd5ZsY1ld3cxllGdu4nGVbGR6kUAdPRRRQAUUUUAQWX/Hhb/9cl/lU9QWX/Hhb/8AXJf5VPQAUUUUAJikKA1U1bUk0rT3uXQytkJFEp5kdjhVH1J69hk9q5mSyk1E+brkxu5G58kEiCP2VOh+rZP06UAdUyxHq6/nUX2W1LZxFn14rmP7D0j/AKBdl/4Dp/hQNE0c9NMsj3/490/wpgdWqQr0dPzFSAxD/lon/fQrkBoekHppdl/4Dp/hR/Yekf8AQLsv/AdP8KAOuPlH+NP++hUbxQP95oz9SK5X+w9I/wCgXZf+A6f4U1dG0V2ITTrFivUCBDj9KAOqS3tkPyeUv0wKlURD+NP++hXJf2Jo+M/2ZZY/690/wpo0bRicDTbEn/rgn+FAHZB4h/y0T/voU7zY/wDnon/fQrjf7D0j/oF2X/gOn+FH9h6R/wBAuy/8B0/woA7LzY/+eif99CszxBLH/Ys3zqenceorA/sPSP8AoF2X/gOn+FUtX0XS002Qx6baK3GCsCg9fpSexUPiR3yyx7R+8Xp/eFL5sf8Az0T/AL6FcYuh6TtH/Ersun/Pun+FL/Yekf8AQLsv/AdP8KZJ2Xmx/wDPRP8AvoUebH/z0T/voVxv9h6R/wBAuy/8B0/wo/sPSP8AoF2X/gOn+FAHY+ZGf+Wif99CmkxH/lon/fQrkP7D0j/oF2X/AIDp/hR/Yekf9Auy/wDAdP8ACgDq2jgYYLIR7kVGtraqcqIgfUYrmDoekDrpdl/4Dp/hR/Ymkc/8Syy46/6OnH6UAdYFhH8af99Cn5i/56J/30K5D+w9I/6Bdl/4Dp/hR/Yekf8AQLsv/AdP8KAOtPlH+NP++hUTwW0n3/Lb64Ncs2i6Oilm0yxUDqTAnH6UDRdHZQy6bYkHoRAnP6UAdUkNun3DGv0IFSr5Q/jT/voVyB0XR166ZYj6wJ/hQNF0dvu6ZYn6QJ/hQB2QkiH/AC0T/voUvmx/89E/76Fcb/Yekf8AQLsv/AdP8KP7D0j/AKBdl/4Dp/hQB2Xmx/8APRP++hWXfyp/bem4dT8z9/8AYNYP9h6R/wBAuy/8B0/wqjd6LpY1SyC6bZhSWyBAvPyn2pMqO56B5sf/AD0T/voUebH/AM9E/wC+hXG/2HpH/QLsv/AdP8KP7D0j/oF2X/gOn+FMk7LzY/8Anon/AH0KPNj/AOeif99CuN/sPSP+gXZf+A6f4Uf2HpH/AEC7L/wHT/CgDsvNj/56J/30KPNj/wCeif8AfQrjf7D0j/oF2X/gOn+FH9h6R/0C7L/wHT/CgDsvNj/56J/30KPNj/56J/30K43+w9I/6Bdl/wCA6f4Uf2HpH/QLsv8AwHT/AAoA7HzIj/y0T/voU0mI/wAaf99CuQ/sPSP+gXZf+A6f4Uf2HpH/AEC7L/wHT/CgDrCsP99P++qQLD/fT/vquU/sPSB10uy/8B0/wo/sTR8A/wBmWWD0/wBHT/CgDrh5Q/jT/voU7dF/z0T/AL6Fcf8A2HpH/QLsv/AdP8KP7D0j/oF2X/gOn+FAHXHyT/Gn/fQphSH++n/fVcm+jaNGuZNNsVHq0CD+lL/Ymkcf8Syy56f6OnP6UAdYFhH8af8AfVPDRD+NP++hXHnRdGHXTbEfWBP8KBomjt93TLE/SBP8KAOy8yP/AJ6J/wB9Cl82P/non/fQrjf7D0j/AKBdl/4Dp/hR/Yekf9Auy/8AAdP8KAOy82P/AJ6J/wB9CsvSJIxeapl15uh3/wCmSVg/2HpH/QLsv/AdP8Ko6doultcXwfTbNgs+FBgXgbFOOnuaRUdmehKyt90g/Q0tcV/Yemqd0FnHbuOklsPKYfRlwa09H1S5t79NM1KU3CzA/ZblgAzEDJjfHBbAJBHUA55GSEnRUUUUAQWX/Hhb/wDXJf5VPUFl/wAeFv8A9cl/lU9ABRRRQBzviM79X0mE/dUzTj/eVQg/SRqjqfxVE0cFrqSglbGUtPgc+SylWP0B2sfZTVcMGUFTkEZBHemIST/VN/umvEfDP9oWkmla/prTTSaX4asHuLRTn7Tbs8/mgDu4Chl91x3r3Dr1qvbafZ2RBs7SCAiNYh5UYXCLnavA6DJwOgyaAOd+GtzHe+BLa6gk82Ka6u3jf+8puZSD+VdVUNraW9jbLb2VvFbwJnbFCgRVycnAHHUk1NQBznxAubuz+H+sT6c8kc6W5/eRffRMgOw9wu4/hXN3+leH9H1TwpL4MW3hvLm+SPNo+Tc2pRjKZMH5wAAdxzg455r0YgMCCMg8EHvWdp/h3RtJuZLjS9JsrOaUYeS3t1RmHXBIFAHndjcw3Hws8FWXnK9w2o2ULw7ssWSX94pHXgK2fpWtoPhTQbf4m64INKtUFlb2MtsBH/qnPmksvoTtH5Cuvh8P6Pb6q+pwaVZxX75LXSW6iQ56/NjPNXUt4Y7iS4SGNZpQqySBQGcLnAJ6nGTj6mgCSiiigAqhrXGlS/h/Or9Y3iOC9msx9hyxzho843DI/Xj+dJ7F0/jVzYX7o+lLVXTYp4bGNbqQySnLOx9Sc4HtzxVqmS9GFFFFAgooooA5b4lkr8OdWKkg7Y+Qf+mqV59q1xd6BYeOdUMksml6ldX9lcpkn7NN5eIZR6Bi2w+5Q17LcW0N3btBdwxzwv8AejkUMrd+QajfTrKS2nt5LOBoLli08TRArKT1LDGCT70AJpfOj2f/AFwT/wBBFWqRVCKFQBVUYAAwAKWgDivFkVpf+OvD2m69tbSJoLmRYZTiKe5Xy9iv2OFMhAPUj2rlb5bTSvEt3Bo7rDoNlrOlSSKjfubaZncSheyjBiJHQFvevVdQ02x1a0NrqlnBeW5OTFPGHXPrgimQ6NplvpbabBp1rHYsCGtVhURkHrlcYNAHKS6fpniP4m6rBewQaha2+k2gdHw6pL5s5H0bac/Q0/4U6TYWXw/0i9tLSKK5u7ONriZVw0p55J79TXU6bpGnaNbmDSbC2soWbcyW8SoCfUgDrVi3t4bS3S3tIY4IYxtSONQqqPQAcCgCSiiigArOvWA1ax5H3nz/AN8mtGsDVNBlvtVjlSXbA3+uX+9xjj6jg+1KV7aF07X1Zv0UijaoA7UtMgKKKKACiiigAooooAKKKKAOQ8bkjWfC2CRm/nzz1/0OeuA0K4u9F8P+C9GvZZZrXUbrT77T52JOCdpmgJ9mbcv+yxH8Ne0zWsFw8bXEEcrQsWjLoCUJBUkZ6HBI+hNRnTbEw20Js7cxWjK1unlLthKjClBj5SBwMdKALNFFFAHC31npus/FG7svFCQzwW+mwyada3JzE255BM4U8FhhB7D61z/h6eK08V6SsNwf7Eh1nUbXT5HkymwwIQiseqiQShf93Ar0zU9E0vW40j1jTrW+SM5RbmFZNp9sjiluNG0y60xdNudOtZbFQAts8KmNcdMLjAxQB5pr2nadrGhfEjUp4Ibv7I8ptLg/N5brYxBih7EMvbuK9E8PaRp+j6RFFpdnFaxyqsjrEuAzFQMn34FWYdK0+30w6bb2NtHYlChtkiURlT1G3GMHPNWlAVQqjAAwAB0oAWiiigBsjiONnbOFGTgZrI0nUbaa/uoopNzSy70wOqhE5/WthhuUg9DVDT9GttOuJpoF+eY5JPb2FJ3uXFxSdzQqnqZ2R2ki8Ol9bFT3GZkU/mrEfjVyqsiG/wBWstPi5KzJdTkf8s442DqT/vOqgDuNx7GmQdhRRRSGQWX/AB4W/wD1yX+VT1BZf8eFv/1yX+VT0AFFFFAB1rnpfC7W7E6JeizjP/LtNF5sS/7gBUr9M7R2AroaKAOZ/sbXf+fvTj/2wcf+zUf2Nrv/AD96d/35f/4qumooA5n+xtd/5+9O/wC/L/8AxVH9ja7/AM/enf8Afl//AIqumooA5n+xtd/5+9O/78v/APFUf2Nrv/P3p3/fl/8A4qumooA5n+xtd/5+9O/78v8A/FUf2Nrv/P3p3/fl/wD4qumooA5n+xtd/wCfvTv+/L//ABVH9ja7/wA/enf9+X/+KrpqKAOZ/sbXf+fvTv8Avy//AMVR/Y2u/wDP1p3/AH5f/wCKrpqKAOZ/sbXf+fvTv+/L/wDxVH9ja7/z96d/35f/AOKrpqKAOZ/sbXf+fvTv+/L/APxVH9ja7/z96d/35f8A+KrpqKAOZ/sbXf8An707/vy//wAVR/Y2u/8AP3p3/fl//iq6aigDmf7G13/n707/AL8v/wDFUf2Nrv8Az96d/wB+X/8Aiq6aigDmf7G13/n707/vy/8A8VR/Y2u/8/enf9+X/wDiq6aigDmf7G13/n707/vy/wD8VR/Y2u/8/enf9+X/APiq6aigDmf7G13/AJ+9O/78v/8AFVRnNzaztDc67ocMqfeSQlWX6gvXaVl6OoM2p5AP+mt2/wBlaAOc+0P/ANDF4f8A++z/APF1dg03V7qFZrbUNLmib7rxxuyn6ENXUbF/uj8qzfD4xpsuP+f27/8ASiSgDN/sbXf+fvTv+/L/APxVH9ja7/z96d/35f8A+KrpqKAOZ/sbXf8An707/vy//wAVR/Y2u/8AP3p3/fl//iq6aigDmf7G13/n707/AL8v/wDFUf2Nrv8Az96d/wB+X/8Aiq6aigDmf7G13/n707/vy/8A8VR/Y2u/8/enf9+X/wDiq6aigDmf7G13/n707/vy/wD8VR/Y2u/8/enf9+X/APiq6aigDmf7G13/AJ+9O/78v/8AFUf2Nrv/AD96d/35f/4qumooA5n+xtd/5+9O/wC/L/8AxVH9ja7/AM/enf8Afl//AIqumooA5n+xtd/5+9O/78v/APFUf2Nrv/P3p3/fl/8A4qumooA5n+xtd/5+9O/78v8A/FUf2Nrv/P3p3/fl/wD4qumooA5n+xtd/wCfvTv+/L//ABVH9ja7/wA/enf9+X/+KrpqKAOZ/sbXf+fvTv8Avy//AMVR/Y2u/wDP3p3/AH5f/wCKrpqKAOZ/sbXf+fvTv+/L/wDxVH9ja7/z96d/35f/AOKrpqKAOaXQdYl4m1O0hQ9TBakv+BZ8A/VTWxpmlWulQslsGZ5G3SzSNueVvVj/AE6DoABV2igAooooAgsv+PC3/wCuS/yqeoLL/jwt/wDrkv8AKp6ACiiigAooooAKKKKACiiigAooooAKKKKACiiigAooooAKKKKACiiigAooooAKKKKACiiigAooooAztW1YaQkDPZ3Fys0gi3Q7AEJ6bi7KACeAfUgdxSaLFOsd3Lc20ls09y0ixyFSwXAHO0kdvWr80UdxC8M6LJFIpV0cZDA9QR3FZUE0mi3EdneSNJYyMEtrlzkxk9IpD+isevQ/NgsAbFc5Z6lNpMyadc6VeNJc305ieNoWVlaZn3437goVgSccdOpAOvqOorYRoFQz3Mx2wQKfmkb+gHUnsKZp2ntbu91eSCe+mA82UDhR2RB2Ufr1PJoAv0UUUAFFFFABRRRQAUUUUAFFFFABRRRQAUUUUAFFFFABRRRQAUUUUAFFFFABRRRQAUUUUAFFFFAEFl/x4W//AFyX+VT1BZf8eFv/ANcl/lU9ABRRRQAUUUUAFFFFABRUMV3bzs6wTxSGNirhHB2kdQfQ0LdW73Jt0njacLuMYcFgPXHpQBNRRRQAUUUUAFFFFABRRRQAUUUUAFFFFABRSMcKTjOB0FeWH44xrrQ0g+B/FA1FoftAtfsqeYY8437d2cZ4zQB6pRWfFrmlyw+YNQtVxF5rgzplFBwSeeADwT61Q1vxfY6T4dOsWanV4BKkWLCRHJLMBnOccZ55oA36KoyazpcM4gm1KzjlaTyhG06hi/8Adxnrz0qr4p8T6b4O8O3Gt63I0dpb7Q2xdzEswAAHc8/lmgDYorlI/iJoT+K5tDluFgMVjHffa5pESFkdtqgMT96t+71XTrCOJ76/tbZJjiJpplQP9Mnn8KALlMngiubeSC4jWWKRSro4yGB6gilLqsZdmUIBksTwB61j3/i3Q7Dw/f6y2pW9xZafG0k720qyFQBnHB6+g70AWtO0iHT5Hl86a5mYbFluH3MkY6ID6D8z1JJrQrldP+I/hvVNZ0rS7O833Oq2IvrYYGNh/hY54fn7vWt621XTry6ktrS/tZ7iL/WRRTKzp9QDkUAXKKyrvxHpdtY6jcR3kFy2nQSTTwQTK0ihFJIIzweO9R+HvFGneItE0zUbaQQf2nAJ4LeZ1EpUjP3c8/hQBs0VUu9V06wYrf39rbFV3kTTKmFzjPJ6Z4zSw6lY3N01tb3tvLOqh2ijlVmCnoSAc4560AWqKpW+r6beXklnaajaT3MX+sginVnT6qDkVi+IPH2jeH77TLOSUXdxqGpRaaI7aRGaCSTOC4zkDj60AdPRVRNU0+TUGsI762e8QZa3WZTIo91zkVmeDvFtn410E6rp0M0MIuJINswAbKNtJ4J4oA3qKKKACiiigAooooAKKKKACiiigAooooAKKKKACiiigAooooAKKKKAILL/AI8Lf/rkv8qnqCy/48Lf/rkv8qnoAKKKKACiiigAqtqV59g0u6u9jSGCJpAiDJYgZwB6mp5GZImZEMjAZCA4Le3NeX+M774kvBNdWK2Gg6bbje0r3Ks+B3YkED6AU0rgeJTab4pm1C4vP7O1RJriRpJGSCQZJOT0HvXYfCKHW9I+I1tLfadfpDdRvBLJLC4AyMgkkeqiobPxx40vJXji8a2SlAWJldUBA9CU5qXSfGnj3WdVTTtN8VWk1zIdsaNtUOfQEpitXewj6QormPCl74seIW3i7S4I5VHF3bTKVf6r1B+ldPWIwooooAKKKKACiiigAooooAKKKKACvNZ9OvT+05baiLOc2I8MmE3Plnyw/nk7d3TOOcV6VRQB8yQ+Cn0z4NX2oP4WmuNXvdZaK6M0EzPHa+duD+UpBdAVU7ehJzVGPw5rH/CGeNrS10jUGjuNU02e0QaW1sJUDEs6QgYUdMgcgYzX1TRQB83eKvAcmoaL8UtTfw9cT6sdWjbTJvszGQp5iZaLjJGCckdvpXpPxi0W4174HahbxWD39/HDBLDGsW+RXDruZR13bS/TnBNekUUAfP0vgyw8R+LtVu28MTHTU8GqunxzWTRrHPzhVUjiQdh1Ga47UPDOtLbaBN4k07UHsW8NLZwD+yGvWhmDHMewkGN8Ywx9vw+sqKAPL77TtU0z9mt9P+wXerX0eliP7JcBkmdSw+VhGxOVQ8qG524ryrQfCd5dHxdDDolzLaXnhRvsw/sdrSKS5QqVCIc5cEcE/MSM19S0UAfOGh6JbWHiTwRqtr4Pugv/AAjz27gac0Z/tBMjLnGUJYHDn1zXP+EvD+uHxP4fudI0e7025NnqMExj0qS2S2meCQRq8zEtIdxX5mOBxjvX1fRQB81+EdG09tEtbOy8DaxbeIrHRb6PUdQeN4FEjROuGGP35Yngdsj040vgroGteF/GFg3ivS7m6bU9GjFhfvbv/wAS4JnNs2RiMkc54ycepr6CooA8X+IXhAeI/jBdzX+iyX9lH4PmEMjQs0YuRK+0A9N+DkDr3rlfDvgbVNNuPA8+h6Rc6fqd1oGox3t15LIVnMLiLzWPQ7iMZ9B6V9JUUAfMfhfQZ5r3wTY+GPC+paN4l0qWRta1Ge1aJCuCG3SH7+49PTOKoaH4dMZ8D2ieD9Xg8Tab4ijfWdRktHKMnnE5aTowxtOeg2nnnn6rooA+V/BvhHWYvGWjW+p2uqQa/Z601zdXEekfeTflne7LgNGy9sH2B7+yfBDT7zTPh21vqNpPaTf2jdP5c8ZRtpkJBwexr0SigAooooAKKKKACiiigAooooAKKKKACiiigAooooAKKKKACiiigAooooAgsv8Ajwt/+uS/yqeoLL/jwt/+uS/yqegAooooAKKKKACsXxP/AGTdaauka7Jsg1Zjark4yxUsBnsfl498VryyrDC8r/dRSxx6CvAfiL8S9A8a6ZbWFs95Zrbz+d5rW4ZiwBAxhxjqaaV2B6J4d+D3hfQJJJWhk1CSRGjzdkMFUjBwAAOneqtn8LPCPhDWl8RvdzW8VoxlRLiYeXGfXOMnHbmuH8LfGGTRnhg1fV7rU7KMEENZKJenHz7/AOea5TxFruneJL6SbUfEuszRFy0UUtqpEYzwMeYB074q7MD6e0rU7fWdLg1CyLG3uF3xswwWXsce/WrlebeBfij4e1SbTPDWnQXccywiKNniAQ7E/wB4kcCvSahqwBRRRSAKKKKACivLrzxz4g0Xxx4ot57aC9t45bC00y1WcqTPPkICdnAPLMcnG0Yzmup8N+JdSvPEGo6B4isba01KyhiuQ1pMZIZopCwBBYAghkYEEelAHUUV5xqfxH1yyPiHUIdAtZdF8O3pt7uY3ZE0qBUZmjTbjKh8kE89qZe/FK+0+38RalcaNbjSNGuzYRTG7w9zcFowgwVwifvMsxPHYGgD0qivK7f4xSMl3ZNZ6ff6qHto7JdMvvNt7h55CiqZCoKFSMtkdMEVSm8Sa9D4y1WHxHA1vJHe6JBHBY37+T+9nkBdSVBweAykDO3GcUAew0V57YeN/FOuWKarpHh61k0a9eeK0ma7ImTYHCSyrtwEZkxwSQGBwam8J63ql98DYNa15/NvH0l7hpIZSrSDyyQ27A2sfYcHpmgDvKK8t8IahrGr/Euzed2GmQ+GbO4hha+kcgyh8u67QHclSCT2UEckgXfHnxNufB2o3Ua2+ltBZ2y3DJdX/lz3WckrFGqseAOrYBJ/GgD0WivNtb+JOuWdx4im0rQbW503w9FDcXM094Y5JY3hWUhFCkbgCepx09a6Hxxqy2PhS3vUE5WW/skAhnMLYkuI1+8AePm5HcZHegDqKK82tviRrktzBdz6DaR6NJrraKZheEzFvOaJZQm3G3cBkZz1o034k63cW+natf6DawaHfamdMEsd2WnRzM0SyFNoGwuAMZzzmgD0miuHg+IFxceGdF1OPT4hLqmsvpgiaY7U2ySoHzjn/VA4x39qd8NtY8Qav4AkvtZFvPf/AGm7SArKSJAkzqqsdoxgrtGM/KAepIoA7aivLIPjXbPNZ/aNN8q3l0JtSuJfM/1NwqO5tunJ2xSc+w4pPEXxb1Dw3EJdQ07SoPItILi4tJdRxcys6hnWJAp+7kjL4yR6c0AeqUV55d/Em7h8fTaDFZWCRwXcVv5V1eeTdXCuFJmiVl2Oo3dN2TtPsK6Hxr4lm8MaRBdWyWRaa4WEy392LeGEEE72bknpjCgkk0AdFRXMeAvF3/CZaDPetFDHJbXktpIbeUyRSFMfOjEAlSCDyK5SH4meKLtdMntfDNg1vq2oT6bZl79g3mxtIN7jZwmIm6ZPHuKAPUqK8ruPjBNBBaWM9ppllrMl3d21wby+MdpF9ncKzB9u5txZdoxnrnpU9h8UdW8QtpNr4a0SznvL6G7aUz3pEMLW8iISHVTvVt2QQO496APTaK8otviZrWr6LaT3ujQadaa9pl5LYyw3heaKSGIsSw2gAHBIIOeBmnaL8RdY8P8Ah3QZvGemRR2F7pDTw3UF0ZZi0Nv5reapUDc6KxGCeeD60Aeq0V5NY/GmSWG4e5s9LldtKudRto7DUPPaMwx7/Km+UbWI7jIyCK7nRNfvpvB7674ksYdOAha6EMMxlKQhAw3HA+bGcgce9AHQUV5xD4/8RtBpc19odlbQeIYJG0srdszRSCFpUWYbONyqeVzg8Uvgm61uH4Cw6m03n6rNpzXiTXF08m9mTcGLMCVPfaAQOgoA9GorxfQvFXjeXU7GeC3tNQuJPCNpfXCXF66Q5LyneAE/1jrtzwAMEZIArVv/AIyoRpy6XBpsMtzpMOqSjVb/AOzqBKCVhQhTufg88AcetAHqdFZnhvXIfEvhnTtato3iivrdJ1jk+8m4Z2n3B4rToAKKKKACiiigAooooAKKKKACiiigAooooAgsv+PC3/65L/Kp6gsv+PC3/wCuS/yqegAooooAKKKKAOD8eeJ5bHxT4d0C1kKm/mZ7jB5MYBAX8Sf0r5eYYYj3r6O8VeDde1b4vaTrttAjaZZrErOZQCACxb5evevnq5s7iK7mRoJAVdgQUPHNaxEVaKl+zT/88ZP++DR9mn/54yf98GrA6DwFLJb+J2uIXKSQ2N1IjqcFSIHwRX0t4C8Qt4o8E6fqcpBnePZNj++p2sfxxn8a+dPhzpF9qXiW4tbW3cyyaddIm4YG5omUZJ6ckV7p8JvDer+FfCc2na7EsUv2ppIwkgcbSq+nuDWc7DO6ooorMAooooA43W/hzaa1rGpag2p3ls98ts+2EJ+5nt2zFMhIzkcjB4IJrR8OeFDouo32qX+pz6tql+scc11OipiOPOxFVQAoBZj7k10Nch4m8V6lovjnwzpNnpr3NnqjTi5lUplQiZ4ywI2/ePByOBzxQBgW/wAOL/WNR8UJq+qX1lpGp6wZpNPjEZS8hCRYO7BZQxUqwBGQvaukufh/pt3oWtaXNPcCPVr86gZEIDwTZQqUOP4TGpGc1n6b8Tv7X8O22sad4X1mSK+kWOzRljUzZVmZyS+1EXaRuYjJxjOag/4WVaXb6VeRC+tU8zUI7qx8uJyz20RZ1ZwxAxjIKkg8ZoAtTfDf7fYXS6z4h1G9vpnhkgvAEi+yPC26No41G0HcckkHPSmw/DKN764v9V12/wBQvbq6sbqWaRI0G61kLxqqquFU5wR+PU1UPxSivNJmd9J1bRlu9GuNS067njibzkjjDMVUOcMAykBsA065+KcWnxXUceh6tqg0uwgvb+6hSJVjikj37yC4ycAnaPQ0AX9L+HMWlXluset6g+kWc8lxaaUSqxxO+7ILAbmUb2wpOBnvgVo6N4Qi0jwH/wAIqb+4ubVbZ7SOaRVDpEylQOAAcA9cVjaz8VbDS11G4tNG1TVLDSoUlvry0RNkBdA6rhmBY7WUnAO0MM10HiPxTZ+GfDX9s3kUskbNEkcUe0M7yMFRcsQo5YZJIAoAi0PwhaaFqSXtvcTSOml22mBXxjZAWKtx3O857VjeIPhlDrup61cJrd7Ywa7AkOoQQJGfM2psGHZSyjbjIHX8aml+I0dtpsb3eg6nDqU159it9NIjLzvs37kk3eWU25JfdgYIPPFZV38T7ufUdBt9J0W6ElxrD6bqVvMY99uywmTaDvwSRtcMMgqD3IFAGyPh7avomv6fc6hczHXrWO3uptqqw2QCHcoAwCQufrWtrnhu313Q4NLuJpY4oZ7ecOmNxMMiyKOfUoAap+LtYu7O40TSdLk8m81i/WAS7QTFEitLKwB4zsQqPdge1YUPxG+yXh0+Kx1TXL671O/traKGKKPZ9ndQyklgNoDcMeTjnnFAGwvgKxXR4dOF1ceXDrP9sBuMmT7QZ9vT7u449cVzXg34b36aVpv/AAkeqXywWepTX6aQwj8tZRO7RtvA3FeQ+3PU/hWnD46e9n8M6vbJNBpmqXk2k3dncIokt7kb9pJGeQ8TIeSDvB7Vu+I/FSaDdWFhbafc6pqeos/2aztiisyoAXdmchVUZHJPUgUAYdv8LobfULN/7e1F9P0/U21Oz04iMRxSszMwLbdzDLtjJ4ya6Hwv4bTwvps9hBeTXNu91LcRLMqgwiRy5QEAZG5mOTzzXPS/FSz+zaeLTRNUu9Qvrq4sxp0aJ5sM8Iy6PltowOdwJGOa6TxDrzaFYwTRaZeajPcTCGK3tQudxBOWZiFRQFOWJx09aAOVn+Dfh+4sru1ea52XWs/2s2GGVPIMI4/1ZDOMf7RqTXvhZBrl3rpXXL6ytNeCm9toI4zudUCAhypYLhVyucHHua6Lwr4nt/FWlzXdvbzWsltcyWlxBMVLRyofmGVJUjkcgnrXP6N8U7XV7rSydC1Sz0/Vbh7W11C4EYjaZA5K4DlgD5bYbGCRQA6/+GzapdAaj4ivrmwe5iu5rOSKNt0se05RyN0asyAlVwOTjGa2PFXhNfEr6bcRX8un3umXBntp440kAJQowKOCDwx9waytN+JlpqF3p7nSNQt9J1W4Ntp+qyhPKuJPm2/KGLqG2naWAz+NRaB8U7TXbnSN2h6nYWOs71sr66EYjkdEZ2UgOWHCNgkYOOKANrwl4UHhSHUI01O61AX12127XQTcJGADnKgdSM47dBVez8BWNlaaJbx3Vwy6NqE9/CWxl3l83Ktx0HnNjHoKf4g8cWmiyabDZ2dxrNxqc729vFp7RsS6oXIJZgAMDrnjrWPpXxXtdSurJZtB1SwtLu8fT/tlyIxHHdKGLREByeNjDcBjI60ATT/DK3S8/tDSdXu9P1IXt1dLdLGknFwwaSIowwVyqkdwR1rR0jwRbaTqWm351C9u7mxtbi3Mly4YzGaRHdm445QYAwAOMVnab8UtP1G6s86XqFtYakzrp1/KI/Luiqs2AoYsu5VYruAziqNl8XhqI0z7F4R1yRtYt2n00EQr9pCAF+TJ8gAYHLYz2zkUAakXw106LSNE08XlyY9Gtri3hY7cus0ZjYtx1AORiqtj8K7SOK2tda1m/wBZsLGxksbK1uQiiCOSPy3OVALNsyoJ6An61mx/E291DxNpUmg6RqGp2WoaNJdDT4liSSOVJwjF2ZgBjDLjJySMVqL8VLC9t7A6DpOoarc3dq129rEI43t41cxtv3sBu3qyhQSSVNAC2/w1P9n3FjqfiTUr+3bTpdOt43CRiGORdpYhQPMcAABmz345rrU0y3Girpcw862+z/Z2D/xpt2nP1FcvYfEyw1jWtL07RNN1C/Oo2UV8J40VY4IXdkJkLMCCpUggZPpnmr/iPWbqDxN4e0PT5fIk1CaS4uJsA7beBQzgZ/vM0a57Bm74oAztI+G66fdac19rt9qdro8TxaZbTrGBbBk8vJZQC7BCVBPQE1vaT4bttJ8G2vhuOWSW1t7IWYkYgOyBNuTjjOKwdN+JtpqF1p7to+oW2larObfT9UlCeVcOAxHyhi6htp2lgM/jViH4g2l1onh/ULPT7yY+IEkNnANgcMkLy7WywAJCEDnGSM8c0AL4f8AwaCFJ1K6vHXSY9JDyqi4hjZyn3QOQH2577R3zVBfhfHZQ2I0HXr7S5rfTYtMmmjjjc3EMYOwkMpCuMthh61Q8NeOtZ1DTPBmtavD9nt9dZrG4h2qF85kLxTJgkhTsZcE/xA4GOfS6AK2m2Eel6XbWMDyyR20SxK80hd2AGMsx5J9TVmiigAooooAKKKKACiiigAooooAKKKKACiiigCCy/wCPC3/65L/Kp6gsv+PC3/65L/Kp6ACiiigAopKKAFppijJyUUn6UtFADfKj/wCea/8AfNHlR/8APNf++adRQAioq/dVR9BTqSigBaKSigBaKSigBa5zxJ4cu9W8QaBqthdQwvpU0pkjmjLCSOWPYwGCMMB07V0VFAHnF78M72TwZ4V0aK7sbs6Cu2W2v4Wa1vP3ZTLIDnKk5GcjNVNO+Et/aQpDNqdj5cU+oTRi2tDEo+1QeXtCbiFCseAOwFepUUAcJqvw7n1HR9Gsl1COM6bod1pTMYyd7TQJEHHPABTOPepIvh/NHpvia1N/GTrelQ6ejeWf3Rjt2i3HnkEtnFdvRQB4P4s07VtGs/E3hbQp7ktrFvCv2d9IllNzKYEiYwTK2wIwQBt+CmGPpXrXiPQ7zVvCg02xuLWKceXlbu3E8EwUgtHIh6qwGMjkdRW9RQB5L/wpmZtPEjPpAuYdR+22+mm1eTTo1MXltH5bMT833sjGGAwOK1bL4a31hZ6XLa3Ok219Z6z/AGm8Vrp4htgpiaIxKqkMcK2QzEkn24HotFAHKeNbGddT8N6/aQvOdH1DM8calmME0bQuwA5O3erfRTVTSPAM2meKrfV2vo5FhvdSujGIyCRdMjAZz/Ds59c121FAHnH/AAiN3a3/AIf0JS1xFFrl1r1zcrGVSNN8jxx56bi8yjHojGug8UeHNTv9c0nXvD13a2+paas0Pl3kbPDNFKF3KdpBBBRSCPT3rp6KAOF0T4e3Om6tpOqXeox3F5BfXt/fFIiqyy3CbcIMnaqgADOcgVf8e+ErrxXbaaLSW0YWN158lnfxs9tdDYy7ZFUgnBbcOoyOldXRQByfw/8ACN34OsNStLq4sporq9a8iWztjAkW9V3IEyQFBHGO3Wqdn8PZbfwz4Y0qS+jf+xNSN7I4jIEykTDaBnj/AFvX2ruKKAPO9J+HmtW0ehaRqWrWc+g+H7oXNmIoGW4m2BhEshJ2gLu5IHzbR0q5YfDx7XQvB+m3F3DOnh6VnmzF8tyrQyRlcZ4/1mec9K7iigDlj4D02z1vQrvQbSz0u20u6nuZbe2twgmaSBos/LgZ5HPoKzh8OZG0ewsJr6NltvEE2ruRGRvSR5m8sc8HEuM+1d1RQB5b4b+EMuh3ljG50L7JpocQ3MGlqLy5ypVPNkOcEZySuCxHUc10GieBZtJbwcXvY5P+Ec06WykxGR55dI13DnjHl/rXZUUAea6b8O/EfhybTbrw9rOnG4s7GezkS8tnaOUSXBm3fKwIK5H1wfWqUvwZa1On3Fi+j6ndxWTWt1/bVh50bu0zzGZADlW3yP8AL0IIGeM16vRQByXhfwOfDesw3i3cUyR6PFpxSO2WEM6SySM4VMKoJk+6Bx70eKtNmXxl4a1yOCSe3hafT7tY1LFY7gKFfA7B40BPYMT0FdbRQB53pPw81q3j0HSNU1azn0Hw9ci4sxFAy3E2wMIlkJO0Bd3UDnaOlR+H/hzr2mXnhmK+1qym0vw0832WKG1ZZZ0eJ4wXYsQGUOOgwea9IooA8zsPCWp2EPgvwpcul1Dot01/LeQwsiCKJGWJDkkb2aQHAPRGr02kooAWikooAWikooAWikooAWikooAWikooAWikooAWigUUAf/Z)"
      ]
    },
    {
      "cell_type": "markdown",
      "metadata": {
        "id": "BZhk5QD1p0Z4"
      },
      "source": [
        "The idea of training the Attack Model is that we would like to define a bunch of new neural network, named Shadow Model. Shadow Model has the same model structure with the Target Model, which we have already known. We would like split the known dataset we obtained to train and test dataset to train the Shadow Model. Since we know the train dataset and test dataset for the Shadow model, we could use these datasets to form a new dataset to train the Attack Model.   "
      ]
    },
    {
      "cell_type": "markdown",
      "metadata": {
        "id": "a5oNm3RBr8vJ"
      },
      "source": [
        "The new dataset to train the Attack Model should includes three kinds of information. To be specific, for a given data, it should include Shadow Model probability prediction of this data,  class label and whether this data in/out the train dataset of Shadow Model. "
      ]
    },
    {
      "cell_type": "markdown",
      "metadata": {
        "id": "B_7oyL5SnPOO"
      },
      "source": [
        "**3.1 Generate the known image dataset**\n",
        "\n",
        "These known image dataset should have the same data distribution characteristic with the train dataset of pre-trained model.\n",
        "To be simplified, in this assignemnt, we could just use the original test dataset as the known image dataset, since it is disjoint with the original train dataset but has the same distribution. "
      ]
    },
    {
      "cell_type": "code",
      "execution_count": null,
      "metadata": {
        "colab": {
          "base_uri": "https://localhost:8080/"
        },
        "id": "dmq-KWnmSorL",
        "outputId": "31421438-e4c0-48d2-8710-d6e00c84d743"
      },
      "outputs": [
        {
          "name": "stdout",
          "output_type": "stream",
          "text": [
            "Generated disjoint image dataset - Number of examples: 10000\n"
          ]
        }
      ],
      "source": [
        "known_dataset = orig_testset\n",
        "print(f\"Generated disjoint image dataset - Number of examples: {len(known_dataset)}\")"
      ]
    },
    {
      "cell_type": "markdown",
      "metadata": {
        "id": "K4dV6riJTBW8"
      },
      "source": [
        "**3.2 Define a new CNN shadow model [5pts]**\n",
        "\n",
        "As the description above, the shadow should has use the same model structure of the pre train model as intialization. To be simplicity, in this assignment, we only need to use one shadow model.\n"
      ]
    },
    {
      "cell_type": "code",
      "execution_count": null,
      "metadata": {
        "id": "GLztHJ8zTeXM"
      },
      "outputs": [],
      "source": [
        "class ShadowModel(nn.Module):\n",
        "    def __init__(self):\n",
        "        super().__init__()\n",
        "\n",
        "    def forward(self, x):\n",
        "\n",
        "        return x\n",
        "    \n",
        "    def predict(self, x):\n",
        "        return self.forward(x)"
      ]
    },
    {
      "cell_type": "code",
      "source": [
        "shadow_model = ShadowModel().to(device)"
      ],
      "metadata": {
        "id": "rIQJg4WqzgqS"
      },
      "execution_count": null,
      "outputs": []
    },
    {
      "cell_type": "markdown",
      "metadata": {
        "id": "XMPUj2D4T38R"
      },
      "source": [
        "**3.3 Train the Shadow model[10pts]**\n",
        "\n",
        "We use the known image dataset obtained before to train the shadow model."
      ]
    },
    {
      "cell_type": "code",
      "execution_count": null,
      "metadata": {
        "colab": {
          "base_uri": "https://localhost:8080/"
        },
        "id": "ujyrr7HSUGUA",
        "outputId": "4fe993f4-abf1-421f-fac6-d9fff1291572"
      },
      "outputs": [
        {
          "output_type": "stream",
          "name": "stdout",
          "text": [
            "shadow_trainset_size: 5000\n",
            "shadow_testset_size: 5000\n"
          ]
        }
      ],
      "source": [
        "# get the train dataset and test dataset for the shadow model using the known image dataset\n",
        "# we could use the train_test_split_function defined as before with ration=0.5\n",
        "shadow_trainset, shadow_testset = train_test_split(known_dataset, 0.5)\n",
        "print(\"shadow_trainset_size:\", len(shadow_trainset))\n",
        "print(\"shadow_testset_size:\", len(shadow_testset))"
      ]
    },
    {
      "cell_type": "code",
      "execution_count": null,
      "metadata": {
        "id": "qUXYP22bVTri"
      },
      "outputs": [],
      "source": [
        "# Train the shadow model\n"
      ]
    },
    {
      "cell_type": "markdown",
      "metadata": {
        "id": "tuEesscnVvVM"
      },
      "source": [
        "**3.4 Generate the new dataset for training the memory attack model[15pts]**\n",
        "\n"
      ]
    },
    {
      "cell_type": "code",
      "execution_count": null,
      "metadata": {
        "id": "MCzE8WjBvIqM"
      },
      "outputs": [],
      "source": [
        "# generate data set for memory attack model\n",
        "# we shoud generate the In dataset and Out dataset sequetially and then concantate the In dataset and Out dataset by Random Shuffle.\n",
        "## output of the function#######\n",
        "# 1.dataset_fvs(feature vectors) represents the probability output of the model\n",
        "# 2.dataset_labels represent the class label\n",
        "# 3.dataset_targets represent whether the data in/out the train dataset of the model (in->1  out->0)\n",
        "def generate_attack_dataset(model, trainset, testset):\n",
        "    \n",
        "    ################Generate the In dataset###########\n",
        "\n",
        "\n",
        "    ################Generate the Out dataset############\n",
        "\n",
        "\n",
        "    ###############Concatenate the In dataset and Out dataset by Random Shuffle############\n",
        "\n",
        "\n",
        "    return dataset_fvs, dataset_labels, dataset_targets\n"
      ]
    },
    {
      "cell_type": "code",
      "execution_count": null,
      "metadata": {
        "colab": {
          "base_uri": "https://localhost:8080/"
        },
        "id": "e2Zkh338FK7W",
        "outputId": "34d0713a-1f56-4ca7-f88d-dc5337e4a988"
      },
      "outputs": [
        {
          "output_type": "stream",
          "name": "stdout",
          "text": [
            "torch.Size([10000, 10])\n",
            "torch.Size([10000])\n",
            "tensor([0, 9, 5,  ..., 0, 4, 4])\n"
          ]
        }
      ],
      "source": [
        "# generate the train dataset for the attack model\n",
        "attack_train_fvs, attack_train_labels, attack_train_targets = generate_attack_dataset(shadow_model, shadow_trainset, shadow_testset)\n",
        "print(attack_train_fvs.shape)\n",
        "print(attack_train_labels.shape)\n",
        "print(attack_train_labels)"
      ]
    },
    {
      "cell_type": "code",
      "execution_count": null,
      "metadata": {
        "id": "KO4rf4uf9P2r"
      },
      "outputs": [],
      "source": [
        "class AttackDataset(torch.utils.data.Dataset):\n",
        "  def __init__(self, feature_vectors, labels, targets):\n",
        "        self.feature_vectors = feature_vectors\n",
        "        self.labels = labels\n",
        "        self.targets = targets\n",
        "\n",
        "  def __len__(self):\n",
        "        'Denotes the total number of samples'\n",
        "        return len(self.feature_vectors)\n",
        "\n",
        "  def __getitem__(self, index):\n",
        "        'Generates one sample of data'\n",
        "        return self.feature_vectors[index], self.labels[index], self.targets[index]"
      ]
    },
    {
      "cell_type": "code",
      "execution_count": null,
      "metadata": {
        "id": "t6qDGj33-W6Y"
      },
      "outputs": [],
      "source": [
        "attack_trainset = AttackDataset(attack_train_fvs, attack_train_labels, attack_train_targets)"
      ]
    },
    {
      "cell_type": "markdown",
      "metadata": {
        "id": "HftUEpTr1JAb"
      },
      "source": [
        "**3.5 Evaluate the attack performance before training the model[10pts]**\n",
        "\n",
        "To make comparision, before training the attack model, you could firstly evaluate the attack performance.\n",
        "\n",
        "To evaluate the performance, you could directly jump to the Section 4 to run the code and get the evaluate accuracy and write the accuracy in the textbox below. The evaluate accuracy without training should be around 0.5 and explain why?\n"
      ]
    },
    {
      "cell_type": "markdown",
      "metadata": {
        "id": "Cy-Dr-p_15tS"
      },
      "source": [
        "Evaluate Accuracy without training the attack model:\n",
        "\n",
        "Reason:"
      ]
    },
    {
      "cell_type": "markdown",
      "metadata": {
        "id": "lql8LZOoW2ZQ"
      },
      "source": [
        "**3.5 Train the attack model[10pts]**"
      ]
    },
    {
      "cell_type": "code",
      "execution_count": null,
      "metadata": {
        "id": "WGQ9csFwFo6_"
      },
      "outputs": [],
      "source": [
        "#train the attack model using the generated attack train dataset\n"
      ]
    },
    {
      "cell_type": "markdown",
      "metadata": {
        "id": "Vplp63xBW_Nr"
      },
      "source": [
        "## **4.Evaluate the attack performance of the membership attack model on the pre-trained model**\n",
        "\n",
        "\n"
      ]
    },
    {
      "cell_type": "markdown",
      "metadata": {
        "id": "PMKaETdHXRID"
      },
      "source": [
        "**4.1 Generate Evaluation dataset**\n",
        "\n",
        "We randomly extract 2000 images from original dataset to form the evaluation dataset: 1000 from the orginial train dataset, 1000 from the original test dataset.\n",
        "\n"
      ]
    },
    {
      "cell_type": "code",
      "execution_count": null,
      "metadata": {
        "colab": {
          "base_uri": "https://localhost:8080/"
        },
        "id": "D67YGaVLzjUy",
        "outputId": "bf60def3-78f6-4f38-cf3f-5635e3a4d2f0"
      },
      "outputs": [
        {
          "output_type": "stream",
          "name": "stdout",
          "text": [
            "evaluate_train_images_size: 1000\n",
            "evaluate_test_labels_size: 1000\n"
          ]
        }
      ],
      "source": [
        "eval_trainset, _ = train_test_split(orig_trainset, 0.1)\n",
        "eval_testset, _ = train_test_split(orig_testset, 0.1)\n",
        "\n",
        "print(\"evaluate_train_images_size:\", len(eval_trainset))\n",
        "print(\"evaluate_test_labels_size:\", len(eval_testset))"
      ]
    },
    {
      "cell_type": "markdown",
      "metadata": {
        "id": "Ea9cMUgW0b9H"
      },
      "source": [
        "4.2 Generate the Evaluation dataset for Attack Model"
      ]
    },
    {
      "cell_type": "code",
      "execution_count": null,
      "metadata": {
        "id": "m5jU_fXpXIoc"
      },
      "outputs": [],
      "source": [
        "attack_eval_fvs, attack_eval_labels, attack_eval_targets = generate_attack_dataset(model, eval_trainset, eval_testset)\n",
        "attack_testset = AttackDataset(attack_eval_fvs, attack_eval_labels, attack_eval_targets)"
      ]
    },
    {
      "cell_type": "code",
      "execution_count": null,
      "metadata": {
        "colab": {
          "base_uri": "https://localhost:8080/"
        },
        "id": "9cLSULyxGsNi",
        "outputId": "13795605-a093-4a13-bf4f-0cf707c4cf62"
      },
      "outputs": [
        {
          "output_type": "stream",
          "name": "stdout",
          "text": [
            "Test accuracy: 69 %\n"
          ]
        }
      ],
      "source": [
        "correct = 0\n",
        "total = 0\n",
        "attack_testloader = torch.utils.data.DataLoader(attack_testset, batch_size=batch_size, shuffle=False)\n",
        "\n",
        "with torch.no_grad():\n",
        "    for fvs, labels, targets in attack_testloader:\n",
        "        fvs = fvs.to(device)\n",
        "        labels = labels.to(device)\n",
        "        targets = targets.to(device)\n",
        "\n",
        "        predicted = membership_attack_model.predict(fvs, labels)\n",
        "        total += labels.size(0)\n",
        "        correct += (predicted == targets).sum().item()\n",
        "\n",
        "attack_acc = 100 * correct // total\n",
        "print(f'Test accuracy: {attack_acc} %')"
      ]
    },
    {
      "cell_type": "markdown",
      "metadata": {
        "id": "FQtxOONX4FCl"
      },
      "source": [
        "# **5. Questions [10pts]**\n",
        "\n",
        "After finish this assignment, you should have a deep understanding about membership inference attack. Please answer the following questions: \n",
        "\n",
        "**1. Why the attack model could successfully detect the In/Out information?**\n",
        "> A. The In and Out datasets come from different data distributions. \\\n",
        "> B. The accuracy on the training set (In dataset) is higher than the accuracy on the testing set (Out dataset) since the target model has memorized the training data. \\\n",
        "> C. The attack model has been trained on the same dataset that used for training the target model. \\\n",
        "\n",
        "**2. Why the attack model trained on the shadow model could successfully attack the target model? (Multiple choices)**\n",
        "> A. The shadow model and the target model have the same model architecture. \\\n",
        "> B. The performance of the shadow model is comparable to the target model. \\\n",
        "> C. The shadow model has trained on more examples than the target model. \\\n",
        "> D. The data used for training the shadow model and the target model come from the same data distribution. \\\n",
        "\n",
        "**3. Which of the following statements are true about membership inference attack? (Multiple choices)**\n",
        "> A. The attack accuracy will be higher if the training data for the shadow model and the target model are sampled from different data distributions. \\\n",
        "> B. The attacker's goal is to infer whether a data sample is used for training the target model. \\\n",
        "> C. The shadow model is trained to imitate the behavior of the target model. \\\n",
        "> D. The feature vectors for training the attack model are the probability predictions output by the shadow model. \\\n",
        "\n",
        "**4. Based on the previous questions and observations from the implementation, which of following methods may reduce the risk of membership inference attack? (Multiple choices)**\n",
        "> A. Hiding information of the target model's architecture. \\\n",
        "> B. Improving target model's performance. \\\n",
        "> C. Using some regularization techniques during training to prevent model overfitting. \\\n",
        "> D. Using a bigger and more complex model architecture for the target model. "
      ]
    },
    {
      "cell_type": "markdown",
      "source": [
        "## Your Answer:\n",
        "1. \n",
        "2. \n",
        "3. \n",
        "4. "
      ],
      "metadata": {
        "id": "Le-Td52zmsuC"
      }
    },
    {
      "cell_type": "markdown",
      "source": [
        "# **6. Open Questions [30pts]**\n",
        "For all the questions, it suffices to describe the idea and provide intuition why you think the idea would work. It is not required to run experiment to validate your ideas. You can also use those as the starting point of your project.\n",
        "\n",
        "**1. Please describe two scenarios when membership inference attack would be a threat (one example given in the class is health care models, please come up with two other scenarios).**\n",
        "\n",
        "**2. What are the assets, threat, and adversaries in membership inference attack?**\n",
        "\n",
        "**3. The white-box setting reveals more information to the attacker, thus potentially can make the attacker more powerful. If the attacker has white-box access to the model, design a method to make the membership inference attack more powerful. Describe how you will utilize the white-box information.**\n",
        "\n",
        "**4. How can membership inference attack be done in the federated learning setting? Describe how the attack can be implemented.**\n",
        "\n",
        "**5. Assuming the attacker can insert some data to the training data (a special kind of poison attack), describe a method that the attacker can leverage this ability to make membership inference attack more powerful.**"
      ],
      "metadata": {
        "id": "ZfUqFY72mp8O"
      }
    },
    {
      "cell_type": "markdown",
      "source": [
        "## Your Answer"
      ],
      "metadata": {
        "id": "ADuIPLlum_io"
      }
    },
    {
      "cell_type": "code",
      "source": [],
      "metadata": {
        "id": "RnrEEzBw00pZ"
      },
      "execution_count": null,
      "outputs": []
    }
  ],
  "metadata": {
    "accelerator": "GPU",
    "colab": {
      "collapsed_sections": [],
      "provenance": [],
      "include_colab_link": true
    },
    "gpuClass": "standard",
    "kernelspec": {
      "display_name": "Python 3",
      "name": "python3"
    },
    "widgets": {
      "application/vnd.jupyter.widget-state+json": {
        "2c368d957efa4d1a9464f5c5549a556d": {
          "model_module": "@jupyter-widgets/controls",
          "model_module_version": "1.5.0",
          "model_name": "FloatProgressModel",
          "state": {
            "_dom_classes": [],
            "_model_module": "@jupyter-widgets/controls",
            "_model_module_version": "1.5.0",
            "_model_name": "FloatProgressModel",
            "_view_count": null,
            "_view_module": "@jupyter-widgets/controls",
            "_view_module_version": "1.5.0",
            "_view_name": "ProgressView",
            "bar_style": "success",
            "description": "",
            "description_tooltip": null,
            "layout": "IPY_MODEL_bc23811271644988bcd294e69a8f4275",
            "max": 170498071,
            "min": 0,
            "orientation": "horizontal",
            "style": "IPY_MODEL_9da23c7e3269486b9b763b45b9d23af2",
            "value": 170498071
          }
        },
        "4eb010212c344a85a1f0a59be319fa94": {
          "model_module": "@jupyter-widgets/base",
          "model_module_version": "1.2.0",
          "model_name": "LayoutModel",
          "state": {
            "_model_module": "@jupyter-widgets/base",
            "_model_module_version": "1.2.0",
            "_model_name": "LayoutModel",
            "_view_count": null,
            "_view_module": "@jupyter-widgets/base",
            "_view_module_version": "1.2.0",
            "_view_name": "LayoutView",
            "align_content": null,
            "align_items": null,
            "align_self": null,
            "border": null,
            "bottom": null,
            "display": null,
            "flex": null,
            "flex_flow": null,
            "grid_area": null,
            "grid_auto_columns": null,
            "grid_auto_flow": null,
            "grid_auto_rows": null,
            "grid_column": null,
            "grid_gap": null,
            "grid_row": null,
            "grid_template_areas": null,
            "grid_template_columns": null,
            "grid_template_rows": null,
            "height": null,
            "justify_content": null,
            "justify_items": null,
            "left": null,
            "margin": null,
            "max_height": null,
            "max_width": null,
            "min_height": null,
            "min_width": null,
            "object_fit": null,
            "object_position": null,
            "order": null,
            "overflow": null,
            "overflow_x": null,
            "overflow_y": null,
            "padding": null,
            "right": null,
            "top": null,
            "visibility": null,
            "width": null
          }
        },
        "53375148bfb8418b80f87beaedd84d1c": {
          "model_module": "@jupyter-widgets/controls",
          "model_module_version": "1.5.0",
          "model_name": "HTMLModel",
          "state": {
            "_dom_classes": [],
            "_model_module": "@jupyter-widgets/controls",
            "_model_module_version": "1.5.0",
            "_model_name": "HTMLModel",
            "_view_count": null,
            "_view_module": "@jupyter-widgets/controls",
            "_view_module_version": "1.5.0",
            "_view_name": "HTMLView",
            "description": "",
            "description_tooltip": null,
            "layout": "IPY_MODEL_ebbe617a377b47d9ae81ad4d3bd3628b",
            "placeholder": "​",
            "style": "IPY_MODEL_aeae19d1cf694a758c6d11cc5c439b46",
            "value": "100%"
          }
        },
        "875215da87fb43c2acf427c667503fb4": {
          "model_module": "@jupyter-widgets/base",
          "model_module_version": "1.2.0",
          "model_name": "LayoutModel",
          "state": {
            "_model_module": "@jupyter-widgets/base",
            "_model_module_version": "1.2.0",
            "_model_name": "LayoutModel",
            "_view_count": null,
            "_view_module": "@jupyter-widgets/base",
            "_view_module_version": "1.2.0",
            "_view_name": "LayoutView",
            "align_content": null,
            "align_items": null,
            "align_self": null,
            "border": null,
            "bottom": null,
            "display": null,
            "flex": null,
            "flex_flow": null,
            "grid_area": null,
            "grid_auto_columns": null,
            "grid_auto_flow": null,
            "grid_auto_rows": null,
            "grid_column": null,
            "grid_gap": null,
            "grid_row": null,
            "grid_template_areas": null,
            "grid_template_columns": null,
            "grid_template_rows": null,
            "height": null,
            "justify_content": null,
            "justify_items": null,
            "left": null,
            "margin": null,
            "max_height": null,
            "max_width": null,
            "min_height": null,
            "min_width": null,
            "object_fit": null,
            "object_position": null,
            "order": null,
            "overflow": null,
            "overflow_x": null,
            "overflow_y": null,
            "padding": null,
            "right": null,
            "top": null,
            "visibility": null,
            "width": null
          }
        },
        "9575fc91b6044d18a77a00247b97f27d": {
          "model_module": "@jupyter-widgets/controls",
          "model_module_version": "1.5.0",
          "model_name": "DescriptionStyleModel",
          "state": {
            "_model_module": "@jupyter-widgets/controls",
            "_model_module_version": "1.5.0",
            "_model_name": "DescriptionStyleModel",
            "_view_count": null,
            "_view_module": "@jupyter-widgets/base",
            "_view_module_version": "1.2.0",
            "_view_name": "StyleView",
            "description_width": ""
          }
        },
        "994aca0e6eee4fbb904fe89cf2ba2723": {
          "model_module": "@jupyter-widgets/controls",
          "model_module_version": "1.5.0",
          "model_name": "HBoxModel",
          "state": {
            "_dom_classes": [],
            "_model_module": "@jupyter-widgets/controls",
            "_model_module_version": "1.5.0",
            "_model_name": "HBoxModel",
            "_view_count": null,
            "_view_module": "@jupyter-widgets/controls",
            "_view_module_version": "1.5.0",
            "_view_name": "HBoxView",
            "box_style": "",
            "children": [
              "IPY_MODEL_53375148bfb8418b80f87beaedd84d1c",
              "IPY_MODEL_2c368d957efa4d1a9464f5c5549a556d",
              "IPY_MODEL_c7b48b57ff8f47eda1112535fe65b021"
            ],
            "layout": "IPY_MODEL_875215da87fb43c2acf427c667503fb4"
          }
        },
        "9da23c7e3269486b9b763b45b9d23af2": {
          "model_module": "@jupyter-widgets/controls",
          "model_module_version": "1.5.0",
          "model_name": "ProgressStyleModel",
          "state": {
            "_model_module": "@jupyter-widgets/controls",
            "_model_module_version": "1.5.0",
            "_model_name": "ProgressStyleModel",
            "_view_count": null,
            "_view_module": "@jupyter-widgets/base",
            "_view_module_version": "1.2.0",
            "_view_name": "StyleView",
            "bar_color": null,
            "description_width": ""
          }
        },
        "aeae19d1cf694a758c6d11cc5c439b46": {
          "model_module": "@jupyter-widgets/controls",
          "model_module_version": "1.5.0",
          "model_name": "DescriptionStyleModel",
          "state": {
            "_model_module": "@jupyter-widgets/controls",
            "_model_module_version": "1.5.0",
            "_model_name": "DescriptionStyleModel",
            "_view_count": null,
            "_view_module": "@jupyter-widgets/base",
            "_view_module_version": "1.2.0",
            "_view_name": "StyleView",
            "description_width": ""
          }
        },
        "bc23811271644988bcd294e69a8f4275": {
          "model_module": "@jupyter-widgets/base",
          "model_module_version": "1.2.0",
          "model_name": "LayoutModel",
          "state": {
            "_model_module": "@jupyter-widgets/base",
            "_model_module_version": "1.2.0",
            "_model_name": "LayoutModel",
            "_view_count": null,
            "_view_module": "@jupyter-widgets/base",
            "_view_module_version": "1.2.0",
            "_view_name": "LayoutView",
            "align_content": null,
            "align_items": null,
            "align_self": null,
            "border": null,
            "bottom": null,
            "display": null,
            "flex": null,
            "flex_flow": null,
            "grid_area": null,
            "grid_auto_columns": null,
            "grid_auto_flow": null,
            "grid_auto_rows": null,
            "grid_column": null,
            "grid_gap": null,
            "grid_row": null,
            "grid_template_areas": null,
            "grid_template_columns": null,
            "grid_template_rows": null,
            "height": null,
            "justify_content": null,
            "justify_items": null,
            "left": null,
            "margin": null,
            "max_height": null,
            "max_width": null,
            "min_height": null,
            "min_width": null,
            "object_fit": null,
            "object_position": null,
            "order": null,
            "overflow": null,
            "overflow_x": null,
            "overflow_y": null,
            "padding": null,
            "right": null,
            "top": null,
            "visibility": null,
            "width": null
          }
        },
        "c7b48b57ff8f47eda1112535fe65b021": {
          "model_module": "@jupyter-widgets/controls",
          "model_module_version": "1.5.0",
          "model_name": "HTMLModel",
          "state": {
            "_dom_classes": [],
            "_model_module": "@jupyter-widgets/controls",
            "_model_module_version": "1.5.0",
            "_model_name": "HTMLModel",
            "_view_count": null,
            "_view_module": "@jupyter-widgets/controls",
            "_view_module_version": "1.5.0",
            "_view_name": "HTMLView",
            "description": "",
            "description_tooltip": null,
            "layout": "IPY_MODEL_4eb010212c344a85a1f0a59be319fa94",
            "placeholder": "​",
            "style": "IPY_MODEL_9575fc91b6044d18a77a00247b97f27d",
            "value": " 170498071/170498071 [00:03&lt;00:00, 53932311.99it/s]"
          }
        },
        "ebbe617a377b47d9ae81ad4d3bd3628b": {
          "model_module": "@jupyter-widgets/base",
          "model_module_version": "1.2.0",
          "model_name": "LayoutModel",
          "state": {
            "_model_module": "@jupyter-widgets/base",
            "_model_module_version": "1.2.0",
            "_model_name": "LayoutModel",
            "_view_count": null,
            "_view_module": "@jupyter-widgets/base",
            "_view_module_version": "1.2.0",
            "_view_name": "LayoutView",
            "align_content": null,
            "align_items": null,
            "align_self": null,
            "border": null,
            "bottom": null,
            "display": null,
            "flex": null,
            "flex_flow": null,
            "grid_area": null,
            "grid_auto_columns": null,
            "grid_auto_flow": null,
            "grid_auto_rows": null,
            "grid_column": null,
            "grid_gap": null,
            "grid_row": null,
            "grid_template_areas": null,
            "grid_template_columns": null,
            "grid_template_rows": null,
            "height": null,
            "justify_content": null,
            "justify_items": null,
            "left": null,
            "margin": null,
            "max_height": null,
            "max_width": null,
            "min_height": null,
            "min_width": null,
            "object_fit": null,
            "object_position": null,
            "order": null,
            "overflow": null,
            "overflow_x": null,
            "overflow_y": null,
            "padding": null,
            "right": null,
            "top": null,
            "visibility": null,
            "width": null
          }
        }
      }
    }
  },
  "nbformat": 4,
  "nbformat_minor": 0
}